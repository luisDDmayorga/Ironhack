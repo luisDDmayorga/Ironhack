{
 "cells": [
  {
   "cell_type": "markdown",
   "id": "595b0eb8",
   "metadata": {},
   "source": [
    "## Intro to Pandas "
   ]
  },
  {
   "cell_type": "markdown",
   "id": "732a8608",
   "metadata": {},
   "source": [
    "#### NUMPY and PANDAS "
   ]
  },
  {
   "cell_type": "code",
   "execution_count": 7,
   "id": "89e80f9f",
   "metadata": {
    "collapsed": true
   },
   "outputs": [],
   "source": [
    "#import libraries \n",
    "import numpy as np \n",
    "import pandas as pd "
   ]
  },
  {
   "cell_type": "code",
   "execution_count": null,
   "id": "f7437c09",
   "metadata": {
    "collapsed": true
   },
   "outputs": [],
   "source": [
    "#check whats in my current working directory \n",
    "!ls"
   ]
  },
  {
   "cell_type": "code",
   "execution_count": null,
   "id": "cfd9f16f",
   "metadata": {
    "collapsed": true
   },
   "outputs": [],
   "source": [
    "#move to a sub directory to check i have the files \n",
    "cd Healthcare"
   ]
  },
  {
   "cell_type": "code",
   "execution_count": null,
   "id": "25fb37c3",
   "metadata": {
    "collapsed": true
   },
   "outputs": [],
   "source": [
    "#check the files are there and their names\n",
    "!ls"
   ]
  },
  {
   "cell_type": "code",
   "execution_count": null,
   "id": "31dbfd34",
   "metadata": {
    "collapsed": true
   },
   "outputs": [],
   "source": [
    "#move up one directory (to working folder) \n",
    "cd .."
   ]
  },
  {
   "cell_type": "code",
   "execution_count": 8,
   "id": "b6e491e9",
   "metadata": {
    "collapsed": true
   },
   "outputs": [],
   "source": [
    "#read the first file - its a csv\n",
    "file1=pd.read_csv('Healthcare/file1.csv')"
   ]
  },
  {
   "cell_type": "code",
   "execution_count": 9,
   "id": "6e922907",
   "metadata": {
    "collapsed": true
   },
   "outputs": [
    {
     "data": {
      "text/plain": [
       "(1007, 17)"
      ]
     },
     "execution_count": 9,
     "metadata": {},
     "output_type": "execute_result"
    }
   ],
   "source": [
    "#check the file \n",
    "file1.shape"
   ]
  },
  {
   "cell_type": "code",
   "execution_count": 10,
   "id": "f0aa2ba4",
   "metadata": {
    "collapsed": true
   },
   "outputs": [
    {
     "data": {
      "text/html": [
       "<div>\n",
       "<style scoped>\n",
       "    .dataframe tbody tr th:only-of-type {\n",
       "        vertical-align: middle;\n",
       "    }\n",
       "\n",
       "    .dataframe tbody tr th {\n",
       "        vertical-align: top;\n",
       "    }\n",
       "\n",
       "    .dataframe thead th {\n",
       "        text-align: right;\n",
       "    }\n",
       "</style>\n",
       "<table border=\"1\" class=\"dataframe\">\n",
       "  <thead>\n",
       "    <tr style=\"text-align: right;\">\n",
       "      <th></th>\n",
       "      <th>CONTROLN</th>\n",
       "      <th>IC1</th>\n",
       "      <th>IC4</th>\n",
       "      <th>HVP1</th>\n",
       "      <th>POBC1</th>\n",
       "      <th>POBC2</th>\n",
       "      <th>IC2</th>\n",
       "      <th>IC3</th>\n",
       "      <th>AVGGIFT</th>\n",
       "      <th>TCODE</th>\n",
       "      <th>DOB</th>\n",
       "      <th>TARGET_D</th>\n",
       "    </tr>\n",
       "  </thead>\n",
       "  <tbody>\n",
       "    <tr>\n",
       "      <th>count</th>\n",
       "      <td>1007.000000</td>\n",
       "      <td>1007.000000</td>\n",
       "      <td>1006.000000</td>\n",
       "      <td>1007.000000</td>\n",
       "      <td>1007.000000</td>\n",
       "      <td>1007.000000</td>\n",
       "      <td>1006.000000</td>\n",
       "      <td>1007.000000</td>\n",
       "      <td>1007.000000</td>\n",
       "      <td>1007.000000</td>\n",
       "      <td>1007.000000</td>\n",
       "      <td>1007.000000</td>\n",
       "    </tr>\n",
       "    <tr>\n",
       "      <th>mean</th>\n",
       "      <td>98913.029791</td>\n",
       "      <td>352.015889</td>\n",
       "      <td>445.059642</td>\n",
       "      <td>16.261172</td>\n",
       "      <td>6.847071</td>\n",
       "      <td>55.630586</td>\n",
       "      <td>401.658052</td>\n",
       "      <td>400.022840</td>\n",
       "      <td>11.863404</td>\n",
       "      <td>37.747766</td>\n",
       "      <td>2555.362463</td>\n",
       "      <td>16.026604</td>\n",
       "    </tr>\n",
       "    <tr>\n",
       "      <th>std</th>\n",
       "      <td>58306.879885</td>\n",
       "      <td>173.937638</td>\n",
       "      <td>178.115476</td>\n",
       "      <td>29.464477</td>\n",
       "      <td>9.333689</td>\n",
       "      <td>21.593999</td>\n",
       "      <td>182.024618</td>\n",
       "      <td>168.901139</td>\n",
       "      <td>7.829965</td>\n",
       "      <td>213.010617</td>\n",
       "      <td>2069.953954</td>\n",
       "      <td>14.586646</td>\n",
       "    </tr>\n",
       "    <tr>\n",
       "      <th>min</th>\n",
       "      <td>71.000000</td>\n",
       "      <td>0.000000</td>\n",
       "      <td>0.000000</td>\n",
       "      <td>0.000000</td>\n",
       "      <td>0.000000</td>\n",
       "      <td>0.000000</td>\n",
       "      <td>0.000000</td>\n",
       "      <td>0.000000</td>\n",
       "      <td>2.361111</td>\n",
       "      <td>0.000000</td>\n",
       "      <td>0.000000</td>\n",
       "      <td>1.000000</td>\n",
       "    </tr>\n",
       "    <tr>\n",
       "      <th>25%</th>\n",
       "      <td>44930.500000</td>\n",
       "      <td>238.500000</td>\n",
       "      <td>325.000000</td>\n",
       "      <td>0.000000</td>\n",
       "      <td>1.000000</td>\n",
       "      <td>41.000000</td>\n",
       "      <td>283.000000</td>\n",
       "      <td>286.000000</td>\n",
       "      <td>7.285714</td>\n",
       "      <td>0.000000</td>\n",
       "      <td>0.000000</td>\n",
       "      <td>10.000000</td>\n",
       "    </tr>\n",
       "    <tr>\n",
       "      <th>50%</th>\n",
       "      <td>101113.000000</td>\n",
       "      <td>319.000000</td>\n",
       "      <td>406.000000</td>\n",
       "      <td>1.000000</td>\n",
       "      <td>4.000000</td>\n",
       "      <td>57.000000</td>\n",
       "      <td>364.500000</td>\n",
       "      <td>361.000000</td>\n",
       "      <td>10.000000</td>\n",
       "      <td>1.000000</td>\n",
       "      <td>2501.000000</td>\n",
       "      <td>13.920000</td>\n",
       "    </tr>\n",
       "    <tr>\n",
       "      <th>75%</th>\n",
       "      <td>151559.000000</td>\n",
       "      <td>421.500000</td>\n",
       "      <td>527.000000</td>\n",
       "      <td>14.000000</td>\n",
       "      <td>9.000000</td>\n",
       "      <td>74.000000</td>\n",
       "      <td>474.750000</td>\n",
       "      <td>478.000000</td>\n",
       "      <td>14.500000</td>\n",
       "      <td>2.000000</td>\n",
       "      <td>4308.500000</td>\n",
       "      <td>20.000000</td>\n",
       "    </tr>\n",
       "    <tr>\n",
       "      <th>max</th>\n",
       "      <td>191779.000000</td>\n",
       "      <td>1500.000000</td>\n",
       "      <td>1263.000000</td>\n",
       "      <td>99.000000</td>\n",
       "      <td>73.000000</td>\n",
       "      <td>96.000000</td>\n",
       "      <td>1500.000000</td>\n",
       "      <td>1185.000000</td>\n",
       "      <td>89.444444</td>\n",
       "      <td>4002.000000</td>\n",
       "      <td>8305.000000</td>\n",
       "      <td>200.000000</td>\n",
       "    </tr>\n",
       "  </tbody>\n",
       "</table>\n",
       "</div>"
      ],
      "text/plain": [
       "            CONTROLN          IC1          IC4         HVP1        POBC1  \\\n",
       "count    1007.000000  1007.000000  1006.000000  1007.000000  1007.000000   \n",
       "mean    98913.029791   352.015889   445.059642    16.261172     6.847071   \n",
       "std     58306.879885   173.937638   178.115476    29.464477     9.333689   \n",
       "min        71.000000     0.000000     0.000000     0.000000     0.000000   \n",
       "25%     44930.500000   238.500000   325.000000     0.000000     1.000000   \n",
       "50%    101113.000000   319.000000   406.000000     1.000000     4.000000   \n",
       "75%    151559.000000   421.500000   527.000000    14.000000     9.000000   \n",
       "max    191779.000000  1500.000000  1263.000000    99.000000    73.000000   \n",
       "\n",
       "             POBC2          IC2          IC3      AVGGIFT        TCODE  \\\n",
       "count  1007.000000  1006.000000  1007.000000  1007.000000  1007.000000   \n",
       "mean     55.630586   401.658052   400.022840    11.863404    37.747766   \n",
       "std      21.593999   182.024618   168.901139     7.829965   213.010617   \n",
       "min       0.000000     0.000000     0.000000     2.361111     0.000000   \n",
       "25%      41.000000   283.000000   286.000000     7.285714     0.000000   \n",
       "50%      57.000000   364.500000   361.000000    10.000000     1.000000   \n",
       "75%      74.000000   474.750000   478.000000    14.500000     2.000000   \n",
       "max      96.000000  1500.000000  1185.000000    89.444444  4002.000000   \n",
       "\n",
       "               DOB     TARGET_D  \n",
       "count  1007.000000  1007.000000  \n",
       "mean   2555.362463    16.026604  \n",
       "std    2069.953954    14.586646  \n",
       "min       0.000000     1.000000  \n",
       "25%       0.000000    10.000000  \n",
       "50%    2501.000000    13.920000  \n",
       "75%    4308.500000    20.000000  \n",
       "max    8305.000000   200.000000  "
      ]
     },
     "execution_count": 10,
     "metadata": {},
     "output_type": "execute_result"
    }
   ],
   "source": [
    "#review the numeric properties and stats \n",
    "file1.describe()"
   ]
  },
  {
   "cell_type": "code",
   "execution_count": 11,
   "id": "c513ebf7",
   "metadata": {
    "collapsed": true
   },
   "outputs": [
    {
     "name": "stdout",
     "output_type": "stream",
     "text": [
      "<class 'pandas.core.frame.DataFrame'>\n",
      "RangeIndex: 1007 entries, 0 to 1006\n",
      "Data columns (total 17 columns):\n",
      " #   Column    Non-Null Count  Dtype  \n",
      "---  ------    --------------  -----  \n",
      " 0   CONTROLN  1007 non-null   int64  \n",
      " 1   STATE     1007 non-null   object \n",
      " 2   GENDER    967 non-null    object \n",
      " 3   HV1       1005 non-null   object \n",
      " 4   IC1       1007 non-null   int64  \n",
      " 5   IC4       1006 non-null   float64\n",
      " 6   HVP1      1007 non-null   int64  \n",
      " 7   IC5       1007 non-null   object \n",
      " 8   POBC1     1007 non-null   int64  \n",
      " 9   POBC2     1007 non-null   int64  \n",
      " 10  IC2       1006 non-null   float64\n",
      " 11  IC3       1007 non-null   int64  \n",
      " 12  AVGGIFT   1007 non-null   float64\n",
      " 13  TCODE     1007 non-null   int64  \n",
      " 14  DOB       1007 non-null   int64  \n",
      " 15  DOMAIN    1007 non-null   object \n",
      " 16  TARGET_D  1007 non-null   float64\n",
      "dtypes: float64(4), int64(8), object(5)\n",
      "memory usage: 133.9+ KB\n"
     ]
    }
   ],
   "source": [
    "#look at the info -including the nulls \n",
    "file1.info()"
   ]
  },
  {
   "cell_type": "code",
   "execution_count": 12,
   "id": "cf7542a5",
   "metadata": {
    "collapsed": true
   },
   "outputs": [
    {
     "data": {
      "text/html": [
       "<div>\n",
       "<style scoped>\n",
       "    .dataframe tbody tr th:only-of-type {\n",
       "        vertical-align: middle;\n",
       "    }\n",
       "\n",
       "    .dataframe tbody tr th {\n",
       "        vertical-align: top;\n",
       "    }\n",
       "\n",
       "    .dataframe thead th {\n",
       "        text-align: right;\n",
       "    }\n",
       "</style>\n",
       "<table border=\"1\" class=\"dataframe\">\n",
       "  <thead>\n",
       "    <tr style=\"text-align: right;\">\n",
       "      <th></th>\n",
       "      <th>CONTROLN</th>\n",
       "      <th>STATE</th>\n",
       "      <th>GENDER</th>\n",
       "      <th>HV1</th>\n",
       "      <th>IC1</th>\n",
       "      <th>IC4</th>\n",
       "      <th>HVP1</th>\n",
       "      <th>IC5</th>\n",
       "      <th>POBC1</th>\n",
       "      <th>POBC2</th>\n",
       "      <th>IC2</th>\n",
       "      <th>IC3</th>\n",
       "      <th>AVGGIFT</th>\n",
       "      <th>TCODE</th>\n",
       "      <th>DOB</th>\n",
       "      <th>DOMAIN</th>\n",
       "      <th>TARGET_D</th>\n",
       "    </tr>\n",
       "  </thead>\n",
       "  <tbody>\n",
       "    <tr>\n",
       "      <th>0</th>\n",
       "      <td>44060</td>\n",
       "      <td>FL</td>\n",
       "      <td>M</td>\n",
       "      <td>AAA896</td>\n",
       "      <td>392</td>\n",
       "      <td>520.0</td>\n",
       "      <td>7</td>\n",
       "      <td>21975</td>\n",
       "      <td>6</td>\n",
       "      <td>16</td>\n",
       "      <td>430.0</td>\n",
       "      <td>466</td>\n",
       "      <td>28.000000</td>\n",
       "      <td>1</td>\n",
       "      <td>1901</td>\n",
       "      <td>C2</td>\n",
       "      <td>100.0</td>\n",
       "    </tr>\n",
       "    <tr>\n",
       "      <th>1</th>\n",
       "      <td>96093</td>\n",
       "      <td>IL</td>\n",
       "      <td>M</td>\n",
       "      <td>537.00</td>\n",
       "      <td>365</td>\n",
       "      <td>473.0</td>\n",
       "      <td>0</td>\n",
       "      <td>19387</td>\n",
       "      <td>1</td>\n",
       "      <td>89</td>\n",
       "      <td>415.0</td>\n",
       "      <td>410</td>\n",
       "      <td>5.666667</td>\n",
       "      <td>0</td>\n",
       "      <td>0</td>\n",
       "      <td>T2</td>\n",
       "      <td>7.0</td>\n",
       "    </tr>\n",
       "    <tr>\n",
       "      <th>2</th>\n",
       "      <td>43333</td>\n",
       "      <td>FL</td>\n",
       "      <td>F</td>\n",
       "      <td>725.00</td>\n",
       "      <td>301</td>\n",
       "      <td>436.0</td>\n",
       "      <td>3</td>\n",
       "      <td>18837</td>\n",
       "      <td>11</td>\n",
       "      <td>17</td>\n",
       "      <td>340.0</td>\n",
       "      <td>361</td>\n",
       "      <td>4.111111</td>\n",
       "      <td>0</td>\n",
       "      <td>2501</td>\n",
       "      <td>C2</td>\n",
       "      <td>5.0</td>\n",
       "    </tr>\n",
       "    <tr>\n",
       "      <th>3</th>\n",
       "      <td>21885</td>\n",
       "      <td>NC</td>\n",
       "      <td>M</td>\n",
       "      <td>AAA1095</td>\n",
       "      <td>401</td>\n",
       "      <td>413.0</td>\n",
       "      <td>7</td>\n",
       "      <td>14014</td>\n",
       "      <td>1</td>\n",
       "      <td>74</td>\n",
       "      <td>407.0</td>\n",
       "      <td>399</td>\n",
       "      <td>27.277778</td>\n",
       "      <td>0</td>\n",
       "      <td>2208</td>\n",
       "      <td>T2</td>\n",
       "      <td>38.0</td>\n",
       "    </tr>\n",
       "    <tr>\n",
       "      <th>4</th>\n",
       "      <td>190108</td>\n",
       "      <td>FL</td>\n",
       "      <td>F</td>\n",
       "      <td>995.00</td>\n",
       "      <td>252</td>\n",
       "      <td>348.0</td>\n",
       "      <td>0</td>\n",
       "      <td>17991</td>\n",
       "      <td>5</td>\n",
       "      <td>6</td>\n",
       "      <td>280.0</td>\n",
       "      <td>316</td>\n",
       "      <td>6.000000</td>\n",
       "      <td>28</td>\n",
       "      <td>0</td>\n",
       "      <td>C2</td>\n",
       "      <td>5.0</td>\n",
       "    </tr>\n",
       "  </tbody>\n",
       "</table>\n",
       "</div>"
      ],
      "text/plain": [
       "   CONTROLN STATE GENDER      HV1  IC1    IC4  HVP1    IC5  POBC1  POBC2  \\\n",
       "0     44060    FL      M   AAA896  392  520.0     7  21975      6     16   \n",
       "1     96093    IL      M   537.00  365  473.0     0  19387      1     89   \n",
       "2     43333    FL      F   725.00  301  436.0     3  18837     11     17   \n",
       "3     21885    NC      M  AAA1095  401  413.0     7  14014      1     74   \n",
       "4    190108    FL      F   995.00  252  348.0     0  17991      5      6   \n",
       "\n",
       "     IC2  IC3    AVGGIFT  TCODE   DOB DOMAIN  TARGET_D  \n",
       "0  430.0  466  28.000000      1  1901     C2     100.0  \n",
       "1  415.0  410   5.666667      0     0     T2       7.0  \n",
       "2  340.0  361   4.111111      0  2501     C2       5.0  \n",
       "3  407.0  399  27.277778      0  2208     T2      38.0  \n",
       "4  280.0  316   6.000000     28     0     C2       5.0  "
      ]
     },
     "execution_count": 12,
     "metadata": {},
     "output_type": "execute_result"
    }
   ],
   "source": [
    "#review the top few rows \n",
    "file1.head()"
   ]
  },
  {
   "cell_type": "code",
   "execution_count": 13,
   "id": "a144c8e6",
   "metadata": {
    "collapsed": true
   },
   "outputs": [],
   "source": [
    "#read the second file in - its a txt file, tab separated \n",
    "file2=pd.read_csv('Healthcare/file2.txt',sep='\\t')"
   ]
  },
  {
   "cell_type": "code",
   "execution_count": 14,
   "id": "2333e875",
   "metadata": {
    "collapsed": true
   },
   "outputs": [
    {
     "data": {
      "text/html": [
       "<div>\n",
       "<style scoped>\n",
       "    .dataframe tbody tr th:only-of-type {\n",
       "        vertical-align: middle;\n",
       "    }\n",
       "\n",
       "    .dataframe tbody tr th {\n",
       "        vertical-align: top;\n",
       "    }\n",
       "\n",
       "    .dataframe thead th {\n",
       "        text-align: right;\n",
       "    }\n",
       "</style>\n",
       "<table border=\"1\" class=\"dataframe\">\n",
       "  <thead>\n",
       "    <tr style=\"text-align: right;\">\n",
       "      <th></th>\n",
       "      <th>CONTROLN</th>\n",
       "      <th>STATE</th>\n",
       "      <th>GENDER</th>\n",
       "      <th>HV1</th>\n",
       "      <th>IC1</th>\n",
       "      <th>IC4</th>\n",
       "      <th>HVP1</th>\n",
       "      <th>IC5</th>\n",
       "      <th>POBC1</th>\n",
       "      <th>POBC2</th>\n",
       "      <th>IC2</th>\n",
       "      <th>IC3</th>\n",
       "      <th>AVGGIFT</th>\n",
       "      <th>TCODE</th>\n",
       "      <th>DOB</th>\n",
       "      <th>DOMAIN</th>\n",
       "      <th>TARGET_D</th>\n",
       "    </tr>\n",
       "  </thead>\n",
       "  <tbody>\n",
       "    <tr>\n",
       "      <th>0</th>\n",
       "      <td>190579</td>\n",
       "      <td>CA</td>\n",
       "      <td>M</td>\n",
       "      <td>3200</td>\n",
       "      <td>310</td>\n",
       "      <td>343</td>\n",
       "      <td>83</td>\n",
       "      <td>17224</td>\n",
       "      <td>31</td>\n",
       "      <td>32</td>\n",
       "      <td>311</td>\n",
       "      <td>333</td>\n",
       "      <td>3.106061</td>\n",
       "      <td>1</td>\n",
       "      <td>0</td>\n",
       "      <td>U1</td>\n",
       "      <td>4.0</td>\n",
       "    </tr>\n",
       "    <tr>\n",
       "      <th>1</th>\n",
       "      <td>42997</td>\n",
       "      <td>FL</td>\n",
       "      <td>F</td>\n",
       "      <td>1567</td>\n",
       "      <td>392</td>\n",
       "      <td>409</td>\n",
       "      <td>27</td>\n",
       "      <td>18631</td>\n",
       "      <td>4</td>\n",
       "      <td>10</td>\n",
       "      <td>391</td>\n",
       "      <td>434</td>\n",
       "      <td>6.562500</td>\n",
       "      <td>2</td>\n",
       "      <td>1808</td>\n",
       "      <td>C1</td>\n",
       "      <td>7.0</td>\n",
       "    </tr>\n",
       "    <tr>\n",
       "      <th>2</th>\n",
       "      <td>132896</td>\n",
       "      <td>OR</td>\n",
       "      <td>F</td>\n",
       "      <td>953</td>\n",
       "      <td>319</td>\n",
       "      <td>455</td>\n",
       "      <td>1</td>\n",
       "      <td>15729</td>\n",
       "      <td>3</td>\n",
       "      <td>45</td>\n",
       "      <td>379</td>\n",
       "      <td>387</td>\n",
       "      <td>15.571429</td>\n",
       "      <td>2</td>\n",
       "      <td>4410</td>\n",
       "      <td>T1</td>\n",
       "      <td>25.0</td>\n",
       "    </tr>\n",
       "    <tr>\n",
       "      <th>3</th>\n",
       "      <td>120189</td>\n",
       "      <td>TX</td>\n",
       "      <td>M</td>\n",
       "      <td>492</td>\n",
       "      <td>244</td>\n",
       "      <td>301</td>\n",
       "      <td>3</td>\n",
       "      <td>10818</td>\n",
       "      <td>0</td>\n",
       "      <td>92</td>\n",
       "      <td>260</td>\n",
       "      <td>284</td>\n",
       "      <td>19.375000</td>\n",
       "      <td>0</td>\n",
       "      <td>0</td>\n",
       "      <td>T2</td>\n",
       "      <td>25.0</td>\n",
       "    </tr>\n",
       "    <tr>\n",
       "      <th>4</th>\n",
       "      <td>138829</td>\n",
       "      <td>AZ</td>\n",
       "      <td>feamale</td>\n",
       "      <td>847</td>\n",
       "      <td>185</td>\n",
       "      <td>308</td>\n",
       "      <td>0</td>\n",
       "      <td>11582</td>\n",
       "      <td>3</td>\n",
       "      <td>20</td>\n",
       "      <td>238</td>\n",
       "      <td>225</td>\n",
       "      <td>11.500000</td>\n",
       "      <td>28</td>\n",
       "      <td>3601</td>\n",
       "      <td>T2</td>\n",
       "      <td>25.0</td>\n",
       "    </tr>\n",
       "  </tbody>\n",
       "</table>\n",
       "</div>"
      ],
      "text/plain": [
       "   CONTROLN STATE   GENDER   HV1  IC1  IC4  HVP1    IC5  POBC1  POBC2  IC2  \\\n",
       "0    190579    CA        M  3200  310  343    83  17224     31     32  311   \n",
       "1     42997    FL        F  1567  392  409    27  18631      4     10  391   \n",
       "2    132896    OR        F   953  319  455     1  15729      3     45  379   \n",
       "3    120189    TX        M   492  244  301     3  10818      0     92  260   \n",
       "4    138829    AZ  feamale   847  185  308     0  11582      3     20  238   \n",
       "\n",
       "   IC3    AVGGIFT  TCODE   DOB DOMAIN  TARGET_D  \n",
       "0  333   3.106061      1     0     U1       4.0  \n",
       "1  434   6.562500      2  1808     C1       7.0  \n",
       "2  387  15.571429      2  4410     T1      25.0  \n",
       "3  284  19.375000      0     0     T2      25.0  \n",
       "4  225  11.500000     28  3601     T2      25.0  "
      ]
     },
     "execution_count": 14,
     "metadata": {},
     "output_type": "execute_result"
    }
   ],
   "source": [
    "#check the file \n",
    "file2.head()"
   ]
  },
  {
   "cell_type": "code",
   "execution_count": 15,
   "id": "ea9d3ee5",
   "metadata": {
    "collapsed": true
   },
   "outputs": [
    {
     "data": {
      "text/plain": [
       "(1015, 17)"
      ]
     },
     "execution_count": 15,
     "metadata": {},
     "output_type": "execute_result"
    }
   ],
   "source": [
    "#check the same number of columns in the two files. \n",
    "# we could also check the headers are matching !\n",
    "file2.shape"
   ]
  },
  {
   "cell_type": "code",
   "execution_count": 16,
   "id": "f2e3adb8",
   "metadata": {
    "collapsed": true
   },
   "outputs": [
    {
     "data": {
      "text/plain": [
       "(1007, 17)"
      ]
     },
     "execution_count": 16,
     "metadata": {},
     "output_type": "execute_result"
    }
   ],
   "source": [
    "file1.shape"
   ]
  },
  {
   "cell_type": "code",
   "execution_count": 17,
   "id": "e38c9504",
   "metadata": {
    "collapsed": true
   },
   "outputs": [],
   "source": [
    "#read the file 3 - its an excel\n",
    "file3=pd.read_excel('Healthcare/file3.xlsx',engine='openpyxl')"
   ]
  },
  {
   "cell_type": "code",
   "execution_count": 18,
   "id": "0b443ca1",
   "metadata": {
    "collapsed": true
   },
   "outputs": [],
   "source": [
    "#same for file4 \n",
    "file4=pd.read_excel('Healthcare/file4.xlsx',engine='openpyxl')"
   ]
  },
  {
   "cell_type": "code",
   "execution_count": 19,
   "id": "064eaae4",
   "metadata": {
    "collapsed": true
   },
   "outputs": [
    {
     "name": "stdout",
     "output_type": "stream",
     "text": [
      "Collecting package metadata (current_repodata.json): done\n",
      "Solving environment: done\n",
      "\n",
      "# All requested packages already installed.\n",
      "\n"
     ]
    }
   ],
   "source": [
    "#for excel you might need an extra package. \n",
    "#i am checking to see if installed\n",
    "#if not installed, then I close down jupyter, go to the terminal \n",
    "#and install the package with conda install openpyxl \n",
    "!conda install openpyxl"
   ]
  },
  {
   "cell_type": "code",
   "execution_count": 20,
   "id": "35be6c4e",
   "metadata": {
    "collapsed": true
   },
   "outputs": [],
   "source": [
    "#set column headers - this is not always necessary, but its good practice\n",
    "columns=file1.columns"
   ]
  },
  {
   "cell_type": "code",
   "execution_count": 21,
   "id": "473b4d2d",
   "metadata": {
    "collapsed": true
   },
   "outputs": [
    {
     "data": {
      "text/plain": [
       "Index(['CONTROLN', 'STATE', 'GENDER', 'HV1', 'IC1', 'IC4', 'HVP1', 'IC5',\n",
       "       'POBC1', 'POBC2', 'IC2', 'IC3', 'AVGGIFT', 'TCODE', 'DOB', 'DOMAIN',\n",
       "       'TARGET_D'],\n",
       "      dtype='object')"
      ]
     },
     "execution_count": 21,
     "metadata": {},
     "output_type": "execute_result"
    }
   ],
   "source": [
    "#check the variable \n",
    "columns"
   ]
  },
  {
   "cell_type": "code",
   "execution_count": 22,
   "id": "457270ac",
   "metadata": {
    "collapsed": true
   },
   "outputs": [],
   "source": [
    "#create data frame \n",
    "data=pd.DataFrame(columns=columns)"
   ]
  },
  {
   "cell_type": "code",
   "execution_count": 23,
   "id": "31b77d1d",
   "metadata": {
    "collapsed": true
   },
   "outputs": [
    {
     "data": {
      "text/html": [
       "<div>\n",
       "<style scoped>\n",
       "    .dataframe tbody tr th:only-of-type {\n",
       "        vertical-align: middle;\n",
       "    }\n",
       "\n",
       "    .dataframe tbody tr th {\n",
       "        vertical-align: top;\n",
       "    }\n",
       "\n",
       "    .dataframe thead th {\n",
       "        text-align: right;\n",
       "    }\n",
       "</style>\n",
       "<table border=\"1\" class=\"dataframe\">\n",
       "  <thead>\n",
       "    <tr style=\"text-align: right;\">\n",
       "      <th></th>\n",
       "      <th>CONTROLN</th>\n",
       "      <th>STATE</th>\n",
       "      <th>GENDER</th>\n",
       "      <th>HV1</th>\n",
       "      <th>IC1</th>\n",
       "      <th>IC4</th>\n",
       "      <th>HVP1</th>\n",
       "      <th>IC5</th>\n",
       "      <th>POBC1</th>\n",
       "      <th>POBC2</th>\n",
       "      <th>IC2</th>\n",
       "      <th>IC3</th>\n",
       "      <th>AVGGIFT</th>\n",
       "      <th>TCODE</th>\n",
       "      <th>DOB</th>\n",
       "      <th>DOMAIN</th>\n",
       "      <th>TARGET_D</th>\n",
       "    </tr>\n",
       "  </thead>\n",
       "  <tbody>\n",
       "  </tbody>\n",
       "</table>\n",
       "</div>"
      ],
      "text/plain": [
       "Empty DataFrame\n",
       "Columns: [CONTROLN, STATE, GENDER, HV1, IC1, IC4, HVP1, IC5, POBC1, POBC2, IC2, IC3, AVGGIFT, TCODE, DOB, DOMAIN, TARGET_D]\n",
       "Index: []"
      ]
     },
     "execution_count": 23,
     "metadata": {},
     "output_type": "execute_result"
    }
   ],
   "source": [
    "data"
   ]
  },
  {
   "cell_type": "code",
   "execution_count": 24,
   "id": "a587e142",
   "metadata": {
    "collapsed": true
   },
   "outputs": [],
   "source": [
    "#join the data frame with the first file \n",
    "data=pd.concat([data,file1],axis=0)"
   ]
  },
  {
   "cell_type": "code",
   "execution_count": 25,
   "id": "9b65996c",
   "metadata": {
    "collapsed": true
   },
   "outputs": [],
   "source": [
    "#join the data frame with the other files \n",
    "data=pd.concat([data,file2,file3,file4],axis=0)"
   ]
  },
  {
   "cell_type": "code",
   "execution_count": 26,
   "id": "87f53f50",
   "metadata": {
    "collapsed": true
   },
   "outputs": [
    {
     "name": "stdout",
     "output_type": "stream",
     "text": [
      "<class 'pandas.core.frame.DataFrame'>\n",
      "Int64Index: 4028 entries, 0 to 1005\n",
      "Data columns (total 17 columns):\n",
      " #   Column    Non-Null Count  Dtype  \n",
      "---  ------    --------------  -----  \n",
      " 0   CONTROLN  4028 non-null   object \n",
      " 1   STATE     4028 non-null   object \n",
      " 2   GENDER    3892 non-null   object \n",
      " 3   HV1       4026 non-null   object \n",
      " 4   IC1       4028 non-null   object \n",
      " 5   IC4       4027 non-null   float64\n",
      " 6   HVP1      4028 non-null   object \n",
      " 7   IC5       4028 non-null   object \n",
      " 8   POBC1     4028 non-null   object \n",
      " 9   POBC2     4028 non-null   object \n",
      " 10  IC2       4027 non-null   float64\n",
      " 11  IC3       4028 non-null   object \n",
      " 12  AVGGIFT   4028 non-null   float64\n",
      " 13  TCODE     4028 non-null   object \n",
      " 14  DOB       4028 non-null   object \n",
      " 15  DOMAIN    4028 non-null   object \n",
      " 16  TARGET_D  4028 non-null   float64\n",
      "dtypes: float64(4), object(13)\n",
      "memory usage: 566.4+ KB\n"
     ]
    }
   ],
   "source": [
    "#check the data frame - should be 4028 rows \n",
    "data.info()"
   ]
  },
  {
   "cell_type": "code",
   "execution_count": 27,
   "id": "5c2bb62d",
   "metadata": {
    "collapsed": true
   },
   "outputs": [
    {
     "data": {
      "text/html": [
       "<div>\n",
       "<style scoped>\n",
       "    .dataframe tbody tr th:only-of-type {\n",
       "        vertical-align: middle;\n",
       "    }\n",
       "\n",
       "    .dataframe tbody tr th {\n",
       "        vertical-align: top;\n",
       "    }\n",
       "\n",
       "    .dataframe thead th {\n",
       "        text-align: right;\n",
       "    }\n",
       "</style>\n",
       "<table border=\"1\" class=\"dataframe\">\n",
       "  <thead>\n",
       "    <tr style=\"text-align: right;\">\n",
       "      <th></th>\n",
       "      <th>CONTROLN</th>\n",
       "      <th>STATE</th>\n",
       "      <th>GENDER</th>\n",
       "      <th>HV1</th>\n",
       "      <th>IC1</th>\n",
       "      <th>IC4</th>\n",
       "      <th>HVP1</th>\n",
       "      <th>IC5</th>\n",
       "      <th>POBC1</th>\n",
       "      <th>POBC2</th>\n",
       "      <th>IC2</th>\n",
       "      <th>IC3</th>\n",
       "      <th>AVGGIFT</th>\n",
       "      <th>TCODE</th>\n",
       "      <th>DOB</th>\n",
       "      <th>DOMAIN</th>\n",
       "      <th>TARGET_D</th>\n",
       "    </tr>\n",
       "  </thead>\n",
       "  <tbody>\n",
       "    <tr>\n",
       "      <th>0</th>\n",
       "      <td>44060</td>\n",
       "      <td>FL</td>\n",
       "      <td>M</td>\n",
       "      <td>AAA896</td>\n",
       "      <td>392</td>\n",
       "      <td>520.0</td>\n",
       "      <td>7</td>\n",
       "      <td>21975</td>\n",
       "      <td>6</td>\n",
       "      <td>16</td>\n",
       "      <td>430.0</td>\n",
       "      <td>466</td>\n",
       "      <td>28.000000</td>\n",
       "      <td>1</td>\n",
       "      <td>1901</td>\n",
       "      <td>C2</td>\n",
       "      <td>100.0</td>\n",
       "    </tr>\n",
       "    <tr>\n",
       "      <th>1</th>\n",
       "      <td>96093</td>\n",
       "      <td>IL</td>\n",
       "      <td>M</td>\n",
       "      <td>537.00</td>\n",
       "      <td>365</td>\n",
       "      <td>473.0</td>\n",
       "      <td>0</td>\n",
       "      <td>19387</td>\n",
       "      <td>1</td>\n",
       "      <td>89</td>\n",
       "      <td>415.0</td>\n",
       "      <td>410</td>\n",
       "      <td>5.666667</td>\n",
       "      <td>0</td>\n",
       "      <td>0</td>\n",
       "      <td>T2</td>\n",
       "      <td>7.0</td>\n",
       "    </tr>\n",
       "    <tr>\n",
       "      <th>2</th>\n",
       "      <td>43333</td>\n",
       "      <td>FL</td>\n",
       "      <td>F</td>\n",
       "      <td>725.00</td>\n",
       "      <td>301</td>\n",
       "      <td>436.0</td>\n",
       "      <td>3</td>\n",
       "      <td>18837</td>\n",
       "      <td>11</td>\n",
       "      <td>17</td>\n",
       "      <td>340.0</td>\n",
       "      <td>361</td>\n",
       "      <td>4.111111</td>\n",
       "      <td>0</td>\n",
       "      <td>2501</td>\n",
       "      <td>C2</td>\n",
       "      <td>5.0</td>\n",
       "    </tr>\n",
       "    <tr>\n",
       "      <th>3</th>\n",
       "      <td>21885</td>\n",
       "      <td>NC</td>\n",
       "      <td>M</td>\n",
       "      <td>AAA1095</td>\n",
       "      <td>401</td>\n",
       "      <td>413.0</td>\n",
       "      <td>7</td>\n",
       "      <td>14014</td>\n",
       "      <td>1</td>\n",
       "      <td>74</td>\n",
       "      <td>407.0</td>\n",
       "      <td>399</td>\n",
       "      <td>27.277778</td>\n",
       "      <td>0</td>\n",
       "      <td>2208</td>\n",
       "      <td>T2</td>\n",
       "      <td>38.0</td>\n",
       "    </tr>\n",
       "    <tr>\n",
       "      <th>4</th>\n",
       "      <td>190108</td>\n",
       "      <td>FL</td>\n",
       "      <td>F</td>\n",
       "      <td>995.00</td>\n",
       "      <td>252</td>\n",
       "      <td>348.0</td>\n",
       "      <td>0</td>\n",
       "      <td>17991</td>\n",
       "      <td>5</td>\n",
       "      <td>6</td>\n",
       "      <td>280.0</td>\n",
       "      <td>316</td>\n",
       "      <td>6.000000</td>\n",
       "      <td>28</td>\n",
       "      <td>0</td>\n",
       "      <td>C2</td>\n",
       "      <td>5.0</td>\n",
       "    </tr>\n",
       "  </tbody>\n",
       "</table>\n",
       "</div>"
      ],
      "text/plain": [
       "  CONTROLN STATE GENDER      HV1  IC1    IC4 HVP1    IC5 POBC1 POBC2    IC2  \\\n",
       "0    44060    FL      M   AAA896  392  520.0    7  21975     6    16  430.0   \n",
       "1    96093    IL      M   537.00  365  473.0    0  19387     1    89  415.0   \n",
       "2    43333    FL      F   725.00  301  436.0    3  18837    11    17  340.0   \n",
       "3    21885    NC      M  AAA1095  401  413.0    7  14014     1    74  407.0   \n",
       "4   190108    FL      F   995.00  252  348.0    0  17991     5     6  280.0   \n",
       "\n",
       "   IC3    AVGGIFT TCODE   DOB DOMAIN  TARGET_D  \n",
       "0  466  28.000000     1  1901     C2     100.0  \n",
       "1  410   5.666667     0     0     T2       7.0  \n",
       "2  361   4.111111     0  2501     C2       5.0  \n",
       "3  399  27.277778     0  2208     T2      38.0  \n",
       "4  316   6.000000    28     0     C2       5.0  "
      ]
     },
     "execution_count": 27,
     "metadata": {},
     "output_type": "execute_result"
    }
   ],
   "source": [
    "data.head()"
   ]
  },
  {
   "cell_type": "markdown",
   "id": "ac85f168",
   "metadata": {},
   "source": [
    "## some cleaning steps \n",
    "- change headers to lower case \n",
    "- revision of for loops "
   ]
  },
  {
   "cell_type": "code",
   "execution_count": 29,
   "id": "1ed93f73",
   "metadata": {
    "collapsed": true
   },
   "outputs": [],
   "source": [
    "cols=[]\n",
    "for i in range(len(data.columns)):\n",
    "    cols.append(data.columns[i].lower())\n",
    "\n",
    "#this is the function : data.columns.lower()"
   ]
  },
  {
   "cell_type": "code",
   "execution_count": 30,
   "id": "00126b4e",
   "metadata": {
    "collapsed": true
   },
   "outputs": [],
   "source": [
    "data.columns=cols"
   ]
  },
  {
   "cell_type": "code",
   "execution_count": 32,
   "id": "b5b688c3",
   "metadata": {},
   "outputs": [
    {
     "data": {
      "text/html": [
       "<div>\n",
       "<style scoped>\n",
       "    .dataframe tbody tr th:only-of-type {\n",
       "        vertical-align: middle;\n",
       "    }\n",
       "\n",
       "    .dataframe tbody tr th {\n",
       "        vertical-align: top;\n",
       "    }\n",
       "\n",
       "    .dataframe thead th {\n",
       "        text-align: right;\n",
       "    }\n",
       "</style>\n",
       "<table border=\"1\" class=\"dataframe\">\n",
       "  <thead>\n",
       "    <tr style=\"text-align: right;\">\n",
       "      <th></th>\n",
       "      <th>controln</th>\n",
       "      <th>state</th>\n",
       "      <th>gender</th>\n",
       "      <th>hv1</th>\n",
       "      <th>ic1</th>\n",
       "      <th>ic4</th>\n",
       "      <th>hvp1</th>\n",
       "      <th>ic5</th>\n",
       "      <th>pobc1</th>\n",
       "      <th>pobc2</th>\n",
       "      <th>ic2</th>\n",
       "      <th>ic3</th>\n",
       "      <th>avggift</th>\n",
       "      <th>tcode</th>\n",
       "      <th>dob</th>\n",
       "      <th>domain</th>\n",
       "      <th>target_d</th>\n",
       "    </tr>\n",
       "  </thead>\n",
       "  <tbody>\n",
       "    <tr>\n",
       "      <th>0</th>\n",
       "      <td>44060</td>\n",
       "      <td>FL</td>\n",
       "      <td>M</td>\n",
       "      <td>AAA896</td>\n",
       "      <td>392</td>\n",
       "      <td>520.0</td>\n",
       "      <td>7</td>\n",
       "      <td>21975</td>\n",
       "      <td>6</td>\n",
       "      <td>16</td>\n",
       "      <td>430.0</td>\n",
       "      <td>466</td>\n",
       "      <td>28.000000</td>\n",
       "      <td>1</td>\n",
       "      <td>1901</td>\n",
       "      <td>C2</td>\n",
       "      <td>100.0</td>\n",
       "    </tr>\n",
       "    <tr>\n",
       "      <th>1</th>\n",
       "      <td>96093</td>\n",
       "      <td>IL</td>\n",
       "      <td>M</td>\n",
       "      <td>537.00</td>\n",
       "      <td>365</td>\n",
       "      <td>473.0</td>\n",
       "      <td>0</td>\n",
       "      <td>19387</td>\n",
       "      <td>1</td>\n",
       "      <td>89</td>\n",
       "      <td>415.0</td>\n",
       "      <td>410</td>\n",
       "      <td>5.666667</td>\n",
       "      <td>0</td>\n",
       "      <td>0</td>\n",
       "      <td>T2</td>\n",
       "      <td>7.0</td>\n",
       "    </tr>\n",
       "    <tr>\n",
       "      <th>2</th>\n",
       "      <td>43333</td>\n",
       "      <td>FL</td>\n",
       "      <td>F</td>\n",
       "      <td>725.00</td>\n",
       "      <td>301</td>\n",
       "      <td>436.0</td>\n",
       "      <td>3</td>\n",
       "      <td>18837</td>\n",
       "      <td>11</td>\n",
       "      <td>17</td>\n",
       "      <td>340.0</td>\n",
       "      <td>361</td>\n",
       "      <td>4.111111</td>\n",
       "      <td>0</td>\n",
       "      <td>2501</td>\n",
       "      <td>C2</td>\n",
       "      <td>5.0</td>\n",
       "    </tr>\n",
       "    <tr>\n",
       "      <th>3</th>\n",
       "      <td>21885</td>\n",
       "      <td>NC</td>\n",
       "      <td>M</td>\n",
       "      <td>AAA1095</td>\n",
       "      <td>401</td>\n",
       "      <td>413.0</td>\n",
       "      <td>7</td>\n",
       "      <td>14014</td>\n",
       "      <td>1</td>\n",
       "      <td>74</td>\n",
       "      <td>407.0</td>\n",
       "      <td>399</td>\n",
       "      <td>27.277778</td>\n",
       "      <td>0</td>\n",
       "      <td>2208</td>\n",
       "      <td>T2</td>\n",
       "      <td>38.0</td>\n",
       "    </tr>\n",
       "    <tr>\n",
       "      <th>4</th>\n",
       "      <td>190108</td>\n",
       "      <td>FL</td>\n",
       "      <td>F</td>\n",
       "      <td>995.00</td>\n",
       "      <td>252</td>\n",
       "      <td>348.0</td>\n",
       "      <td>0</td>\n",
       "      <td>17991</td>\n",
       "      <td>5</td>\n",
       "      <td>6</td>\n",
       "      <td>280.0</td>\n",
       "      <td>316</td>\n",
       "      <td>6.000000</td>\n",
       "      <td>28</td>\n",
       "      <td>0</td>\n",
       "      <td>C2</td>\n",
       "      <td>5.0</td>\n",
       "    </tr>\n",
       "  </tbody>\n",
       "</table>\n",
       "</div>"
      ],
      "text/plain": [
       "  controln state gender      hv1  ic1    ic4 hvp1    ic5 pobc1 pobc2    ic2  \\\n",
       "0    44060    FL      M   AAA896  392  520.0    7  21975     6    16  430.0   \n",
       "1    96093    IL      M   537.00  365  473.0    0  19387     1    89  415.0   \n",
       "2    43333    FL      F   725.00  301  436.0    3  18837    11    17  340.0   \n",
       "3    21885    NC      M  AAA1095  401  413.0    7  14014     1    74  407.0   \n",
       "4   190108    FL      F   995.00  252  348.0    0  17991     5     6  280.0   \n",
       "\n",
       "   ic3    avggift tcode   dob domain  target_d  \n",
       "0  466  28.000000     1  1901     C2     100.0  \n",
       "1  410   5.666667     0     0     T2       7.0  \n",
       "2  361   4.111111     0  2501     C2       5.0  \n",
       "3  399  27.277778     0  2208     T2      38.0  \n",
       "4  316   6.000000    28     0     C2       5.0  "
      ]
     },
     "execution_count": 32,
     "metadata": {},
     "output_type": "execute_result"
    }
   ],
   "source": [
    "data.head()"
   ]
  },
  {
   "cell_type": "markdown",
   "id": "e5bd31b7",
   "metadata": {},
   "source": [
    "### drop columns "
   ]
  },
  {
   "cell_type": "code",
   "execution_count": 33,
   "id": "6c198652",
   "metadata": {},
   "outputs": [],
   "source": [
    "datanew=data.drop(['controln','hv1'],axis=1)"
   ]
  },
  {
   "cell_type": "code",
   "execution_count": 34,
   "id": "fa77dd77",
   "metadata": {},
   "outputs": [
    {
     "data": {
      "text/html": [
       "<div>\n",
       "<style scoped>\n",
       "    .dataframe tbody tr th:only-of-type {\n",
       "        vertical-align: middle;\n",
       "    }\n",
       "\n",
       "    .dataframe tbody tr th {\n",
       "        vertical-align: top;\n",
       "    }\n",
       "\n",
       "    .dataframe thead th {\n",
       "        text-align: right;\n",
       "    }\n",
       "</style>\n",
       "<table border=\"1\" class=\"dataframe\">\n",
       "  <thead>\n",
       "    <tr style=\"text-align: right;\">\n",
       "      <th></th>\n",
       "      <th>state</th>\n",
       "      <th>gender</th>\n",
       "      <th>ic1</th>\n",
       "      <th>ic4</th>\n",
       "      <th>hvp1</th>\n",
       "      <th>ic5</th>\n",
       "      <th>pobc1</th>\n",
       "      <th>pobc2</th>\n",
       "      <th>ic2</th>\n",
       "      <th>ic3</th>\n",
       "      <th>avggift</th>\n",
       "      <th>tcode</th>\n",
       "      <th>dob</th>\n",
       "      <th>domain</th>\n",
       "      <th>target_d</th>\n",
       "    </tr>\n",
       "  </thead>\n",
       "  <tbody>\n",
       "    <tr>\n",
       "      <th>0</th>\n",
       "      <td>FL</td>\n",
       "      <td>M</td>\n",
       "      <td>392</td>\n",
       "      <td>520.0</td>\n",
       "      <td>7</td>\n",
       "      <td>21975</td>\n",
       "      <td>6</td>\n",
       "      <td>16</td>\n",
       "      <td>430.0</td>\n",
       "      <td>466</td>\n",
       "      <td>28.000000</td>\n",
       "      <td>1</td>\n",
       "      <td>1901</td>\n",
       "      <td>C2</td>\n",
       "      <td>100.0</td>\n",
       "    </tr>\n",
       "    <tr>\n",
       "      <th>1</th>\n",
       "      <td>IL</td>\n",
       "      <td>M</td>\n",
       "      <td>365</td>\n",
       "      <td>473.0</td>\n",
       "      <td>0</td>\n",
       "      <td>19387</td>\n",
       "      <td>1</td>\n",
       "      <td>89</td>\n",
       "      <td>415.0</td>\n",
       "      <td>410</td>\n",
       "      <td>5.666667</td>\n",
       "      <td>0</td>\n",
       "      <td>0</td>\n",
       "      <td>T2</td>\n",
       "      <td>7.0</td>\n",
       "    </tr>\n",
       "    <tr>\n",
       "      <th>2</th>\n",
       "      <td>FL</td>\n",
       "      <td>F</td>\n",
       "      <td>301</td>\n",
       "      <td>436.0</td>\n",
       "      <td>3</td>\n",
       "      <td>18837</td>\n",
       "      <td>11</td>\n",
       "      <td>17</td>\n",
       "      <td>340.0</td>\n",
       "      <td>361</td>\n",
       "      <td>4.111111</td>\n",
       "      <td>0</td>\n",
       "      <td>2501</td>\n",
       "      <td>C2</td>\n",
       "      <td>5.0</td>\n",
       "    </tr>\n",
       "    <tr>\n",
       "      <th>3</th>\n",
       "      <td>NC</td>\n",
       "      <td>M</td>\n",
       "      <td>401</td>\n",
       "      <td>413.0</td>\n",
       "      <td>7</td>\n",
       "      <td>14014</td>\n",
       "      <td>1</td>\n",
       "      <td>74</td>\n",
       "      <td>407.0</td>\n",
       "      <td>399</td>\n",
       "      <td>27.277778</td>\n",
       "      <td>0</td>\n",
       "      <td>2208</td>\n",
       "      <td>T2</td>\n",
       "      <td>38.0</td>\n",
       "    </tr>\n",
       "    <tr>\n",
       "      <th>4</th>\n",
       "      <td>FL</td>\n",
       "      <td>F</td>\n",
       "      <td>252</td>\n",
       "      <td>348.0</td>\n",
       "      <td>0</td>\n",
       "      <td>17991</td>\n",
       "      <td>5</td>\n",
       "      <td>6</td>\n",
       "      <td>280.0</td>\n",
       "      <td>316</td>\n",
       "      <td>6.000000</td>\n",
       "      <td>28</td>\n",
       "      <td>0</td>\n",
       "      <td>C2</td>\n",
       "      <td>5.0</td>\n",
       "    </tr>\n",
       "  </tbody>\n",
       "</table>\n",
       "</div>"
      ],
      "text/plain": [
       "  state gender  ic1    ic4 hvp1    ic5 pobc1 pobc2    ic2  ic3    avggift  \\\n",
       "0    FL      M  392  520.0    7  21975     6    16  430.0  466  28.000000   \n",
       "1    IL      M  365  473.0    0  19387     1    89  415.0  410   5.666667   \n",
       "2    FL      F  301  436.0    3  18837    11    17  340.0  361   4.111111   \n",
       "3    NC      M  401  413.0    7  14014     1    74  407.0  399  27.277778   \n",
       "4    FL      F  252  348.0    0  17991     5     6  280.0  316   6.000000   \n",
       "\n",
       "  tcode   dob domain  target_d  \n",
       "0     1  1901     C2     100.0  \n",
       "1     0     0     T2       7.0  \n",
       "2     0  2501     C2       5.0  \n",
       "3     0  2208     T2      38.0  \n",
       "4    28     0     C2       5.0  "
      ]
     },
     "execution_count": 34,
     "metadata": {},
     "output_type": "execute_result"
    }
   ],
   "source": [
    "datanew.head()"
   ]
  },
  {
   "cell_type": "markdown",
   "id": "7057978e",
   "metadata": {},
   "source": [
    "#### Look at the end of the data with tail - notice the index is not refreshed?"
   ]
  },
  {
   "cell_type": "code",
   "execution_count": 40,
   "id": "146a460e",
   "metadata": {},
   "outputs": [
    {
     "data": {
      "text/html": [
       "<div>\n",
       "<style scoped>\n",
       "    .dataframe tbody tr th:only-of-type {\n",
       "        vertical-align: middle;\n",
       "    }\n",
       "\n",
       "    .dataframe tbody tr th {\n",
       "        vertical-align: top;\n",
       "    }\n",
       "\n",
       "    .dataframe thead th {\n",
       "        text-align: right;\n",
       "    }\n",
       "</style>\n",
       "<table border=\"1\" class=\"dataframe\">\n",
       "  <thead>\n",
       "    <tr style=\"text-align: right;\">\n",
       "      <th></th>\n",
       "      <th>state</th>\n",
       "      <th>gender</th>\n",
       "      <th>ic1</th>\n",
       "      <th>ic4</th>\n",
       "      <th>hvp1</th>\n",
       "      <th>ic5</th>\n",
       "      <th>pobc1</th>\n",
       "      <th>pobc2</th>\n",
       "      <th>ic2</th>\n",
       "      <th>ic3</th>\n",
       "      <th>avggift</th>\n",
       "      <th>tcode</th>\n",
       "      <th>dob</th>\n",
       "      <th>domain</th>\n",
       "      <th>target_d</th>\n",
       "    </tr>\n",
       "  </thead>\n",
       "  <tbody>\n",
       "    <tr>\n",
       "      <th>4023</th>\n",
       "      <td>FL</td>\n",
       "      <td>F</td>\n",
       "      <td>396</td>\n",
       "      <td>470.0</td>\n",
       "      <td>0</td>\n",
       "      <td>15356</td>\n",
       "      <td>7</td>\n",
       "      <td>37</td>\n",
       "      <td>424.0</td>\n",
       "      <td>450</td>\n",
       "      <td>14.285714</td>\n",
       "      <td>2</td>\n",
       "      <td>6101</td>\n",
       "      <td>S2</td>\n",
       "      <td>50.0</td>\n",
       "    </tr>\n",
       "    <tr>\n",
       "      <th>4024</th>\n",
       "      <td>FL</td>\n",
       "      <td>M</td>\n",
       "      <td>100</td>\n",
       "      <td>423.0</td>\n",
       "      <td>4</td>\n",
       "      <td>11670</td>\n",
       "      <td>10</td>\n",
       "      <td>27</td>\n",
       "      <td>406.0</td>\n",
       "      <td>200</td>\n",
       "      <td>9.230769</td>\n",
       "      <td>28</td>\n",
       "      <td>7401</td>\n",
       "      <td>C1</td>\n",
       "      <td>10.0</td>\n",
       "    </tr>\n",
       "    <tr>\n",
       "      <th>4025</th>\n",
       "      <td>ND</td>\n",
       "      <td>M</td>\n",
       "      <td>258</td>\n",
       "      <td>299.0</td>\n",
       "      <td>0</td>\n",
       "      <td>10186</td>\n",
       "      <td>1</td>\n",
       "      <td>70</td>\n",
       "      <td>298.0</td>\n",
       "      <td>274</td>\n",
       "      <td>5.266667</td>\n",
       "      <td>1</td>\n",
       "      <td>3301</td>\n",
       "      <td>S2</td>\n",
       "      <td>5.0</td>\n",
       "    </tr>\n",
       "    <tr>\n",
       "      <th>4026</th>\n",
       "      <td>WI</td>\n",
       "      <td>male</td>\n",
       "      <td>217</td>\n",
       "      <td>397.0</td>\n",
       "      <td>0</td>\n",
       "      <td>12315</td>\n",
       "      <td>0</td>\n",
       "      <td>96</td>\n",
       "      <td>386.0</td>\n",
       "      <td>295</td>\n",
       "      <td>11.400000</td>\n",
       "      <td>1</td>\n",
       "      <td>7301</td>\n",
       "      <td>T2</td>\n",
       "      <td>14.0</td>\n",
       "    </tr>\n",
       "    <tr>\n",
       "      <th>4027</th>\n",
       "      <td>MI</td>\n",
       "      <td>M</td>\n",
       "      <td>431</td>\n",
       "      <td>505.0</td>\n",
       "      <td>0</td>\n",
       "      <td>14845</td>\n",
       "      <td>7</td>\n",
       "      <td>77</td>\n",
       "      <td>451.0</td>\n",
       "      <td>455</td>\n",
       "      <td>7.428571</td>\n",
       "      <td>1</td>\n",
       "      <td>1709</td>\n",
       "      <td>S2</td>\n",
       "      <td>9.0</td>\n",
       "    </tr>\n",
       "  </tbody>\n",
       "</table>\n",
       "</div>"
      ],
      "text/plain": [
       "     state gender  ic1    ic4 hvp1    ic5 pobc1 pobc2    ic2  ic3    avggift  \\\n",
       "4023    FL      F  396  470.0    0  15356     7    37  424.0  450  14.285714   \n",
       "4024    FL      M  100  423.0    4  11670    10    27  406.0  200   9.230769   \n",
       "4025    ND      M  258  299.0    0  10186     1    70  298.0  274   5.266667   \n",
       "4026    WI   male  217  397.0    0  12315     0    96  386.0  295  11.400000   \n",
       "4027    MI      M  431  505.0    0  14845     7    77  451.0  455   7.428571   \n",
       "\n",
       "     tcode   dob domain  target_d  \n",
       "4023     2  6101     S2      50.0  \n",
       "4024    28  7401     C1      10.0  \n",
       "4025     1  3301     S2       5.0  \n",
       "4026     1  7301     T2      14.0  \n",
       "4027     1  1709     S2       9.0  "
      ]
     },
     "execution_count": 40,
     "metadata": {},
     "output_type": "execute_result"
    }
   ],
   "source": [
    "datanew.tail()"
   ]
  },
  {
   "cell_type": "code",
   "execution_count": 39,
   "id": "e1b73f5b",
   "metadata": {},
   "outputs": [
    {
     "name": "stdout",
     "output_type": "stream",
     "text": [
      "<class 'pandas.core.frame.DataFrame'>\n",
      "RangeIndex: 4028 entries, 0 to 4027\n",
      "Data columns (total 15 columns):\n",
      " #   Column    Non-Null Count  Dtype  \n",
      "---  ------    --------------  -----  \n",
      " 0   state     4028 non-null   object \n",
      " 1   gender    3892 non-null   object \n",
      " 2   ic1       4028 non-null   object \n",
      " 3   ic4       4027 non-null   float64\n",
      " 4   hvp1      4028 non-null   object \n",
      " 5   ic5       4028 non-null   object \n",
      " 6   pobc1     4028 non-null   object \n",
      " 7   pobc2     4028 non-null   object \n",
      " 8   ic2       4027 non-null   float64\n",
      " 9   ic3       4028 non-null   object \n",
      " 10  avggift   4028 non-null   float64\n",
      " 11  tcode     4028 non-null   object \n",
      " 12  dob       4028 non-null   object \n",
      " 13  domain    4028 non-null   object \n",
      " 14  target_d  4028 non-null   float64\n",
      "dtypes: float64(4), object(11)\n",
      "memory usage: 472.2+ KB\n"
     ]
    }
   ],
   "source": [
    "datanew.info()"
   ]
  },
  {
   "cell_type": "markdown",
   "id": "52a473a5",
   "metadata": {},
   "source": [
    "### reset index ! "
   ]
  },
  {
   "cell_type": "code",
   "execution_count": 38,
   "id": "f636ab59",
   "metadata": {},
   "outputs": [],
   "source": [
    "datanew.reset_index(drop=True, inplace=True)"
   ]
  },
  {
   "cell_type": "markdown",
   "id": "0a8b0ae7",
   "metadata": {},
   "source": [
    "## filtering the data frame using subsets or query()"
   ]
  },
  {
   "cell_type": "code",
   "execution_count": 44,
   "id": "8e562d93",
   "metadata": {},
   "outputs": [],
   "source": [
    "filtered=datanew[(datanew['state']=='FL')&(datanew['gender']=='M')]"
   ]
  },
  {
   "cell_type": "markdown",
   "id": "9ff614e0",
   "metadata": {},
   "source": [
    "## california + females + avg gift greater than $10 "
   ]
  },
  {
   "cell_type": "code",
   "execution_count": 50,
   "id": "09846566",
   "metadata": {},
   "outputs": [],
   "source": [
    "# 252 \n",
    "\n",
    "filtered2=datanew[(datanew['state']=='CA')&(datanew['gender']=='F')&(datanew['avggift']>10)]"
   ]
  },
  {
   "cell_type": "code",
   "execution_count": 51,
   "id": "f878da93",
   "metadata": {},
   "outputs": [
    {
     "data": {
      "text/plain": [
       "(252, 15)"
      ]
     },
     "execution_count": 51,
     "metadata": {},
     "output_type": "execute_result"
    }
   ],
   "source": [
    "filtered2.shape"
   ]
  },
  {
   "cell_type": "markdown",
   "id": "e41daf9b",
   "metadata": {},
   "source": [
    "### same using .query() "
   ]
  },
  {
   "cell_type": "code",
   "execution_count": 53,
   "id": "debb89dc",
   "metadata": {},
   "outputs": [],
   "source": [
    "filtered3=datanew.query('gender==\"F\"&state==\"CA\"&avggift>10')"
   ]
  },
  {
   "cell_type": "code",
   "execution_count": 55,
   "id": "2228d84d",
   "metadata": {},
   "outputs": [
    {
     "name": "stdout",
     "output_type": "stream",
     "text": [
      "<class 'pandas.core.frame.DataFrame'>\n",
      "Int64Index: 252 entries, 36 to 4020\n",
      "Data columns (total 15 columns):\n",
      " #   Column    Non-Null Count  Dtype  \n",
      "---  ------    --------------  -----  \n",
      " 0   state     252 non-null    object \n",
      " 1   gender    252 non-null    object \n",
      " 2   ic1       252 non-null    object \n",
      " 3   ic4       252 non-null    float64\n",
      " 4   hvp1      252 non-null    object \n",
      " 5   ic5       252 non-null    object \n",
      " 6   pobc1     252 non-null    object \n",
      " 7   pobc2     252 non-null    object \n",
      " 8   ic2       252 non-null    float64\n",
      " 9   ic3       252 non-null    object \n",
      " 10  avggift   252 non-null    float64\n",
      " 11  tcode     252 non-null    object \n",
      " 12  dob       252 non-null    object \n",
      " 13  domain    252 non-null    object \n",
      " 14  target_d  252 non-null    float64\n",
      "dtypes: float64(4), object(11)\n",
      "memory usage: 31.5+ KB\n"
     ]
    }
   ],
   "source": [
    "filtered3.info()"
   ]
  },
  {
   "cell_type": "code",
   "execution_count": 61,
   "id": "dc8ae134",
   "metadata": {},
   "outputs": [
    {
     "data": {
      "text/html": [
       "<div>\n",
       "<style scoped>\n",
       "    .dataframe tbody tr th:only-of-type {\n",
       "        vertical-align: middle;\n",
       "    }\n",
       "\n",
       "    .dataframe tbody tr th {\n",
       "        vertical-align: top;\n",
       "    }\n",
       "\n",
       "    .dataframe thead th {\n",
       "        text-align: right;\n",
       "    }\n",
       "</style>\n",
       "<table border=\"1\" class=\"dataframe\">\n",
       "  <thead>\n",
       "    <tr style=\"text-align: right;\">\n",
       "      <th></th>\n",
       "      <th>state</th>\n",
       "      <th>gender</th>\n",
       "      <th>avggift</th>\n",
       "    </tr>\n",
       "  </thead>\n",
       "  <tbody>\n",
       "    <tr>\n",
       "      <th>36</th>\n",
       "      <td>CA</td>\n",
       "      <td>F</td>\n",
       "      <td>16.500000</td>\n",
       "    </tr>\n",
       "    <tr>\n",
       "      <th>47</th>\n",
       "      <td>CA</td>\n",
       "      <td>F</td>\n",
       "      <td>13.500000</td>\n",
       "    </tr>\n",
       "    <tr>\n",
       "      <th>168</th>\n",
       "      <td>CA</td>\n",
       "      <td>F</td>\n",
       "      <td>10.714286</td>\n",
       "    </tr>\n",
       "    <tr>\n",
       "      <th>197</th>\n",
       "      <td>CA</td>\n",
       "      <td>F</td>\n",
       "      <td>15.857143</td>\n",
       "    </tr>\n",
       "    <tr>\n",
       "      <th>216</th>\n",
       "      <td>CA</td>\n",
       "      <td>F</td>\n",
       "      <td>39.444444</td>\n",
       "    </tr>\n",
       "    <tr>\n",
       "      <th>...</th>\n",
       "      <td>...</td>\n",
       "      <td>...</td>\n",
       "      <td>...</td>\n",
       "    </tr>\n",
       "    <tr>\n",
       "      <th>3979</th>\n",
       "      <td>CA</td>\n",
       "      <td>F</td>\n",
       "      <td>20.000000</td>\n",
       "    </tr>\n",
       "    <tr>\n",
       "      <th>3981</th>\n",
       "      <td>CA</td>\n",
       "      <td>F</td>\n",
       "      <td>11.363636</td>\n",
       "    </tr>\n",
       "    <tr>\n",
       "      <th>4004</th>\n",
       "      <td>CA</td>\n",
       "      <td>F</td>\n",
       "      <td>25.843750</td>\n",
       "    </tr>\n",
       "    <tr>\n",
       "      <th>4010</th>\n",
       "      <td>CA</td>\n",
       "      <td>F</td>\n",
       "      <td>25.000000</td>\n",
       "    </tr>\n",
       "    <tr>\n",
       "      <th>4020</th>\n",
       "      <td>CA</td>\n",
       "      <td>F</td>\n",
       "      <td>12.117647</td>\n",
       "    </tr>\n",
       "  </tbody>\n",
       "</table>\n",
       "<p>252 rows × 3 columns</p>\n",
       "</div>"
      ],
      "text/plain": [
       "     state gender    avggift\n",
       "36      CA      F  16.500000\n",
       "47      CA      F  13.500000\n",
       "168     CA      F  10.714286\n",
       "197     CA      F  15.857143\n",
       "216     CA      F  39.444444\n",
       "...    ...    ...        ...\n",
       "3979    CA      F  20.000000\n",
       "3981    CA      F  11.363636\n",
       "4004    CA      F  25.843750\n",
       "4010    CA      F  25.000000\n",
       "4020    CA      F  12.117647\n",
       "\n",
       "[252 rows x 3 columns]"
      ]
     },
     "execution_count": 61,
     "metadata": {},
     "output_type": "execute_result"
    }
   ],
   "source": [
    "filtered3[['state','gender','avggift']]"
   ]
  },
  {
   "cell_type": "markdown",
   "id": "a7672939",
   "metadata": {},
   "source": [
    "## data cleaning - dtypes "
   ]
  },
  {
   "cell_type": "code",
   "execution_count": 63,
   "id": "1b7e21ee",
   "metadata": {},
   "outputs": [
    {
     "data": {
      "text/plain": [
       "(4028, 17)"
      ]
     },
     "execution_count": 63,
     "metadata": {},
     "output_type": "execute_result"
    }
   ],
   "source": [
    "#im going back to the original data frame... \n",
    "data.shape"
   ]
  },
  {
   "cell_type": "code",
   "execution_count": 64,
   "id": "2ac5d1d0",
   "metadata": {},
   "outputs": [
    {
     "data": {
      "text/plain": [
       "controln     object\n",
       "state        object\n",
       "gender       object\n",
       "hv1          object\n",
       "ic1          object\n",
       "ic4         float64\n",
       "hvp1         object\n",
       "ic5          object\n",
       "pobc1        object\n",
       "pobc2        object\n",
       "ic2         float64\n",
       "ic3          object\n",
       "avggift     float64\n",
       "tcode        object\n",
       "dob          object\n",
       "domain       object\n",
       "target_d    float64\n",
       "dtype: object"
      ]
     },
     "execution_count": 64,
     "metadata": {},
     "output_type": "execute_result"
    }
   ],
   "source": [
    "data.dtypes"
   ]
  },
  {
   "cell_type": "code",
   "execution_count": null,
   "id": "1d408ce1",
   "metadata": {},
   "outputs": [],
   "source": [
    "# first we tried changing the column hv1 to a float \n",
    "#but then noticed it contains some strings - the dtype change does not work"
   ]
  },
  {
   "cell_type": "code",
   "execution_count": 65,
   "id": "702d7c77",
   "metadata": {},
   "outputs": [
    {
     "data": {
      "text/plain": [
       "0        AAA896\n",
       "1        537.00\n",
       "2        725.00\n",
       "3       AAA1095\n",
       "4        995.00\n",
       "         ...   \n",
       "1001        742\n",
       "1002        599\n",
       "1003        593\n",
       "1004        564\n",
       "1005        651\n",
       "Name: hv1, Length: 4028, dtype: object"
      ]
     },
     "execution_count": 65,
     "metadata": {},
     "output_type": "execute_result"
    }
   ],
   "source": [
    "data['hv1'].astype('float',errors='ignore')"
   ]
  },
  {
   "cell_type": "code",
   "execution_count": null,
   "id": "7cad6148",
   "metadata": {},
   "outputs": [],
   "source": [
    "data.dtypes()"
   ]
  },
  {
   "cell_type": "code",
   "execution_count": 74,
   "id": "24487ad7",
   "metadata": {},
   "outputs": [],
   "source": [
    "#lets use this function instead which has a coerce argument \n",
    "\n",
    "data['hv1']=pd.to_numeric(data['hv1'],errors='coerce')"
   ]
  },
  {
   "cell_type": "code",
   "execution_count": 76,
   "id": "326c0591",
   "metadata": {},
   "outputs": [],
   "source": [
    "data['ic1']=pd.to_numeric(data['ic1'],errors='coerce')"
   ]
  },
  {
   "cell_type": "code",
   "execution_count": 77,
   "id": "53eb613c",
   "metadata": {},
   "outputs": [],
   "source": [
    "data['ic3']=pd.to_numeric(data['ic3'],errors='coerce')"
   ]
  },
  {
   "cell_type": "code",
   "execution_count": 78,
   "id": "71ea1c4e",
   "metadata": {},
   "outputs": [],
   "source": [
    "data['ic5']=pd.to_numeric(data['ic5'],errors='coerce')"
   ]
  },
  {
   "cell_type": "code",
   "execution_count": 79,
   "id": "49c2f831",
   "metadata": {},
   "outputs": [
    {
     "data": {
      "text/plain": [
       "controln     object\n",
       "state        object\n",
       "gender       object\n",
       "hv1         float64\n",
       "ic1           int64\n",
       "ic4         float64\n",
       "hvp1         object\n",
       "ic5         float64\n",
       "pobc1        object\n",
       "pobc2        object\n",
       "ic2         float64\n",
       "ic3           int64\n",
       "avggift     float64\n",
       "tcode        object\n",
       "dob          object\n",
       "domain       object\n",
       "target_d    float64\n",
       "dtype: object"
      ]
     },
     "execution_count": 79,
     "metadata": {},
     "output_type": "execute_result"
    }
   ],
   "source": [
    "data.dtypes"
   ]
  },
  {
   "cell_type": "markdown",
   "id": "9905b1a4",
   "metadata": {},
   "source": [
    "### Some useful functions to look into a column "
   ]
  },
  {
   "cell_type": "code",
   "execution_count": 80,
   "id": "a2f242f9",
   "metadata": {
    "collapsed": true
   },
   "outputs": [
    {
     "data": {
      "text/plain": [
       "array([7, 0, 3, 1, 5, 61, 22, 97, 31, 4, 44, 2, 11, 6, 67, 30, 21, 74, 77,\n",
       "       56, 8, 25, 57, 63, 17, 24, 13, 94, 10, 85, 51, 19, 47, 99, 54, 81,\n",
       "       83, 49, 98, 91, 33, 18, 76, 16, 52, 15, 35, 96, 95, 58, 80, 93, 27,\n",
       "       84, 78, 66, 26, 34, 23, 87, 14, 73, 12, 71, 9, 75, 20, 48, 28, 37,\n",
       "       86, 59, 32, 60, 50, 68, 62, 89, 46, 72, 69, 88, 65, 45, 38, 92, 36,\n",
       "       82, 90, 39, 29, 70, 40, 55, 79, 53, 43, 64, 41, 42], dtype=object)"
      ]
     },
     "execution_count": 80,
     "metadata": {},
     "output_type": "execute_result"
    }
   ],
   "source": [
    "data['hvp1'].unique()"
   ]
  },
  {
   "cell_type": "code",
   "execution_count": 82,
   "id": "683e6673",
   "metadata": {
    "collapsed": true
   },
   "outputs": [
    {
     "data": {
      "text/plain": [
       "0     1593\n",
       "1      526\n",
       "2      220\n",
       "3      163\n",
       "4       94\n",
       "      ... \n",
       "64       4\n",
       "41       4\n",
       "37       3\n",
       "62       3\n",
       "42       3\n",
       "Name: hvp1, Length: 100, dtype: int64"
      ]
     },
     "execution_count": 82,
     "metadata": {},
     "output_type": "execute_result"
    }
   ],
   "source": [
    "data['hvp1'].value_counts()"
   ]
  },
  {
   "cell_type": "markdown",
   "id": "c4d33fc9",
   "metadata": {},
   "source": [
    "### drop duplicate rows - this is a function\n",
    "\n",
    "- without key arguments, we are only dropping complete duplicate rows"
   ]
  },
  {
   "cell_type": "code",
   "execution_count": 83,
   "id": "febae613",
   "metadata": {},
   "outputs": [],
   "source": [
    "data=data.drop_duplicates()"
   ]
  },
  {
   "cell_type": "code",
   "execution_count": 85,
   "id": "b59372f6",
   "metadata": {},
   "outputs": [
    {
     "data": {
      "text/plain": [
       "(4001, 17)"
      ]
     },
     "execution_count": 85,
     "metadata": {},
     "output_type": "execute_result"
    }
   ],
   "source": [
    "data.shape"
   ]
  },
  {
   "cell_type": "markdown",
   "id": "0d00b5f4",
   "metadata": {},
   "source": [
    "## extract resulting data frame as csv "
   ]
  },
  {
   "cell_type": "code",
   "execution_count": 87,
   "id": "fafafaac",
   "metadata": {},
   "outputs": [],
   "source": [
    "data.to_csv('Healthcare/day1.csv',index=False)"
   ]
  }
 ],
 "metadata": {
  "kernelspec": {
   "display_name": "Python 3 (ipykernel)",
   "language": "python",
   "name": "python3"
  },
  "language_info": {
   "codemirror_mode": {
    "name": "ipython",
    "version": 3
   },
   "file_extension": ".py",
   "mimetype": "text/x-python",
   "name": "python",
   "nbconvert_exporter": "python",
   "pygments_lexer": "ipython3",
   "version": "3.9.7"
  }
 },
 "nbformat": 4,
 "nbformat_minor": 5
}
