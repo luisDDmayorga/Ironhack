{
 "cells": [
  {
   "cell_type": "markdown",
   "id": "c28d99c1",
   "metadata": {},
   "source": [
    "# this is a heading"
   ]
  },
  {
   "cell_type": "markdown",
   "id": "6e5cbbcb",
   "metadata": {},
   "source": [
    "## this is a subheading"
   ]
  },
  {
   "cell_type": "markdown",
   "id": "34c3674f",
   "metadata": {},
   "source": [
    "### this is a bullet oint list \n",
    "\n",
    "- first point \n",
    "- second point \n",
    "- the end "
   ]
  },
  {
   "cell_type": "markdown",
   "id": "02f983e2",
   "metadata": {},
   "source": [
    "[this is a link ](http://bbc.co.uk)"
   ]
  },
  {
   "cell_type": "markdown",
   "id": "f3190538",
   "metadata": {},
   "source": [
    "__bold stuff__"
   ]
  },
  {
   "cell_type": "markdown",
   "id": "a2d37b92",
   "metadata": {},
   "source": [
    "_italic stuff_"
   ]
  },
  {
   "cell_type": "code",
   "execution_count": 5,
   "id": "30f7c692",
   "metadata": {},
   "outputs": [],
   "source": [
    "x=2\n",
    "\n",
    "\n",
    "# ADD A COMMENT "
   ]
  },
  {
   "cell_type": "markdown",
   "id": "5d2996e3",
   "metadata": {},
   "source": [
    "ADD SOM"
   ]
  },
  {
   "cell_type": "code",
   "execution_count": null,
   "id": "42b8fe07",
   "metadata": {},
   "outputs": [],
   "source": []
  }
 ],
 "metadata": {
  "kernelspec": {
   "display_name": "Python 3 (ipykernel)",
   "language": "python",
   "name": "python3"
  },
  "language_info": {
   "codemirror_mode": {
    "name": "ipython",
    "version": 3
   },
   "file_extension": ".py",
   "mimetype": "text/x-python",
   "name": "python",
   "nbconvert_exporter": "python",
   "pygments_lexer": "ipython3",
   "version": "3.9.7"
  }
 },
 "nbformat": 4,
 "nbformat_minor": 5
}
