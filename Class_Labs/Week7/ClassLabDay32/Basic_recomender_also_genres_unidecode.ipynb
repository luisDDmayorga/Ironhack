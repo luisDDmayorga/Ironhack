{
 "cells": [
  {
   "cell_type": "code",
   "execution_count": 1,
   "metadata": {},
   "outputs": [],
   "source": [
    "import pandas as pd"
   ]
  },
  {
   "cell_type": "code",
   "execution_count": 2,
   "metadata": {},
   "outputs": [],
   "source": [
    "df1 = pd.read_csv(\"Spanish_Songs_CSVs/alternative_top100.csv\")\n",
    "df2 = pd.read_csv(\"Spanish_Songs_CSVs/pop_top100.csv\")\n",
    "df3 = pd.read_csv(\"Spanish_Songs_CSVs/rock_top100.csv\")\n",
    "df4 = pd.read_csv(\"Spanish_Songs_CSVs/reggae_top100.csv\")\n",
    "df5 = pd.read_csv(\"Spanish_Songs_CSVs/hiphop_top100.csv\")\n",
    "df6 = pd.read_csv(\"Spanish_Songs_CSVs/jazz_top100.csv\")\n",
    "df7 = pd.read_csv(\"Spanish_Songs_CSVs/blues_top100.csv\")\n",
    "df8 = pd.read_csv(\"Spanish_Songs_CSVs/dance_top100.csv\")\n",
    "df9 = pd.read_csv(\"Spanish_Songs_CSVs/world_top100.csv\")\n",
    "df10 = pd.read_csv(\"Spanish_Songs_CSVs/electronic_top100.csv\")\n",
    "df11 = pd.read_csv(\"Spanish_Songs_CSVs/christian_gospel_top100.csv\")\n",
    "df12 = pd.read_csv(\"Spanish_Songs_CSVs/rb_soul_top100.csv\")\n",
    "df13 = pd.read_csv(\"Spanish_Songs_CSVs/latin_top100.csv\")\n",
    "df14 = pd.read_csv(\"Spanish_Songs_CSVs/classical_top100.csv\")\n",
    "df15 = pd.read_csv(\"Spanish_Songs_CSVs/country_top100.csv\")\n",
    "df16 = pd.read_csv(\"Spanish_Songs_CSVs/spain_top100.csv\")"
   ]
  },
  {
   "cell_type": "code",
   "execution_count": 3,
   "metadata": {},
   "outputs": [],
   "source": [
    "genre1 = []"
   ]
  },
  {
   "cell_type": "code",
   "execution_count": 4,
   "metadata": {},
   "outputs": [],
   "source": [
    "from tqdm.notebook import tqdm"
   ]
  },
  {
   "cell_type": "code",
   "execution_count": 5,
   "metadata": {},
   "outputs": [
    {
     "data": {
      "application/vnd.jupyter.widget-view+json": {
       "model_id": "43f2abc824c046518c081c16a142a0f1",
       "version_major": 2,
       "version_minor": 0
      },
      "text/plain": [
       "  0%|          | 0/100 [00:00<?, ?it/s]"
      ]
     },
     "metadata": {},
     "output_type": "display_data"
    }
   ],
   "source": [
    "for i in tqdm(range(len(df1))):\n",
    "    genre1.append(\"alternative\")"
   ]
  },
  {
   "cell_type": "code",
   "execution_count": 6,
   "metadata": {
    "scrolled": true
   },
   "outputs": [],
   "source": [
    "df1 = df1.assign(genre =  genre1)"
   ]
  },
  {
   "cell_type": "code",
   "execution_count": 7,
   "metadata": {},
   "outputs": [
    {
     "data": {
      "application/vnd.jupyter.widget-view+json": {
       "model_id": "d990736152f8402d8f13a235c0320cee",
       "version_major": 2,
       "version_minor": 0
      },
      "text/plain": [
       "  0%|          | 0/100 [00:00<?, ?it/s]"
      ]
     },
     "metadata": {},
     "output_type": "display_data"
    }
   ],
   "source": [
    "genre2 = []\n",
    "for i in tqdm(range(len(df2))):\n",
    "    genre2.append(\"pop\")\n",
    "df2 = df2.assign(genre =  genre2)"
   ]
  },
  {
   "cell_type": "code",
   "execution_count": 8,
   "metadata": {},
   "outputs": [
    {
     "data": {
      "application/vnd.jupyter.widget-view+json": {
       "model_id": "dae531cb93e44c6da5e288ba0e6cdc2d",
       "version_major": 2,
       "version_minor": 0
      },
      "text/plain": [
       "  0%|          | 0/92 [00:00<?, ?it/s]"
      ]
     },
     "metadata": {},
     "output_type": "display_data"
    }
   ],
   "source": [
    "genre3 = []\n",
    "for i in tqdm(range(len(df3))):\n",
    "    genre3.append(\"rock\")\n",
    "df3 = df3.assign(genre =  genre3)"
   ]
  },
  {
   "cell_type": "code",
   "execution_count": 9,
   "metadata": {},
   "outputs": [
    {
     "data": {
      "application/vnd.jupyter.widget-view+json": {
       "model_id": "26ad1017537740f9964b483da0758d31",
       "version_major": 2,
       "version_minor": 0
      },
      "text/plain": [
       "  0%|          | 0/71 [00:00<?, ?it/s]"
      ]
     },
     "metadata": {},
     "output_type": "display_data"
    }
   ],
   "source": [
    "genre4 = []\n",
    "for i in tqdm(range(len(df4))):\n",
    "    genre4.append(\"reggae\")\n",
    "df4 = df4.assign(genre =  genre4)"
   ]
  },
  {
   "cell_type": "code",
   "execution_count": 10,
   "metadata": {},
   "outputs": [
    {
     "data": {
      "application/vnd.jupyter.widget-view+json": {
       "model_id": "c68bc392621b4216bb4a505b2df36a03",
       "version_major": 2,
       "version_minor": 0
      },
      "text/plain": [
       "  0%|          | 0/100 [00:00<?, ?it/s]"
      ]
     },
     "metadata": {},
     "output_type": "display_data"
    }
   ],
   "source": [
    "genre5 = []\n",
    "for i in tqdm(range(len(df5))):\n",
    "    genre5.append(\"hip hop\")\n",
    "df5 = df5.assign(genre =  genre5)"
   ]
  },
  {
   "cell_type": "code",
   "execution_count": 11,
   "metadata": {},
   "outputs": [
    {
     "data": {
      "application/vnd.jupyter.widget-view+json": {
       "model_id": "0e1e87c39d4947f99a7387f680e60f8d",
       "version_major": 2,
       "version_minor": 0
      },
      "text/plain": [
       "  0%|          | 0/76 [00:00<?, ?it/s]"
      ]
     },
     "metadata": {},
     "output_type": "display_data"
    }
   ],
   "source": [
    "genre6 = []\n",
    "for i in tqdm(range(len(df6))):\n",
    "    genre6.append(\"jazz\")\n",
    "df6 = df6.assign(genre =  genre6)"
   ]
  },
  {
   "cell_type": "code",
   "execution_count": 12,
   "metadata": {},
   "outputs": [
    {
     "data": {
      "application/vnd.jupyter.widget-view+json": {
       "model_id": "ee8f5e8c3dc64e51818354fe35bb14c0",
       "version_major": 2,
       "version_minor": 0
      },
      "text/plain": [
       "  0%|          | 0/47 [00:00<?, ?it/s]"
      ]
     },
     "metadata": {},
     "output_type": "display_data"
    }
   ],
   "source": [
    "genre7 = []\n",
    "for i in tqdm(range(len(df7))):\n",
    "    genre7.append(\"blues\")\n",
    "df7 = df7.assign(genre =  genre7)"
   ]
  },
  {
   "cell_type": "code",
   "execution_count": 13,
   "metadata": {},
   "outputs": [
    {
     "data": {
      "application/vnd.jupyter.widget-view+json": {
       "model_id": "fb9ed27ac4e34f22ade5190683828ff1",
       "version_major": 2,
       "version_minor": 0
      },
      "text/plain": [
       "  0%|          | 0/100 [00:00<?, ?it/s]"
      ]
     },
     "metadata": {},
     "output_type": "display_data"
    }
   ],
   "source": [
    "genre8 = []\n",
    "for i in tqdm(range(len(df8))):\n",
    "    genre8.append(\"dance\")\n",
    "df8 = df8.assign(genre = genre8)"
   ]
  },
  {
   "cell_type": "code",
   "execution_count": 14,
   "metadata": {},
   "outputs": [
    {
     "data": {
      "application/vnd.jupyter.widget-view+json": {
       "model_id": "5a658d5180834c089daeff4e108eb7e5",
       "version_major": 2,
       "version_minor": 0
      },
      "text/plain": [
       "  0%|          | 0/100 [00:00<?, ?it/s]"
      ]
     },
     "metadata": {},
     "output_type": "display_data"
    }
   ],
   "source": [
    "genre9 = []\n",
    "for i in tqdm(range(len(df9))):\n",
    "    genre9.append(\"international\")\n",
    "df9 = df9.assign(genre =  genre9)"
   ]
  },
  {
   "cell_type": "code",
   "execution_count": 15,
   "metadata": {},
   "outputs": [
    {
     "data": {
      "application/vnd.jupyter.widget-view+json": {
       "model_id": "54cbf971e15f40188acc084e96430290",
       "version_major": 2,
       "version_minor": 0
      },
      "text/plain": [
       "  0%|          | 0/100 [00:00<?, ?it/s]"
      ]
     },
     "metadata": {},
     "output_type": "display_data"
    }
   ],
   "source": [
    "genre10 = []\n",
    "for i in tqdm(range(len(df10))):\n",
    "    genre10.append(\"electronic\")\n",
    "df10 = df10.assign(genre =  genre10)"
   ]
  },
  {
   "cell_type": "code",
   "execution_count": 16,
   "metadata": {},
   "outputs": [
    {
     "data": {
      "application/vnd.jupyter.widget-view+json": {
       "model_id": "c8449959306f4733bc6660eb1f6c55e9",
       "version_major": 2,
       "version_minor": 0
      },
      "text/plain": [
       "  0%|          | 0/96 [00:00<?, ?it/s]"
      ]
     },
     "metadata": {},
     "output_type": "display_data"
    }
   ],
   "source": [
    "genre11 = []\n",
    "for i in tqdm(range(len(df11))):\n",
    "    genre11.append(\"christian & gospel\")\n",
    "df11 = df11.assign(genre =  genre11)"
   ]
  },
  {
   "cell_type": "code",
   "execution_count": 17,
   "metadata": {},
   "outputs": [
    {
     "data": {
      "application/vnd.jupyter.widget-view+json": {
       "model_id": "61b02ba2e5354fb587a252333d019166",
       "version_major": 2,
       "version_minor": 0
      },
      "text/plain": [
       "  0%|          | 0/85 [00:00<?, ?it/s]"
      ]
     },
     "metadata": {},
     "output_type": "display_data"
    }
   ],
   "source": [
    "genre12 = []\n",
    "for i in tqdm(range(len(df12))):\n",
    "    genre12.append(\"r&r / soul\")\n",
    "df12 = df12.assign(genre =  genre12)"
   ]
  },
  {
   "cell_type": "code",
   "execution_count": 18,
   "metadata": {},
   "outputs": [
    {
     "data": {
      "application/vnd.jupyter.widget-view+json": {
       "model_id": "2298dd4c99c141afa1a850df5e6186ee",
       "version_major": 2,
       "version_minor": 0
      },
      "text/plain": [
       "  0%|          | 0/100 [00:00<?, ?it/s]"
      ]
     },
     "metadata": {},
     "output_type": "display_data"
    }
   ],
   "source": [
    "genre13 = []\n",
    "for i in tqdm(range(len(df13))):\n",
    "    genre13.append(\"latin\")\n",
    "df13 = df13.assign(genre =  genre13)"
   ]
  },
  {
   "cell_type": "code",
   "execution_count": 19,
   "metadata": {},
   "outputs": [
    {
     "data": {
      "application/vnd.jupyter.widget-view+json": {
       "model_id": "6001eca2f3f440bda3cfd54dcfa820f0",
       "version_major": 2,
       "version_minor": 0
      },
      "text/plain": [
       "  0%|          | 0/100 [00:00<?, ?it/s]"
      ]
     },
     "metadata": {},
     "output_type": "display_data"
    }
   ],
   "source": [
    "genre14 = []\n",
    "for i in tqdm(range(len(df14))):\n",
    "    genre14.append(\"classical\")\n",
    "df14 = df14.assign(genre =  genre14)"
   ]
  },
  {
   "cell_type": "code",
   "execution_count": 20,
   "metadata": {},
   "outputs": [
    {
     "data": {
      "application/vnd.jupyter.widget-view+json": {
       "model_id": "227df6be66df47889bd4504b8b0ee66b",
       "version_major": 2,
       "version_minor": 0
      },
      "text/plain": [
       "  0%|          | 0/87 [00:00<?, ?it/s]"
      ]
     },
     "metadata": {},
     "output_type": "display_data"
    }
   ],
   "source": [
    "genre15 = []\n",
    "for i in tqdm(range(len(df15))):\n",
    "    genre15.append(\"country\")\n",
    "df15 = df15.assign(genre =  genre15)"
   ]
  },
  {
   "cell_type": "code",
   "execution_count": 21,
   "metadata": {},
   "outputs": [],
   "source": [
    "df = pd.concat([df1, df2, df3, df4, df5, df6, df7, df8, df9, df10, df11, df12, df13, df14, df15], axis = 0)"
   ]
  },
  {
   "cell_type": "code",
   "execution_count": 22,
   "metadata": {},
   "outputs": [],
   "source": [
    "df = df.reset_index(drop = True)"
   ]
  },
  {
   "cell_type": "code",
   "execution_count": 23,
   "metadata": {
    "scrolled": true
   },
   "outputs": [
    {
     "data": {
      "text/html": [
       "<div>\n",
       "<style scoped>\n",
       "    .dataframe tbody tr th:only-of-type {\n",
       "        vertical-align: middle;\n",
       "    }\n",
       "\n",
       "    .dataframe tbody tr th {\n",
       "        vertical-align: top;\n",
       "    }\n",
       "\n",
       "    .dataframe thead th {\n",
       "        text-align: right;\n",
       "    }\n",
       "</style>\n",
       "<table border=\"1\" class=\"dataframe\">\n",
       "  <thead>\n",
       "    <tr style=\"text-align: right;\">\n",
       "      <th></th>\n",
       "      <th>title</th>\n",
       "      <th>artists</th>\n",
       "      <th>genre</th>\n",
       "    </tr>\n",
       "  </thead>\n",
       "  <tbody>\n",
       "    <tr>\n",
       "      <th>0</th>\n",
       "      <td>Somebody That I Used To Know (feat. Kimbra)</td>\n",
       "      <td>Gotye</td>\n",
       "      <td>alternative</td>\n",
       "    </tr>\n",
       "    <tr>\n",
       "      <th>1</th>\n",
       "      <td>A Sky Full of Stars</td>\n",
       "      <td>Coldplay</td>\n",
       "      <td>alternative</td>\n",
       "    </tr>\n",
       "    <tr>\n",
       "      <th>2</th>\n",
       "      <td>Lost on You</td>\n",
       "      <td>LP</td>\n",
       "      <td>alternative</td>\n",
       "    </tr>\n",
       "    <tr>\n",
       "      <th>3</th>\n",
       "      <td>Human</td>\n",
       "      <td>The Killers</td>\n",
       "      <td>alternative</td>\n",
       "    </tr>\n",
       "    <tr>\n",
       "      <th>4</th>\n",
       "      <td>Tenía Tanto Que Darte</td>\n",
       "      <td>Nena Daconte,  La La Love You</td>\n",
       "      <td>alternative</td>\n",
       "    </tr>\n",
       "    <tr>\n",
       "      <th>...</th>\n",
       "      <td>...</td>\n",
       "      <td>...</td>\n",
       "      <td>...</td>\n",
       "    </tr>\n",
       "    <tr>\n",
       "      <th>1349</th>\n",
       "      <td>Coward of the County</td>\n",
       "      <td>Kenny Rogers</td>\n",
       "      <td>country</td>\n",
       "    </tr>\n",
       "    <tr>\n",
       "      <th>1350</th>\n",
       "      <td>Wagon Wheel</td>\n",
       "      <td>Darius Rucker</td>\n",
       "      <td>country</td>\n",
       "    </tr>\n",
       "    <tr>\n",
       "      <th>1351</th>\n",
       "      <td>Highway Don't Care (feat. Taylor Swift &amp; Keith...</td>\n",
       "      <td>Tim McGraw</td>\n",
       "      <td>country</td>\n",
       "    </tr>\n",
       "    <tr>\n",
       "      <th>1352</th>\n",
       "      <td>Somebody Like You</td>\n",
       "      <td>Keith Urban</td>\n",
       "      <td>country</td>\n",
       "    </tr>\n",
       "    <tr>\n",
       "      <th>1353</th>\n",
       "      <td>Father and Son (feat. Fiona Apple)</td>\n",
       "      <td>Johnny Cash</td>\n",
       "      <td>country</td>\n",
       "    </tr>\n",
       "  </tbody>\n",
       "</table>\n",
       "<p>1354 rows × 3 columns</p>\n",
       "</div>"
      ],
      "text/plain": [
       "                                                  title  \\\n",
       "0           Somebody That I Used To Know (feat. Kimbra)   \n",
       "1                                   A Sky Full of Stars   \n",
       "2                                           Lost on You   \n",
       "3                                                 Human   \n",
       "4                                 Tenía Tanto Que Darte   \n",
       "...                                                 ...   \n",
       "1349                               Coward of the County   \n",
       "1350                                        Wagon Wheel   \n",
       "1351  Highway Don't Care (feat. Taylor Swift & Keith...   \n",
       "1352                                  Somebody Like You   \n",
       "1353                 Father and Son (feat. Fiona Apple)   \n",
       "\n",
       "                            artists        genre  \n",
       "0                             Gotye  alternative  \n",
       "1                          Coldplay  alternative  \n",
       "2                                LP  alternative  \n",
       "3                       The Killers  alternative  \n",
       "4     Nena Daconte,  La La Love You  alternative  \n",
       "...                             ...          ...  \n",
       "1349                   Kenny Rogers      country  \n",
       "1350                  Darius Rucker      country  \n",
       "1351                     Tim McGraw      country  \n",
       "1352                    Keith Urban      country  \n",
       "1353                    Johnny Cash      country  \n",
       "\n",
       "[1354 rows x 3 columns]"
      ]
     },
     "execution_count": 23,
     "metadata": {},
     "output_type": "execute_result"
    }
   ],
   "source": [
    "df"
   ]
  },
  {
   "cell_type": "code",
   "execution_count": 24,
   "metadata": {},
   "outputs": [],
   "source": [
    "df_std = df.replace(to_replace =\" \",\n",
    "                 value =\"\", regex = True)"
   ]
  },
  {
   "cell_type": "code",
   "execution_count": 25,
   "metadata": {
    "scrolled": true
   },
   "outputs": [
    {
     "data": {
      "text/html": [
       "<div>\n",
       "<style scoped>\n",
       "    .dataframe tbody tr th:only-of-type {\n",
       "        vertical-align: middle;\n",
       "    }\n",
       "\n",
       "    .dataframe tbody tr th {\n",
       "        vertical-align: top;\n",
       "    }\n",
       "\n",
       "    .dataframe thead th {\n",
       "        text-align: right;\n",
       "    }\n",
       "</style>\n",
       "<table border=\"1\" class=\"dataframe\">\n",
       "  <thead>\n",
       "    <tr style=\"text-align: right;\">\n",
       "      <th></th>\n",
       "      <th>title</th>\n",
       "      <th>artists</th>\n",
       "    </tr>\n",
       "  </thead>\n",
       "  <tbody>\n",
       "    <tr>\n",
       "      <th>0</th>\n",
       "      <td>Cold Heart (PNAU Remix)</td>\n",
       "      <td>Dua Lipa,   Elton John</td>\n",
       "    </tr>\n",
       "    <tr>\n",
       "      <th>1</th>\n",
       "      <td>Mon Amour (Remix)</td>\n",
       "      <td>Aitana,  zzoilo</td>\n",
       "    </tr>\n",
       "    <tr>\n",
       "      <th>2</th>\n",
       "      <td>Virgen de las Nieves</td>\n",
       "      <td>Melendi</td>\n",
       "    </tr>\n",
       "    <tr>\n",
       "      <th>3</th>\n",
       "      <td>Bad Habits</td>\n",
       "      <td>Ed Sheeran</td>\n",
       "    </tr>\n",
       "    <tr>\n",
       "      <th>4</th>\n",
       "      <td>Easy On Me</td>\n",
       "      <td>Adele</td>\n",
       "    </tr>\n",
       "    <tr>\n",
       "      <th>...</th>\n",
       "      <td>...</td>\n",
       "      <td>...</td>\n",
       "    </tr>\n",
       "    <tr>\n",
       "      <th>94</th>\n",
       "      <td>Midtown</td>\n",
       "      <td>Duki</td>\n",
       "    </tr>\n",
       "    <tr>\n",
       "      <th>95</th>\n",
       "      <td>Magia</td>\n",
       "      <td>Alvaro Soler</td>\n",
       "    </tr>\n",
       "    <tr>\n",
       "      <th>96</th>\n",
       "      <td>El Boig de la Ciutat 30 Anys (feat. Alvaro Soler)</td>\n",
       "      <td>Sopa De Cabra,  Ramon Mirabet,  Alfred García</td>\n",
       "    </tr>\n",
       "    <tr>\n",
       "      <th>97</th>\n",
       "      <td>All Too Well (Sad Girl Autumn Version) [Record...</td>\n",
       "      <td>Taylor Swift</td>\n",
       "    </tr>\n",
       "    <tr>\n",
       "      <th>98</th>\n",
       "      <td>Record Mundial (B-Side Version)</td>\n",
       "      <td>Daniel Huen</td>\n",
       "    </tr>\n",
       "  </tbody>\n",
       "</table>\n",
       "<p>99 rows × 2 columns</p>\n",
       "</div>"
      ],
      "text/plain": [
       "                                                title  \\\n",
       "0                             Cold Heart (PNAU Remix)   \n",
       "1                                   Mon Amour (Remix)   \n",
       "2                                Virgen de las Nieves   \n",
       "3                                          Bad Habits   \n",
       "4                                          Easy On Me   \n",
       "..                                                ...   \n",
       "94                                            Midtown   \n",
       "95                                              Magia   \n",
       "96  El Boig de la Ciutat 30 Anys (feat. Alvaro Soler)   \n",
       "97  All Too Well (Sad Girl Autumn Version) [Record...   \n",
       "98                    Record Mundial (B-Side Version)   \n",
       "\n",
       "                                          artists  \n",
       "0                          Dua Lipa,   Elton John  \n",
       "1                                 Aitana,  zzoilo  \n",
       "2                                         Melendi  \n",
       "3                                      Ed Sheeran  \n",
       "4                                           Adele  \n",
       "..                                            ...  \n",
       "94                                           Duki  \n",
       "95                                   Alvaro Soler  \n",
       "96  Sopa De Cabra,  Ramon Mirabet,  Alfred García  \n",
       "97                                   Taylor Swift  \n",
       "98                                    Daniel Huen  \n",
       "\n",
       "[99 rows x 2 columns]"
      ]
     },
     "execution_count": 25,
     "metadata": {},
     "output_type": "execute_result"
    }
   ],
   "source": [
    "df16.head(99)"
   ]
  },
  {
   "cell_type": "code",
   "execution_count": 26,
   "metadata": {},
   "outputs": [],
   "source": [
    "df16_std = df16.replace(to_replace =\" \",\n",
    "                 value =\"\", regex = True)"
   ]
  },
  {
   "cell_type": "code",
   "execution_count": 27,
   "metadata": {},
   "outputs": [
    {
     "data": {
      "text/html": [
       "<div>\n",
       "<style scoped>\n",
       "    .dataframe tbody tr th:only-of-type {\n",
       "        vertical-align: middle;\n",
       "    }\n",
       "\n",
       "    .dataframe tbody tr th {\n",
       "        vertical-align: top;\n",
       "    }\n",
       "\n",
       "    .dataframe thead th {\n",
       "        text-align: right;\n",
       "    }\n",
       "</style>\n",
       "<table border=\"1\" class=\"dataframe\">\n",
       "  <thead>\n",
       "    <tr style=\"text-align: right;\">\n",
       "      <th></th>\n",
       "      <th>title</th>\n",
       "      <th>artists</th>\n",
       "    </tr>\n",
       "  </thead>\n",
       "  <tbody>\n",
       "    <tr>\n",
       "      <th>0</th>\n",
       "      <td>Cold Heart (PNAU Remix)</td>\n",
       "      <td>Dua Lipa,   Elton John</td>\n",
       "    </tr>\n",
       "    <tr>\n",
       "      <th>1</th>\n",
       "      <td>Mon Amour (Remix)</td>\n",
       "      <td>Aitana,  zzoilo</td>\n",
       "    </tr>\n",
       "    <tr>\n",
       "      <th>2</th>\n",
       "      <td>Virgen de las Nieves</td>\n",
       "      <td>Melendi</td>\n",
       "    </tr>\n",
       "    <tr>\n",
       "      <th>3</th>\n",
       "      <td>Bad Habits</td>\n",
       "      <td>Ed Sheeran</td>\n",
       "    </tr>\n",
       "    <tr>\n",
       "      <th>4</th>\n",
       "      <td>Easy On Me</td>\n",
       "      <td>Adele</td>\n",
       "    </tr>\n",
       "    <tr>\n",
       "      <th>...</th>\n",
       "      <td>...</td>\n",
       "      <td>...</td>\n",
       "    </tr>\n",
       "    <tr>\n",
       "      <th>95</th>\n",
       "      <td>Magia</td>\n",
       "      <td>Alvaro Soler</td>\n",
       "    </tr>\n",
       "    <tr>\n",
       "      <th>96</th>\n",
       "      <td>El Boig de la Ciutat 30 Anys (feat. Alvaro Soler)</td>\n",
       "      <td>Sopa De Cabra,  Ramon Mirabet,  Alfred García</td>\n",
       "    </tr>\n",
       "    <tr>\n",
       "      <th>97</th>\n",
       "      <td>All Too Well (Sad Girl Autumn Version) [Record...</td>\n",
       "      <td>Taylor Swift</td>\n",
       "    </tr>\n",
       "    <tr>\n",
       "      <th>98</th>\n",
       "      <td>Record Mundial (B-Side Version)</td>\n",
       "      <td>Daniel Huen</td>\n",
       "    </tr>\n",
       "    <tr>\n",
       "      <th>99</th>\n",
       "      <td>Vente Pa' Ca (feat. Maluma)</td>\n",
       "      <td>Ricky Martin</td>\n",
       "    </tr>\n",
       "  </tbody>\n",
       "</table>\n",
       "<p>100 rows × 2 columns</p>\n",
       "</div>"
      ],
      "text/plain": [
       "                                                title  \\\n",
       "0                             Cold Heart (PNAU Remix)   \n",
       "1                                   Mon Amour (Remix)   \n",
       "2                                Virgen de las Nieves   \n",
       "3                                          Bad Habits   \n",
       "4                                          Easy On Me   \n",
       "..                                                ...   \n",
       "95                                              Magia   \n",
       "96  El Boig de la Ciutat 30 Anys (feat. Alvaro Soler)   \n",
       "97  All Too Well (Sad Girl Autumn Version) [Record...   \n",
       "98                    Record Mundial (B-Side Version)   \n",
       "99                        Vente Pa' Ca (feat. Maluma)   \n",
       "\n",
       "                                          artists  \n",
       "0                          Dua Lipa,   Elton John  \n",
       "1                                 Aitana,  zzoilo  \n",
       "2                                         Melendi  \n",
       "3                                      Ed Sheeran  \n",
       "4                                           Adele  \n",
       "..                                            ...  \n",
       "95                                   Alvaro Soler  \n",
       "96  Sopa De Cabra,  Ramon Mirabet,  Alfred García  \n",
       "97                                   Taylor Swift  \n",
       "98                                    Daniel Huen  \n",
       "99                                   Ricky Martin  \n",
       "\n",
       "[100 rows x 2 columns]"
      ]
     },
     "execution_count": 27,
     "metadata": {},
     "output_type": "execute_result"
    }
   ],
   "source": [
    "df16"
   ]
  },
  {
   "cell_type": "code",
   "execution_count": 41,
   "metadata": {},
   "outputs": [],
   "source": [
    "from unidecode import unidecode"
   ]
  },
  {
   "cell_type": "code",
   "execution_count": 54,
   "metadata": {
    "scrolled": false
   },
   "outputs": [
    {
     "name": "stdout",
     "output_type": "stream",
     "text": [
      "Please type your favourite song or artist of the moment:\n",
      "    \n",
      "rosalía\n",
      "\n",
      "Do you mean LA FAMA (feat. The Weeknd) by ROSALÍA?\n",
      "[y/n]\n",
      "         \n",
      "y\n",
      "\n",
      "Good choice! Your song was one of the Top 100 hot songs in Spain last week!\n",
      "As we see you like latin music, we think you could enjoy In Da Getto by Skrillex,  J Balvin.\n"
     ]
    }
   ],
   "source": [
    "for title, artists in df.iterrows( ):\n",
    "    hs = input(\"\"\"Please type your favourite song or artist of the moment:\n",
    "    \n",
    "\"\"\")\n",
    "    hs2 = unidecode(hs.lower().replace(\" \",\"\"))\n",
    "    check = df[df['title'].str.lower().str.replace(\" \",\"\").apply(unidecode).str.contains(hs2)] + df[df['artists'].str.lower().str.replace(\" \",\"\").apply(unidecode).str.contains(hs2)]\n",
    "    index = check.index.tolist()\n",
    "    \n",
    "    if len(check) != 0:\n",
    "        answer = input(\"\"\"\n",
    "Do you mean \"\"\" + df.title[index].values[0] + \"\"\" by \"\"\" + df.artists[index].values[0] + \"\"\"?\n",
    "[y/n]\n",
    "         \n",
    "\"\"\")\n",
    "        if answer.lower() == 'y':\n",
    "            check2 = df16[df16['title'].str.lower().str.replace(\" \",\"\").apply(unidecode).str.contains(hs2)] + df16[df16['artists'].str.lower().str.replace(\" \",\"\").apply(unidecode).str.contains(hs2)]\n",
    "            song_genre = df.loc[index, 'genre'].iloc[0]\n",
    "            \n",
    "            \n",
    "            if len(check2) != 0:\n",
    "                df_mask = df['genre']== song_genre\n",
    "                df_filtered = df[df_mask]\n",
    "                suggestion = df_filtered.sample().index.tolist()\n",
    "                print(\"\"\"\n",
    "Good choice! Your song was one of the Top 100 hot songs in Spain last week!\n",
    "As we see you like \"\"\" + song_genre + \"\"\" music, we think you could enjoy \"\"\" + df['title'][suggestion].item() + \"\"\" by \"\"\" + df['artists'][suggestion].item() + \"\"\".\"\"\")\n",
    "                break\n",
    "            else:\n",
    "                df_mask = df['genre']== song_genre\n",
    "                df_filtered = df[df_mask]\n",
    "                suggestion = df_filtered.sample().index.tolist()\n",
    "                print(\"\"\"\n",
    "Interesting choice!\n",
    "Your song wasn't one of the Top 100 hot songs in Spain last week but it was one of the first choices of \"\"\" + song_genre + \"\"\" music lovers.\n",
    "Why don't you try \"\"\" + df['title'][suggestion].item() + \"\"\" by \"\"\" + df['artists'][suggestion].item() + \"\"\"?\"\"\")\n",
    "                break\n",
    "        else:\n",
    "            print(\"\"\"\n",
    "Wow, we weren't expecting that choice!\n",
    "Unfortunatelly, we don't have that song or artist in our database, so probably it's not a hot song in this moment.\n",
    "Could you tell us another one?\n",
    "            \n",
    "            \"\"\")\n",
    "            continue\n",
    "    else:\n",
    "        print(\"\"\"\n",
    "Wow, we weren't expecting that choice!\n",
    "Unfortunatelly, we don't have that song or artist in our database, so probably it's not a hot song in this moment.\n",
    "Could you tell us another one?\n",
    "            \n",
    "            \"\"\")\n",
    "        continue\n"
   ]
  }
 ],
 "metadata": {
  "kernelspec": {
   "display_name": "Python 3 (ipykernel)",
   "language": "python",
   "name": "python3"
  },
  "language_info": {
   "codemirror_mode": {
    "name": "ipython",
    "version": 3
   },
   "file_extension": ".py",
   "mimetype": "text/x-python",
   "name": "python",
   "nbconvert_exporter": "python",
   "pygments_lexer": "ipython3",
   "version": "3.9.7"
  },
  "toc": {
   "base_numbering": 1,
   "nav_menu": {},
   "number_sections": true,
   "sideBar": true,
   "skip_h1_title": false,
   "title_cell": "Table of Contents",
   "title_sidebar": "Contents",
   "toc_cell": false,
   "toc_position": {},
   "toc_section_display": true,
   "toc_window_display": false
  }
 },
 "nbformat": 4,
 "nbformat_minor": 4
}
