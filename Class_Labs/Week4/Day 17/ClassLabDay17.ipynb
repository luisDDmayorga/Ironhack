{
 "cells": [
  {
   "cell_type": "code",
   "execution_count": 1,
   "metadata": {},
   "outputs": [],
   "source": [
    "import pymysql\n",
    "from sqlalchemy import create_engine\n",
    "import pandas as pd"
   ]
  },
  {
   "cell_type": "code",
   "execution_count": 2,
   "metadata": {},
   "outputs": [
    {
     "name": "stdout",
     "output_type": "stream",
     "text": [
      "········\n"
     ]
    }
   ],
   "source": [
    "import getpass\n",
    "password = getpass.getpass() # to get the password without being visible"
   ]
  },
  {
   "cell_type": "code",
   "execution_count": 5,
   "metadata": {},
   "outputs": [],
   "source": [
    "connection_string = \"mysql+pymysql://root:\" + password + \"@localhost/sakila\"\n",
    "engine = create_engine(connection_string)"
   ]
  },
  {
   "cell_type": "code",
   "execution_count": 8,
   "metadata": {},
   "outputs": [
    {
     "data": {
      "text/html": [
       "<div>\n",
       "<style scoped>\n",
       "    .dataframe tbody tr th:only-of-type {\n",
       "        vertical-align: middle;\n",
       "    }\n",
       "\n",
       "    .dataframe tbody tr th {\n",
       "        vertical-align: top;\n",
       "    }\n",
       "\n",
       "    .dataframe thead th {\n",
       "        text-align: right;\n",
       "    }\n",
       "</style>\n",
       "<table border=\"1\" class=\"dataframe\">\n",
       "  <thead>\n",
       "    <tr style=\"text-align: right;\">\n",
       "      <th></th>\n",
       "      <th>title</th>\n",
       "      <th>filmsrented</th>\n",
       "      <th>avgrental_rate</th>\n",
       "      <th>Avg_Days_Rented</th>\n",
       "      <th>filmmonthyear</th>\n",
       "      <th>filmyear</th>\n",
       "      <th>filmmonth</th>\n",
       "    </tr>\n",
       "  </thead>\n",
       "  <tbody>\n",
       "    <tr>\n",
       "      <th>0</th>\n",
       "      <td>ACADEMY DINOSAUR</td>\n",
       "      <td>9</td>\n",
       "      <td>0.99</td>\n",
       "      <td>4.7778</td>\n",
       "      <td>07-2005</td>\n",
       "      <td>2005</td>\n",
       "      <td>07</td>\n",
       "    </tr>\n",
       "    <tr>\n",
       "      <th>1</th>\n",
       "      <td>ACADEMY DINOSAUR</td>\n",
       "      <td>9</td>\n",
       "      <td>0.99</td>\n",
       "      <td>5.0000</td>\n",
       "      <td>08-2005</td>\n",
       "      <td>2005</td>\n",
       "      <td>08</td>\n",
       "    </tr>\n",
       "    <tr>\n",
       "      <th>2</th>\n",
       "      <td>ACADEMY DINOSAUR</td>\n",
       "      <td>2</td>\n",
       "      <td>0.99</td>\n",
       "      <td>5.5000</td>\n",
       "      <td>05-2005</td>\n",
       "      <td>2005</td>\n",
       "      <td>05</td>\n",
       "    </tr>\n",
       "    <tr>\n",
       "      <th>3</th>\n",
       "      <td>ACADEMY DINOSAUR</td>\n",
       "      <td>3</td>\n",
       "      <td>0.99</td>\n",
       "      <td>6.0000</td>\n",
       "      <td>06-2005</td>\n",
       "      <td>2005</td>\n",
       "      <td>06</td>\n",
       "    </tr>\n",
       "    <tr>\n",
       "      <th>4</th>\n",
       "      <td>ACE GOLDFINGER</td>\n",
       "      <td>4</td>\n",
       "      <td>4.99</td>\n",
       "      <td>6.2500</td>\n",
       "      <td>08-2005</td>\n",
       "      <td>2005</td>\n",
       "      <td>08</td>\n",
       "    </tr>\n",
       "  </tbody>\n",
       "</table>\n",
       "</div>"
      ],
      "text/plain": [
       "              title  filmsrented  avgrental_rate  Avg_Days_Rented  \\\n",
       "0  ACADEMY DINOSAUR            9            0.99           4.7778   \n",
       "1  ACADEMY DINOSAUR            9            0.99           5.0000   \n",
       "2  ACADEMY DINOSAUR            2            0.99           5.5000   \n",
       "3  ACADEMY DINOSAUR            3            0.99           6.0000   \n",
       "4    ACE GOLDFINGER            4            4.99           6.2500   \n",
       "\n",
       "  filmmonthyear filmyear filmmonth  \n",
       "0       07-2005     2005        07  \n",
       "1       08-2005     2005        08  \n",
       "2       05-2005     2005        05  \n",
       "3       06-2005     2005        06  \n",
       "4       08-2005     2005        08  "
      ]
     },
     "execution_count": 8,
     "metadata": {},
     "output_type": "execute_result"
    }
   ],
   "source": [
    "df = pd.read_sql_query(\"select * from film_rents\", engine)\n",
    "df.head()"
   ]
  },
  {
   "cell_type": "code",
   "execution_count": 9,
   "metadata": {},
   "outputs": [
    {
     "data": {
      "text/plain": [
       "title                0\n",
       "filmsrented          0\n",
       "avgrental_rate       0\n",
       "Avg_Days_Rented    168\n",
       "filmmonthyear        0\n",
       "filmyear             0\n",
       "filmmonth            0\n",
       "dtype: int64"
      ]
     },
     "execution_count": 9,
     "metadata": {},
     "output_type": "execute_result"
    }
   ],
   "source": [
    "df.isna().sum()"
   ]
  },
  {
   "cell_type": "code",
   "execution_count": 11,
   "metadata": {},
   "outputs": [],
   "source": [
    "df= df[-df[\"Avg_Days_Rented\"].isna()]"
   ]
  },
  {
   "cell_type": "code",
   "execution_count": 12,
   "metadata": {},
   "outputs": [
    {
     "data": {
      "text/plain": [
       "title              0\n",
       "filmsrented        0\n",
       "avgrental_rate     0\n",
       "Avg_Days_Rented    0\n",
       "filmmonthyear      0\n",
       "filmyear           0\n",
       "filmmonth          0\n",
       "dtype: int64"
      ]
     },
     "execution_count": 12,
     "metadata": {},
     "output_type": "execute_result"
    }
   ],
   "source": [
    "df.isna().sum()"
   ]
  },
  {
   "cell_type": "code",
   "execution_count": 14,
   "metadata": {},
   "outputs": [
    {
     "name": "stdout",
     "output_type": "stream",
     "text": [
      "<class 'pandas.core.frame.DataFrame'>\n",
      "Int64Index: 3502 entries, 0 to 3669\n",
      "Data columns (total 7 columns):\n",
      " #   Column           Non-Null Count  Dtype  \n",
      "---  ------           --------------  -----  \n",
      " 0   title            3502 non-null   object \n",
      " 1   filmsrented      3502 non-null   int64  \n",
      " 2   avgrental_rate   3502 non-null   float64\n",
      " 3   Avg_Days_Rented  3502 non-null   float64\n",
      " 4   filmmonthyear    3502 non-null   object \n",
      " 5   filmyear         3502 non-null   object \n",
      " 6   filmmonth        3502 non-null   object \n",
      "dtypes: float64(2), int64(1), object(4)\n",
      "memory usage: 218.9+ KB\n"
     ]
    }
   ],
   "source": [
    "df.info()"
   ]
  },
  {
   "cell_type": "code",
   "execution_count": 16,
   "metadata": {},
   "outputs": [],
   "source": [
    "import matplotlib.pyplot as plt\n",
    "import seaborn as sns"
   ]
  },
  {
   "cell_type": "code",
   "execution_count": 17,
   "metadata": {},
   "outputs": [],
   "source": [
    "corr_matrix = df.corr()"
   ]
  },
  {
   "cell_type": "code",
   "execution_count": 19,
   "metadata": {},
   "outputs": [
    {
     "data": {
      "image/png": "[encoded data removed]",
      "text/plain": [
       "<Figure size 720x576 with 2 Axes>"
      ]
     },
     "metadata": {
      "needs_background": "light"
     },
     "output_type": "display_data"
    }
   ],
   "source": [
    "fig, ax = plt.subplots(figsize = (10,8))\n",
    "sns.heatmap(corr_matrix, cmap =\"rainbow\", center = 0, annot = True);"
   ]
  },
  {
   "cell_type": "markdown",
   "metadata": {},
   "source": [
    "### No highly correlated values"
   ]
  },
  {
   "cell_type": "code",
   "execution_count": 20,
   "metadata": {},
   "outputs": [],
   "source": [
    "import numpy as np\n",
    "from sklearn.preprocessing import Normalizer\n",
    "\n",
    "X = df.select_dtypes(include = np.number)"
   ]
  },
  {
   "cell_type": "code",
   "execution_count": 22,
   "metadata": {},
   "outputs": [],
   "source": [
    "transformer = Normalizer()\n",
    "transformer.fit(X)\n",
    "x_normalized = transformer.transform(X)"
   ]
  },
  {
   "cell_type": "code",
   "execution_count": 23,
   "metadata": {},
   "outputs": [
    {
     "data": {
      "text/html": [
       "<div>\n",
       "<style scoped>\n",
       "    .dataframe tbody tr th:only-of-type {\n",
       "        vertical-align: middle;\n",
       "    }\n",
       "\n",
       "    .dataframe tbody tr th {\n",
       "        vertical-align: top;\n",
       "    }\n",
       "\n",
       "    .dataframe thead th {\n",
       "        text-align: right;\n",
       "    }\n",
       "</style>\n",
       "<table border=\"1\" class=\"dataframe\">\n",
       "  <thead>\n",
       "    <tr style=\"text-align: right;\">\n",
       "      <th></th>\n",
       "      <th>filmsrented</th>\n",
       "      <th>avgrental_rate</th>\n",
       "      <th>Avg_Days_Rented</th>\n",
       "    </tr>\n",
       "  </thead>\n",
       "  <tbody>\n",
       "    <tr>\n",
       "      <th>0</th>\n",
       "      <td>0.879116</td>\n",
       "      <td>0.096703</td>\n",
       "      <td>0.466694</td>\n",
       "    </tr>\n",
       "    <tr>\n",
       "      <th>1</th>\n",
       "      <td>0.870144</td>\n",
       "      <td>0.095716</td>\n",
       "      <td>0.483413</td>\n",
       "    </tr>\n",
       "    <tr>\n",
       "      <th>2</th>\n",
       "      <td>0.336956</td>\n",
       "      <td>0.166793</td>\n",
       "      <td>0.926629</td>\n",
       "    </tr>\n",
       "    <tr>\n",
       "      <th>3</th>\n",
       "      <td>0.442422</td>\n",
       "      <td>0.145999</td>\n",
       "      <td>0.884843</td>\n",
       "    </tr>\n",
       "    <tr>\n",
       "      <th>4</th>\n",
       "      <td>0.447318</td>\n",
       "      <td>0.558029</td>\n",
       "      <td>0.698935</td>\n",
       "    </tr>\n",
       "    <tr>\n",
       "      <th>...</th>\n",
       "      <td>...</td>\n",
       "      <td>...</td>\n",
       "      <td>...</td>\n",
       "    </tr>\n",
       "    <tr>\n",
       "      <th>3497</th>\n",
       "      <td>0.169176</td>\n",
       "      <td>0.505835</td>\n",
       "      <td>0.845878</td>\n",
       "    </tr>\n",
       "    <tr>\n",
       "      <th>3498</th>\n",
       "      <td>0.854219</td>\n",
       "      <td>0.355213</td>\n",
       "      <td>0.379650</td>\n",
       "    </tr>\n",
       "    <tr>\n",
       "      <th>3499</th>\n",
       "      <td>0.848044</td>\n",
       "      <td>0.384704</td>\n",
       "      <td>0.364451</td>\n",
       "    </tr>\n",
       "    <tr>\n",
       "      <th>3500</th>\n",
       "      <td>0.615924</td>\n",
       "      <td>0.614692</td>\n",
       "      <td>0.492739</td>\n",
       "    </tr>\n",
       "    <tr>\n",
       "      <th>3501</th>\n",
       "      <td>0.502253</td>\n",
       "      <td>0.835414</td>\n",
       "      <td>0.223218</td>\n",
       "    </tr>\n",
       "  </tbody>\n",
       "</table>\n",
       "<p>3502 rows × 3 columns</p>\n",
       "</div>"
      ],
      "text/plain": [
       "      filmsrented  avgrental_rate  Avg_Days_Rented\n",
       "0        0.879116        0.096703         0.466694\n",
       "1        0.870144        0.095716         0.483413\n",
       "2        0.336956        0.166793         0.926629\n",
       "3        0.442422        0.145999         0.884843\n",
       "4        0.447318        0.558029         0.698935\n",
       "...           ...             ...              ...\n",
       "3497     0.169176        0.505835         0.845878\n",
       "3498     0.854219        0.355213         0.379650\n",
       "3499     0.848044        0.384704         0.364451\n",
       "3500     0.615924        0.614692         0.492739\n",
       "3501     0.502253        0.835414         0.223218\n",
       "\n",
       "[3502 rows x 3 columns]"
      ]
     },
     "execution_count": 23,
     "metadata": {},
     "output_type": "execute_result"
    }
   ],
   "source": [
    "x = pd.DataFrame(x_normalized, columns = X.columns)\n",
    "x"
   ]
  },
  {
   "cell_type": "code",
   "execution_count": 24,
   "metadata": {},
   "outputs": [],
   "source": [
    "cat = df.select_dtypes(include = object)"
   ]
  },
  {
   "cell_type": "code",
   "execution_count": 25,
   "metadata": {},
   "outputs": [
    {
     "data": {
      "text/html": [
       "<div>\n",
       "<style scoped>\n",
       "    .dataframe tbody tr th:only-of-type {\n",
       "        vertical-align: middle;\n",
       "    }\n",
       "\n",
       "    .dataframe tbody tr th {\n",
       "        vertical-align: top;\n",
       "    }\n",
       "\n",
       "    .dataframe thead th {\n",
       "        text-align: right;\n",
       "    }\n",
       "</style>\n",
       "<table border=\"1\" class=\"dataframe\">\n",
       "  <thead>\n",
       "    <tr style=\"text-align: right;\">\n",
       "      <th></th>\n",
       "      <th>title</th>\n",
       "      <th>filmmonthyear</th>\n",
       "      <th>filmyear</th>\n",
       "      <th>filmmonth</th>\n",
       "    </tr>\n",
       "  </thead>\n",
       "  <tbody>\n",
       "    <tr>\n",
       "      <th>0</th>\n",
       "      <td>ACADEMY DINOSAUR</td>\n",
       "      <td>07-2005</td>\n",
       "      <td>2005</td>\n",
       "      <td>07</td>\n",
       "    </tr>\n",
       "    <tr>\n",
       "      <th>1</th>\n",
       "      <td>ACADEMY DINOSAUR</td>\n",
       "      <td>08-2005</td>\n",
       "      <td>2005</td>\n",
       "      <td>08</td>\n",
       "    </tr>\n",
       "    <tr>\n",
       "      <th>2</th>\n",
       "      <td>ACADEMY DINOSAUR</td>\n",
       "      <td>05-2005</td>\n",
       "      <td>2005</td>\n",
       "      <td>05</td>\n",
       "    </tr>\n",
       "    <tr>\n",
       "      <th>3</th>\n",
       "      <td>ACADEMY DINOSAUR</td>\n",
       "      <td>06-2005</td>\n",
       "      <td>2005</td>\n",
       "      <td>06</td>\n",
       "    </tr>\n",
       "    <tr>\n",
       "      <th>4</th>\n",
       "      <td>ACE GOLDFINGER</td>\n",
       "      <td>08-2005</td>\n",
       "      <td>2005</td>\n",
       "      <td>08</td>\n",
       "    </tr>\n",
       "    <tr>\n",
       "      <th>...</th>\n",
       "      <td>...</td>\n",
       "      <td>...</td>\n",
       "      <td>...</td>\n",
       "      <td>...</td>\n",
       "    </tr>\n",
       "    <tr>\n",
       "      <th>3665</th>\n",
       "      <td>ZOOLANDER FICTION</td>\n",
       "      <td>05-2005</td>\n",
       "      <td>2005</td>\n",
       "      <td>05</td>\n",
       "    </tr>\n",
       "    <tr>\n",
       "      <th>3666</th>\n",
       "      <td>ZORRO ARK</td>\n",
       "      <td>07-2005</td>\n",
       "      <td>2005</td>\n",
       "      <td>07</td>\n",
       "    </tr>\n",
       "    <tr>\n",
       "      <th>3667</th>\n",
       "      <td>ZORRO ARK</td>\n",
       "      <td>08-2005</td>\n",
       "      <td>2005</td>\n",
       "      <td>08</td>\n",
       "    </tr>\n",
       "    <tr>\n",
       "      <th>3668</th>\n",
       "      <td>ZORRO ARK</td>\n",
       "      <td>06-2005</td>\n",
       "      <td>2005</td>\n",
       "      <td>06</td>\n",
       "    </tr>\n",
       "    <tr>\n",
       "      <th>3669</th>\n",
       "      <td>ZORRO ARK</td>\n",
       "      <td>05-2005</td>\n",
       "      <td>2005</td>\n",
       "      <td>05</td>\n",
       "    </tr>\n",
       "  </tbody>\n",
       "</table>\n",
       "<p>3502 rows × 4 columns</p>\n",
       "</div>"
      ],
      "text/plain": [
       "                  title filmmonthyear filmyear filmmonth\n",
       "0      ACADEMY DINOSAUR       07-2005     2005        07\n",
       "1      ACADEMY DINOSAUR       08-2005     2005        08\n",
       "2      ACADEMY DINOSAUR       05-2005     2005        05\n",
       "3      ACADEMY DINOSAUR       06-2005     2005        06\n",
       "4        ACE GOLDFINGER       08-2005     2005        08\n",
       "...                 ...           ...      ...       ...\n",
       "3665  ZOOLANDER FICTION       05-2005     2005        05\n",
       "3666          ZORRO ARK       07-2005     2005        07\n",
       "3667          ZORRO ARK       08-2005     2005        08\n",
       "3668          ZORRO ARK       06-2005     2005        06\n",
       "3669          ZORRO ARK       05-2005     2005        05\n",
       "\n",
       "[3502 rows x 4 columns]"
      ]
     },
     "execution_count": 25,
     "metadata": {},
     "output_type": "execute_result"
    }
   ],
   "source": [
    "cat"
   ]
  },
  {
   "cell_type": "code",
   "execution_count": null,
   "metadata": {},
   "outputs": [],
   "source": []
  },
  {
   "cell_type": "code",
   "execution_count": null,
   "metadata": {},
   "outputs": [],
   "source": []
  },
  {
   "cell_type": "code",
   "execution_count": null,
   "metadata": {},
   "outputs": [],
   "source": []
  }
 ],
 "metadata": {
  "kernelspec": {
   "display_name": "Python 3 (ipykernel)",
   "language": "python",
   "name": "python3"
  },
  "language_info": {
   "codemirror_mode": {
    "name": "ipython",
    "version": 3
   },
   "file_extension": ".py",
   "mimetype": "text/x-python",
   "name": "python",
   "nbconvert_exporter": "python",
   "pygments_lexer": "ipython3",
   "version": "3.9.7"
  }
 },
 "nbformat": 4,
 "nbformat_minor": 4
}
