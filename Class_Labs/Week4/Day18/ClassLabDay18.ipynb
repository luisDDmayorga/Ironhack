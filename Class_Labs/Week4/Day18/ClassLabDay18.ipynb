{
 "cells": [
  {
   "cell_type": "markdown",
   "metadata": {},
   "source": [
    "# 1. Classification with Log Regression"
   ]
  },
  {
   "cell_type": "markdown",
   "metadata": {},
   "source": [
    "- we will attemp to predict the loan status using database bank\n",
    "- model: logistic regresion, binary classification\n",
    "- some EDa + cleaning\n",
    "- expectations of low accuracy"
   ]
  },
  {
   "cell_type": "markdown",
   "metadata": {},
   "source": [
    "## 1.1 Assemble the tools"
   ]
  },
  {
   "cell_type": "code",
   "execution_count": 1,
   "metadata": {},
   "outputs": [],
   "source": [
    "import pymysql\n",
    "from sqlalchemy import create_engine\n",
    "import pandas as pd"
   ]
  },
  {
   "cell_type": "code",
   "execution_count": 2,
   "metadata": {
    "scrolled": true
   },
   "outputs": [
    {
     "name": "stdout",
     "output_type": "stream",
     "text": [
      "········\n"
     ]
    }
   ],
   "source": [
    "import getpass # to get the password without being visible\n",
    "password = getpass.getpass()"
   ]
  },
  {
   "cell_type": "markdown",
   "metadata": {},
   "source": [
    "## 1.2 Running SQL query into Python"
   ]
  },
  {
   "cell_type": "code",
   "execution_count": 3,
   "metadata": {},
   "outputs": [],
   "source": [
    "# define a connection string\n",
    "# dialect + driver :// username : password @host : db name\n",
    "\n",
    "connection_string = \"mysql+pymysql://root:\" + password + \"@localhost/bank\"\n",
    "engine = create_engine(connection_string)"
   ]
  },
  {
   "cell_type": "code",
   "execution_count": 4,
   "metadata": {
    "scrolled": true
   },
   "outputs": [
    {
     "data": {
      "text/html": [
       "<div>\n",
       "<style scoped>\n",
       "    .dataframe tbody tr th:only-of-type {\n",
       "        vertical-align: middle;\n",
       "    }\n",
       "\n",
       "    .dataframe tbody tr th {\n",
       "        vertical-align: top;\n",
       "    }\n",
       "\n",
       "    .dataframe thead th {\n",
       "        text-align: right;\n",
       "    }\n",
       "</style>\n",
       "<table border=\"1\" class=\"dataframe\">\n",
       "  <thead>\n",
       "    <tr style=\"text-align: right;\">\n",
       "      <th></th>\n",
       "      <th>account_id</th>\n",
       "      <th>frequency</th>\n",
       "      <th>client_id</th>\n",
       "      <th>district_id</th>\n",
       "    </tr>\n",
       "  </thead>\n",
       "  <tbody>\n",
       "    <tr>\n",
       "      <th>0</th>\n",
       "      <td>1</td>\n",
       "      <td>POPLATEK MESICNE</td>\n",
       "      <td>1</td>\n",
       "      <td>18</td>\n",
       "    </tr>\n",
       "    <tr>\n",
       "      <th>1</th>\n",
       "      <td>2</td>\n",
       "      <td>POPLATEK MESICNE</td>\n",
       "      <td>2</td>\n",
       "      <td>1</td>\n",
       "    </tr>\n",
       "    <tr>\n",
       "      <th>2</th>\n",
       "      <td>3</td>\n",
       "      <td>POPLATEK MESICNE</td>\n",
       "      <td>4</td>\n",
       "      <td>5</td>\n",
       "    </tr>\n",
       "    <tr>\n",
       "      <th>3</th>\n",
       "      <td>4</td>\n",
       "      <td>POPLATEK MESICNE</td>\n",
       "      <td>6</td>\n",
       "      <td>12</td>\n",
       "    </tr>\n",
       "    <tr>\n",
       "      <th>4</th>\n",
       "      <td>5</td>\n",
       "      <td>POPLATEK MESICNE</td>\n",
       "      <td>7</td>\n",
       "      <td>15</td>\n",
       "    </tr>\n",
       "  </tbody>\n",
       "</table>\n",
       "</div>"
      ],
      "text/plain": [
       "   account_id         frequency  client_id  district_id\n",
       "0           1  POPLATEK MESICNE          1           18\n",
       "1           2  POPLATEK MESICNE          2            1\n",
       "2           3  POPLATEK MESICNE          4            5\n",
       "3           4  POPLATEK MESICNE          6           12\n",
       "4           5  POPLATEK MESICNE          7           15"
      ]
     },
     "execution_count": 4,
     "metadata": {},
     "output_type": "execute_result"
    }
   ],
   "source": [
    "# dataframe creation\n",
    "df = pd.read_sql_query(\"select a.account_id, a.frequency, c.client_id, c.district_id from account a join disp d using (account_id) join client c using (client_id) where type = 'OWNER' \", engine)\n",
    "df.head()"
   ]
  },
  {
   "cell_type": "code",
   "execution_count": 5,
   "metadata": {},
   "outputs": [],
   "source": [
    "query = df = \"\"\"\n",
    "select\n",
    "    t.type,\n",
    "    t.operation,\n",
    "    t.amount as t_amount,\n",
    "    t.balance,\n",
    "    t.k_symbol,\n",
    "    l.amount as l_amount,\n",
    "    l.duration,\n",
    "    l.payments,\n",
    "    l.status\n",
    "from\n",
    "    trans t\n",
    "        left join\n",
    "    loan l on t.account_id = l.account_id;\n",
    "\"\"\"\n",
    "data = pd.read_sql_query(query, engine)"
   ]
  },
  {
   "cell_type": "code",
   "execution_count": 6,
   "metadata": {},
   "outputs": [
    {
     "data": {
      "text/html": [
       "<div>\n",
       "<style scoped>\n",
       "    .dataframe tbody tr th:only-of-type {\n",
       "        vertical-align: middle;\n",
       "    }\n",
       "\n",
       "    .dataframe tbody tr th {\n",
       "        vertical-align: top;\n",
       "    }\n",
       "\n",
       "    .dataframe thead th {\n",
       "        text-align: right;\n",
       "    }\n",
       "</style>\n",
       "<table border=\"1\" class=\"dataframe\">\n",
       "  <thead>\n",
       "    <tr style=\"text-align: right;\">\n",
       "      <th></th>\n",
       "      <th>type</th>\n",
       "      <th>operation</th>\n",
       "      <th>t_amount</th>\n",
       "      <th>balance</th>\n",
       "      <th>k_symbol</th>\n",
       "      <th>l_amount</th>\n",
       "      <th>duration</th>\n",
       "      <th>payments</th>\n",
       "      <th>status</th>\n",
       "    </tr>\n",
       "  </thead>\n",
       "  <tbody>\n",
       "    <tr>\n",
       "      <th>0</th>\n",
       "      <td>PRIJEM</td>\n",
       "      <td>VKLAD</td>\n",
       "      <td>700.0</td>\n",
       "      <td>700.0</td>\n",
       "      <td></td>\n",
       "      <td>NaN</td>\n",
       "      <td>NaN</td>\n",
       "      <td>NaN</td>\n",
       "      <td>None</td>\n",
       "    </tr>\n",
       "    <tr>\n",
       "      <th>1</th>\n",
       "      <td>PRIJEM</td>\n",
       "      <td>VKLAD</td>\n",
       "      <td>900.0</td>\n",
       "      <td>900.0</td>\n",
       "      <td></td>\n",
       "      <td>NaN</td>\n",
       "      <td>NaN</td>\n",
       "      <td>NaN</td>\n",
       "      <td>None</td>\n",
       "    </tr>\n",
       "    <tr>\n",
       "      <th>2</th>\n",
       "      <td>PRIJEM</td>\n",
       "      <td>VKLAD</td>\n",
       "      <td>1000.0</td>\n",
       "      <td>1000.0</td>\n",
       "      <td></td>\n",
       "      <td>NaN</td>\n",
       "      <td>NaN</td>\n",
       "      <td>NaN</td>\n",
       "      <td>None</td>\n",
       "    </tr>\n",
       "    <tr>\n",
       "      <th>3</th>\n",
       "      <td>PRIJEM</td>\n",
       "      <td>VKLAD</td>\n",
       "      <td>600.0</td>\n",
       "      <td>600.0</td>\n",
       "      <td></td>\n",
       "      <td>NaN</td>\n",
       "      <td>NaN</td>\n",
       "      <td>NaN</td>\n",
       "      <td>None</td>\n",
       "    </tr>\n",
       "    <tr>\n",
       "      <th>4</th>\n",
       "      <td>PRIJEM</td>\n",
       "      <td>VKLAD</td>\n",
       "      <td>400.0</td>\n",
       "      <td>400.0</td>\n",
       "      <td></td>\n",
       "      <td>NaN</td>\n",
       "      <td>NaN</td>\n",
       "      <td>NaN</td>\n",
       "      <td>None</td>\n",
       "    </tr>\n",
       "  </tbody>\n",
       "</table>\n",
       "</div>"
      ],
      "text/plain": [
       "     type operation  t_amount  balance k_symbol  l_amount  duration  payments  \\\n",
       "0  PRIJEM     VKLAD     700.0    700.0                NaN       NaN       NaN   \n",
       "1  PRIJEM     VKLAD     900.0    900.0                NaN       NaN       NaN   \n",
       "2  PRIJEM     VKLAD    1000.0   1000.0                NaN       NaN       NaN   \n",
       "3  PRIJEM     VKLAD     600.0    600.0                NaN       NaN       NaN   \n",
       "4  PRIJEM     VKLAD     400.0    400.0                NaN       NaN       NaN   \n",
       "\n",
       "  status  \n",
       "0   None  \n",
       "1   None  \n",
       "2   None  \n",
       "3   None  \n",
       "4   None  "
      ]
     },
     "execution_count": 6,
     "metadata": {},
     "output_type": "execute_result"
    }
   ],
   "source": [
    "data.head()"
   ]
  },
  {
   "cell_type": "markdown",
   "metadata": {},
   "source": [
    "## 1.3 EDA and data cleaning\n",
    "- remove nulls\n",
    "- check distribution of num var\n",
    "- look for outliers\n",
    "- simplify categories\n",
    "- check for multicor"
   ]
  },
  {
   "cell_type": "markdown",
   "metadata": {},
   "source": [
    "### 1.3.1 Remove nulls"
   ]
  },
  {
   "cell_type": "code",
   "execution_count": 7,
   "metadata": {},
   "outputs": [
    {
     "data": {
      "text/plain": [
       "type              0\n",
       "operation         0\n",
       "t_amount          0\n",
       "balance           0\n",
       "k_symbol          0\n",
       "l_amount     711938\n",
       "duration     711938\n",
       "payments     711938\n",
       "status       711938\n",
       "dtype: int64"
      ]
     },
     "execution_count": 7,
     "metadata": {},
     "output_type": "execute_result"
    }
   ],
   "source": [
    "data.isna().sum()"
   ]
  },
  {
   "cell_type": "code",
   "execution_count": 8,
   "metadata": {},
   "outputs": [],
   "source": [
    "# filter all the NaN\n",
    "data = data[-data[\"duration\"].isna()]"
   ]
  },
  {
   "cell_type": "code",
   "execution_count": 9,
   "metadata": {},
   "outputs": [
    {
     "data": {
      "text/plain": [
       "type         0\n",
       "operation    0\n",
       "t_amount     0\n",
       "balance      0\n",
       "k_symbol     0\n",
       "l_amount     0\n",
       "duration     0\n",
       "payments     0\n",
       "status       0\n",
       "dtype: int64"
      ]
     },
     "execution_count": 9,
     "metadata": {},
     "output_type": "execute_result"
    }
   ],
   "source": [
    "data.isna().sum( )"
   ]
  },
  {
   "cell_type": "code",
   "execution_count": 10,
   "metadata": {},
   "outputs": [
    {
     "name": "stdout",
     "output_type": "stream",
     "text": [
      "<class 'pandas.core.frame.DataFrame'>\n",
      "Int64Index: 156081 entries, 62 to 868011\n",
      "Data columns (total 9 columns):\n",
      " #   Column     Non-Null Count   Dtype  \n",
      "---  ------     --------------   -----  \n",
      " 0   type       156081 non-null  object \n",
      " 1   operation  156081 non-null  object \n",
      " 2   t_amount   156081 non-null  float64\n",
      " 3   balance    156081 non-null  float64\n",
      " 4   k_symbol   156081 non-null  object \n",
      " 5   l_amount   156081 non-null  float64\n",
      " 6   duration   156081 non-null  float64\n",
      " 7   payments   156081 non-null  float64\n",
      " 8   status     156081 non-null  object \n",
      "dtypes: float64(5), object(4)\n",
      "memory usage: 11.9+ MB\n"
     ]
    }
   ],
   "source": [
    "data.info()"
   ]
  },
  {
   "cell_type": "code",
   "execution_count": 11,
   "metadata": {},
   "outputs": [],
   "source": [
    "# turning duration into categorical, because it comes in values of"
   ]
  },
  {
   "cell_type": "markdown",
   "metadata": {},
   "source": [
    "### 1.3.2 Cleaning categoricals"
   ]
  },
  {
   "cell_type": "code",
   "execution_count": 12,
   "metadata": {},
   "outputs": [
    {
     "data": {
      "text/plain": [
       "VYBER             70189\n",
       "                  31337\n",
       "PREVOD NA UCET    25796\n",
       "VKLAD             22633\n",
       "PREVOD Z UCTU      5336\n",
       "VYBER KARTOU        790\n",
       "Name: operation, dtype: int64"
      ]
     },
     "execution_count": 12,
     "metadata": {},
     "output_type": "execute_result"
    }
   ],
   "source": [
    "data[\"operation\"].value_counts()"
   ]
  },
  {
   "cell_type": "code",
   "execution_count": 13,
   "metadata": {},
   "outputs": [],
   "source": [
    "def clean_operation(x):\n",
    "    x = x.lower()\n",
    "    if \"vyber\" in x:\n",
    "        return \"vyber\"\n",
    "    elif \"prevod\" in x:\n",
    "        return \"prevod\"\n",
    "    elif \"vklad\" in x:\n",
    "        return \"vklad\"\n",
    "    else:\n",
    "        return \"unknown\""
   ]
  },
  {
   "cell_type": "code",
   "execution_count": 14,
   "metadata": {},
   "outputs": [],
   "source": [
    "data[\"operation\"] = data[\"operation\"].apply(clean_operation)"
   ]
  },
  {
   "cell_type": "code",
   "execution_count": 15,
   "metadata": {},
   "outputs": [
    {
     "data": {
      "text/plain": [
       "Index(['', 'UROK', 'SLUZBY', 'SIPO', 'UVER', ' ', 'POJISTNE', 'SANKC. UROK'], dtype='object')"
      ]
     },
     "execution_count": 15,
     "metadata": {},
     "output_type": "execute_result"
    }
   ],
   "source": [
    "data[\"k_symbol\"].value_counts().index"
   ]
  },
  {
   "cell_type": "code",
   "execution_count": 16,
   "metadata": {},
   "outputs": [],
   "source": [
    "def clean_ksymbol(x):\n",
    "    if x in [\"\", \" \"]:\n",
    "        return \"unkown\"\n",
    "    else:\n",
    "        return x"
   ]
  },
  {
   "cell_type": "code",
   "execution_count": 17,
   "metadata": {},
   "outputs": [],
   "source": [
    "data[\"k_symbol\"] = data[\"k_symbol\"].apply(clean_ksymbol)"
   ]
  },
  {
   "cell_type": "code",
   "execution_count": 18,
   "metadata": {},
   "outputs": [
    {
     "data": {
      "text/plain": [
       "unkown         79925\n",
       "UROK           31337\n",
       "SLUZBY         23592\n",
       "SIPO           10482\n",
       "UVER            7744\n",
       "POJISTNE        2412\n",
       "SANKC. UROK      589\n",
       "Name: k_symbol, dtype: int64"
      ]
     },
     "execution_count": 18,
     "metadata": {},
     "output_type": "execute_result"
    }
   ],
   "source": [
    "data[\"k_symbol\"].value_counts()"
   ]
  },
  {
   "cell_type": "code",
   "execution_count": 19,
   "metadata": {},
   "outputs": [],
   "source": [
    "# filter data so that only rows remain where k_symbol is \"POJISTNE\", \"SANK. UROK\" or \"UVER\"\n",
    "data = data[-data[\"k_symbol\"].isin([\"POJISTNE\", \"SANKC. UROK\", \"UVER\"])]"
   ]
  },
  {
   "cell_type": "code",
   "execution_count": 20,
   "metadata": {},
   "outputs": [],
   "source": [
    "# reset index\n",
    "data.reset_index(drop=True, inplace=True)"
   ]
  },
  {
   "cell_type": "code",
   "execution_count": 21,
   "metadata": {},
   "outputs": [],
   "source": [
    "def clean_type(x):\n",
    "    if \"PRI\" in x:\n",
    "        return \"PRIJEM\"\n",
    "    else:\n",
    "        return x\n",
    "\n",
    "data[\"type\"] = data[\"type\"].apply(clean_type)"
   ]
  },
  {
   "cell_type": "code",
   "execution_count": 22,
   "metadata": {},
   "outputs": [
    {
     "data": {
      "text/plain": [
       "VYDAJ     80683\n",
       "PRIJEM    59306\n",
       "VYBER      5347\n",
       "Name: type, dtype: int64"
      ]
     },
     "execution_count": 22,
     "metadata": {},
     "output_type": "execute_result"
    }
   ],
   "source": [
    "data[\"type\"].value_counts()"
   ]
  },
  {
   "cell_type": "markdown",
   "metadata": {},
   "source": [
    "## 1.4 Check correlations for numerical columns"
   ]
  },
  {
   "cell_type": "code",
   "execution_count": 23,
   "metadata": {},
   "outputs": [],
   "source": [
    "import matplotlib.pyplot as plt\n",
    "import seaborn as sns"
   ]
  },
  {
   "cell_type": "code",
   "execution_count": 24,
   "metadata": {},
   "outputs": [],
   "source": [
    "corr_matrix = data.corr()"
   ]
  },
  {
   "cell_type": "code",
   "execution_count": 25,
   "metadata": {},
   "outputs": [
    {
     "data": {
      "image/png": "[encoded data removed]",
      "text/plain": [
       "<Figure size 720x576 with 2 Axes>"
      ]
     },
     "metadata": {
      "needs_background": "light"
     },
     "output_type": "display_data"
    }
   ],
   "source": [
    "fig, ax = plt.subplots(figsize = (10,8))\n",
    "sns.heatmap(corr_matrix, cmap =\"seismic\", center = 0, annot = True);"
   ]
  },
  {
   "cell_type": "markdown",
   "metadata": {},
   "source": [
    "Note:\n",
    "- Some high correlations between my features: Come back after first model validation and maybe drop highly. correlated features"
   ]
  },
  {
   "cell_type": "code",
   "execution_count": 26,
   "metadata": {},
   "outputs": [
    {
     "data": {
      "text/plain": [
       "<seaborn.axisgrid.FacetGrid at 0x7fb3b71ae670>"
      ]
     },
     "execution_count": 26,
     "metadata": {},
     "output_type": "execute_result"
    },
    {
     "data": {
      "image/png": "[encoded data removed]",
      "text/plain": [
       "<Figure size 360x360 with 1 Axes>"
      ]
     },
     "metadata": {
      "needs_background": "light"
     },
     "output_type": "display_data"
    }
   ],
   "source": [
    "sns.displot(data['l_amount'])"
   ]
  },
  {
   "cell_type": "markdown",
   "metadata": {},
   "source": [
    "## 1.5 Split data into categorical and number"
   ]
  },
  {
   "cell_type": "code",
   "execution_count": 27,
   "metadata": {},
   "outputs": [],
   "source": [
    "import numpy as np\n",
    "from sklearn.preprocessing import Normalizer\n",
    "\n",
    "X = data.select_dtypes(include = np.number)"
   ]
  },
  {
   "cell_type": "code",
   "execution_count": 28,
   "metadata": {},
   "outputs": [
    {
     "data": {
      "text/html": [
       "<div>\n",
       "<style scoped>\n",
       "    .dataframe tbody tr th:only-of-type {\n",
       "        vertical-align: middle;\n",
       "    }\n",
       "\n",
       "    .dataframe tbody tr th {\n",
       "        vertical-align: top;\n",
       "    }\n",
       "\n",
       "    .dataframe thead th {\n",
       "        text-align: right;\n",
       "    }\n",
       "</style>\n",
       "<table border=\"1\" class=\"dataframe\">\n",
       "  <thead>\n",
       "    <tr style=\"text-align: right;\">\n",
       "      <th></th>\n",
       "      <th>t_amount</th>\n",
       "      <th>balance</th>\n",
       "      <th>l_amount</th>\n",
       "      <th>duration</th>\n",
       "      <th>payments</th>\n",
       "    </tr>\n",
       "  </thead>\n",
       "  <tbody>\n",
       "    <tr>\n",
       "      <th>0</th>\n",
       "      <td>44749.0</td>\n",
       "      <td>45549.0</td>\n",
       "      <td>79608.0</td>\n",
       "      <td>24.0</td>\n",
       "      <td>3317.0</td>\n",
       "    </tr>\n",
       "    <tr>\n",
       "      <th>1</th>\n",
       "      <td>1000.0</td>\n",
       "      <td>1000.0</td>\n",
       "      <td>52788.0</td>\n",
       "      <td>12.0</td>\n",
       "      <td>4399.0</td>\n",
       "    </tr>\n",
       "    <tr>\n",
       "      <th>2</th>\n",
       "      <td>1100.0</td>\n",
       "      <td>1100.0</td>\n",
       "      <td>21924.0</td>\n",
       "      <td>36.0</td>\n",
       "      <td>609.0</td>\n",
       "    </tr>\n",
       "    <tr>\n",
       "      <th>3</th>\n",
       "      <td>700.0</td>\n",
       "      <td>700.0</td>\n",
       "      <td>23052.0</td>\n",
       "      <td>12.0</td>\n",
       "      <td>1921.0</td>\n",
       "    </tr>\n",
       "    <tr>\n",
       "      <th>4</th>\n",
       "      <td>900.0</td>\n",
       "      <td>900.0</td>\n",
       "      <td>41904.0</td>\n",
       "      <td>12.0</td>\n",
       "      <td>3492.0</td>\n",
       "    </tr>\n",
       "  </tbody>\n",
       "</table>\n",
       "</div>"
      ],
      "text/plain": [
       "   t_amount  balance  l_amount  duration  payments\n",
       "0   44749.0  45549.0   79608.0      24.0    3317.0\n",
       "1    1000.0   1000.0   52788.0      12.0    4399.0\n",
       "2    1100.0   1100.0   21924.0      36.0     609.0\n",
       "3     700.0    700.0   23052.0      12.0    1921.0\n",
       "4     900.0    900.0   41904.0      12.0    3492.0"
      ]
     },
     "execution_count": 28,
     "metadata": {},
     "output_type": "execute_result"
    }
   ],
   "source": [
    "X.head()"
   ]
  },
  {
   "cell_type": "code",
   "execution_count": 29,
   "metadata": {},
   "outputs": [],
   "source": [
    "transformer = Normalizer()\n",
    "transformer.fit(X)\n",
    "x_normalized = transformer.transform(X)"
   ]
  },
  {
   "cell_type": "code",
   "execution_count": 30,
   "metadata": {},
   "outputs": [
    {
     "data": {
      "text/html": [
       "<div>\n",
       "<style scoped>\n",
       "    .dataframe tbody tr th:only-of-type {\n",
       "        vertical-align: middle;\n",
       "    }\n",
       "\n",
       "    .dataframe tbody tr th {\n",
       "        vertical-align: top;\n",
       "    }\n",
       "\n",
       "    .dataframe thead th {\n",
       "        text-align: right;\n",
       "    }\n",
       "</style>\n",
       "<table border=\"1\" class=\"dataframe\">\n",
       "  <thead>\n",
       "    <tr style=\"text-align: right;\">\n",
       "      <th></th>\n",
       "      <th>t_amount</th>\n",
       "      <th>balance</th>\n",
       "      <th>l_amount</th>\n",
       "      <th>duration</th>\n",
       "      <th>payments</th>\n",
       "    </tr>\n",
       "  </thead>\n",
       "  <tbody>\n",
       "    <tr>\n",
       "      <th>0</th>\n",
       "      <td>0.438261</td>\n",
       "      <td>0.446096</td>\n",
       "      <td>0.779661</td>\n",
       "      <td>0.000235</td>\n",
       "      <td>0.032486</td>\n",
       "    </tr>\n",
       "    <tr>\n",
       "      <th>1</th>\n",
       "      <td>0.018872</td>\n",
       "      <td>0.018872</td>\n",
       "      <td>0.996191</td>\n",
       "      <td>0.000226</td>\n",
       "      <td>0.083016</td>\n",
       "    </tr>\n",
       "    <tr>\n",
       "      <th>2</th>\n",
       "      <td>0.050028</td>\n",
       "      <td>0.050028</td>\n",
       "      <td>0.997108</td>\n",
       "      <td>0.001637</td>\n",
       "      <td>0.027697</td>\n",
       "    </tr>\n",
       "    <tr>\n",
       "      <th>3</th>\n",
       "      <td>0.030234</td>\n",
       "      <td>0.030234</td>\n",
       "      <td>0.995634</td>\n",
       "      <td>0.000518</td>\n",
       "      <td>0.082970</td>\n",
       "    </tr>\n",
       "    <tr>\n",
       "      <th>4</th>\n",
       "      <td>0.021394</td>\n",
       "      <td>0.021394</td>\n",
       "      <td>0.996090</td>\n",
       "      <td>0.000285</td>\n",
       "      <td>0.083007</td>\n",
       "    </tr>\n",
       "    <tr>\n",
       "      <th>...</th>\n",
       "      <td>...</td>\n",
       "      <td>...</td>\n",
       "      <td>...</td>\n",
       "      <td>...</td>\n",
       "      <td>...</td>\n",
       "    </tr>\n",
       "    <tr>\n",
       "      <th>145331</th>\n",
       "      <td>0.000253</td>\n",
       "      <td>0.063358</td>\n",
       "      <td>0.997852</td>\n",
       "      <td>0.000223</td>\n",
       "      <td>0.016631</td>\n",
       "    </tr>\n",
       "    <tr>\n",
       "      <th>145332</th>\n",
       "      <td>0.000426</td>\n",
       "      <td>0.096119</td>\n",
       "      <td>0.995232</td>\n",
       "      <td>0.000137</td>\n",
       "      <td>0.016587</td>\n",
       "    </tr>\n",
       "    <tr>\n",
       "      <th>145333</th>\n",
       "      <td>0.000481</td>\n",
       "      <td>0.113176</td>\n",
       "      <td>0.993437</td>\n",
       "      <td>0.000219</td>\n",
       "      <td>0.016557</td>\n",
       "    </tr>\n",
       "    <tr>\n",
       "      <th>145334</th>\n",
       "      <td>0.000706</td>\n",
       "      <td>0.152565</td>\n",
       "      <td>0.988156</td>\n",
       "      <td>0.000156</td>\n",
       "      <td>0.016469</td>\n",
       "    </tr>\n",
       "    <tr>\n",
       "      <th>145335</th>\n",
       "      <td>0.000377</td>\n",
       "      <td>0.089420</td>\n",
       "      <td>0.995856</td>\n",
       "      <td>0.000119</td>\n",
       "      <td>0.016598</td>\n",
       "    </tr>\n",
       "  </tbody>\n",
       "</table>\n",
       "<p>145336 rows × 5 columns</p>\n",
       "</div>"
      ],
      "text/plain": [
       "        t_amount   balance  l_amount  duration  payments\n",
       "0       0.438261  0.446096  0.779661  0.000235  0.032486\n",
       "1       0.018872  0.018872  0.996191  0.000226  0.083016\n",
       "2       0.050028  0.050028  0.997108  0.001637  0.027697\n",
       "3       0.030234  0.030234  0.995634  0.000518  0.082970\n",
       "4       0.021394  0.021394  0.996090  0.000285  0.083007\n",
       "...          ...       ...       ...       ...       ...\n",
       "145331  0.000253  0.063358  0.997852  0.000223  0.016631\n",
       "145332  0.000426  0.096119  0.995232  0.000137  0.016587\n",
       "145333  0.000481  0.113176  0.993437  0.000219  0.016557\n",
       "145334  0.000706  0.152565  0.988156  0.000156  0.016469\n",
       "145335  0.000377  0.089420  0.995856  0.000119  0.016598\n",
       "\n",
       "[145336 rows x 5 columns]"
      ]
     },
     "execution_count": 30,
     "metadata": {},
     "output_type": "execute_result"
    }
   ],
   "source": [
    "x = pd.DataFrame(x_normalized, columns = X.columns)\n",
    "x"
   ]
  },
  {
   "cell_type": "code",
   "execution_count": 31,
   "metadata": {},
   "outputs": [
    {
     "data": {
      "text/html": [
       "<div>\n",
       "<style scoped>\n",
       "    .dataframe tbody tr th:only-of-type {\n",
       "        vertical-align: middle;\n",
       "    }\n",
       "\n",
       "    .dataframe tbody tr th {\n",
       "        vertical-align: top;\n",
       "    }\n",
       "\n",
       "    .dataframe thead th {\n",
       "        text-align: right;\n",
       "    }\n",
       "</style>\n",
       "<table border=\"1\" class=\"dataframe\">\n",
       "  <thead>\n",
       "    <tr style=\"text-align: right;\">\n",
       "      <th></th>\n",
       "      <th>type</th>\n",
       "      <th>operation</th>\n",
       "      <th>t_amount</th>\n",
       "      <th>balance</th>\n",
       "      <th>k_symbol</th>\n",
       "      <th>l_amount</th>\n",
       "      <th>duration</th>\n",
       "      <th>payments</th>\n",
       "      <th>status</th>\n",
       "    </tr>\n",
       "  </thead>\n",
       "  <tbody>\n",
       "    <tr>\n",
       "      <th>0</th>\n",
       "      <td>PRIJEM</td>\n",
       "      <td>prevod</td>\n",
       "      <td>44749.0</td>\n",
       "      <td>45549.0</td>\n",
       "      <td>unkown</td>\n",
       "      <td>79608.0</td>\n",
       "      <td>24.0</td>\n",
       "      <td>3317.0</td>\n",
       "      <td>A</td>\n",
       "    </tr>\n",
       "    <tr>\n",
       "      <th>1</th>\n",
       "      <td>PRIJEM</td>\n",
       "      <td>vklad</td>\n",
       "      <td>1000.0</td>\n",
       "      <td>1000.0</td>\n",
       "      <td>unkown</td>\n",
       "      <td>52788.0</td>\n",
       "      <td>12.0</td>\n",
       "      <td>4399.0</td>\n",
       "      <td>A</td>\n",
       "    </tr>\n",
       "    <tr>\n",
       "      <th>2</th>\n",
       "      <td>PRIJEM</td>\n",
       "      <td>vklad</td>\n",
       "      <td>1100.0</td>\n",
       "      <td>1100.0</td>\n",
       "      <td>unkown</td>\n",
       "      <td>21924.0</td>\n",
       "      <td>36.0</td>\n",
       "      <td>609.0</td>\n",
       "      <td>A</td>\n",
       "    </tr>\n",
       "    <tr>\n",
       "      <th>3</th>\n",
       "      <td>PRIJEM</td>\n",
       "      <td>vklad</td>\n",
       "      <td>700.0</td>\n",
       "      <td>700.0</td>\n",
       "      <td>unkown</td>\n",
       "      <td>23052.0</td>\n",
       "      <td>12.0</td>\n",
       "      <td>1921.0</td>\n",
       "      <td>A</td>\n",
       "    </tr>\n",
       "    <tr>\n",
       "      <th>4</th>\n",
       "      <td>PRIJEM</td>\n",
       "      <td>vklad</td>\n",
       "      <td>900.0</td>\n",
       "      <td>900.0</td>\n",
       "      <td>unkown</td>\n",
       "      <td>41904.0</td>\n",
       "      <td>12.0</td>\n",
       "      <td>3492.0</td>\n",
       "      <td>A</td>\n",
       "    </tr>\n",
       "    <tr>\n",
       "      <th>...</th>\n",
       "      <td>...</td>\n",
       "      <td>...</td>\n",
       "      <td>...</td>\n",
       "      <td>...</td>\n",
       "      <td>...</td>\n",
       "      <td>...</td>\n",
       "      <td>...</td>\n",
       "      <td>...</td>\n",
       "      <td>...</td>\n",
       "    </tr>\n",
       "    <tr>\n",
       "      <th>145331</th>\n",
       "      <td>PRIJEM</td>\n",
       "      <td>unknown</td>\n",
       "      <td>67.9</td>\n",
       "      <td>17036.9</td>\n",
       "      <td>UROK</td>\n",
       "      <td>268320.0</td>\n",
       "      <td>60.0</td>\n",
       "      <td>4472.0</td>\n",
       "      <td>C</td>\n",
       "    </tr>\n",
       "    <tr>\n",
       "      <th>145332</th>\n",
       "      <td>PRIJEM</td>\n",
       "      <td>unknown</td>\n",
       "      <td>187.2</td>\n",
       "      <td>42249.6</td>\n",
       "      <td>UROK</td>\n",
       "      <td>437460.0</td>\n",
       "      <td>60.0</td>\n",
       "      <td>7291.0</td>\n",
       "      <td>C</td>\n",
       "    </tr>\n",
       "    <tr>\n",
       "      <th>145333</th>\n",
       "      <td>PRIJEM</td>\n",
       "      <td>unknown</td>\n",
       "      <td>132.0</td>\n",
       "      <td>31046.4</td>\n",
       "      <td>UROK</td>\n",
       "      <td>272520.0</td>\n",
       "      <td>60.0</td>\n",
       "      <td>4542.0</td>\n",
       "      <td>C</td>\n",
       "    </tr>\n",
       "    <tr>\n",
       "      <th>145334</th>\n",
       "      <td>PRIJEM</td>\n",
       "      <td>unknown</td>\n",
       "      <td>271.6</td>\n",
       "      <td>58694.2</td>\n",
       "      <td>UROK</td>\n",
       "      <td>380160.0</td>\n",
       "      <td>60.0</td>\n",
       "      <td>6336.0</td>\n",
       "      <td>C</td>\n",
       "    </tr>\n",
       "    <tr>\n",
       "      <th>145335</th>\n",
       "      <td>PRIJEM</td>\n",
       "      <td>unknown</td>\n",
       "      <td>190.7</td>\n",
       "      <td>45255.1</td>\n",
       "      <td>UROK</td>\n",
       "      <td>504000.0</td>\n",
       "      <td>60.0</td>\n",
       "      <td>8400.0</td>\n",
       "      <td>C</td>\n",
       "    </tr>\n",
       "  </tbody>\n",
       "</table>\n",
       "<p>145336 rows × 9 columns</p>\n",
       "</div>"
      ],
      "text/plain": [
       "          type operation  t_amount  balance k_symbol  l_amount  duration  \\\n",
       "0       PRIJEM    prevod   44749.0  45549.0   unkown   79608.0      24.0   \n",
       "1       PRIJEM     vklad    1000.0   1000.0   unkown   52788.0      12.0   \n",
       "2       PRIJEM     vklad    1100.0   1100.0   unkown   21924.0      36.0   \n",
       "3       PRIJEM     vklad     700.0    700.0   unkown   23052.0      12.0   \n",
       "4       PRIJEM     vklad     900.0    900.0   unkown   41904.0      12.0   \n",
       "...        ...       ...       ...      ...      ...       ...       ...   \n",
       "145331  PRIJEM   unknown      67.9  17036.9     UROK  268320.0      60.0   \n",
       "145332  PRIJEM   unknown     187.2  42249.6     UROK  437460.0      60.0   \n",
       "145333  PRIJEM   unknown     132.0  31046.4     UROK  272520.0      60.0   \n",
       "145334  PRIJEM   unknown     271.6  58694.2     UROK  380160.0      60.0   \n",
       "145335  PRIJEM   unknown     190.7  45255.1     UROK  504000.0      60.0   \n",
       "\n",
       "        payments status  \n",
       "0         3317.0      A  \n",
       "1         4399.0      A  \n",
       "2          609.0      A  \n",
       "3         1921.0      A  \n",
       "4         3492.0      A  \n",
       "...          ...    ...  \n",
       "145331    4472.0      C  \n",
       "145332    7291.0      C  \n",
       "145333    4542.0      C  \n",
       "145334    6336.0      C  \n",
       "145335    8400.0      C  \n",
       "\n",
       "[145336 rows x 9 columns]"
      ]
     },
     "execution_count": 31,
     "metadata": {},
     "output_type": "execute_result"
    }
   ],
   "source": [
    "data"
   ]
  },
  {
   "cell_type": "code",
   "execution_count": 32,
   "metadata": {},
   "outputs": [],
   "source": [
    "def goodbad(s):\n",
    "    if s in [\"A\", \"C\"]:\n",
    "        return 1 # good status\n",
    "    else:\n",
    "        return 0 # bad status\n",
    "data[\"status_new\"] = list(map(goodbad, data[\"status\"]))\n"
   ]
  },
  {
   "cell_type": "code",
   "execution_count": 33,
   "metadata": {},
   "outputs": [
    {
     "data": {
      "text/html": [
       "<div>\n",
       "<style scoped>\n",
       "    .dataframe tbody tr th:only-of-type {\n",
       "        vertical-align: middle;\n",
       "    }\n",
       "\n",
       "    .dataframe tbody tr th {\n",
       "        vertical-align: top;\n",
       "    }\n",
       "\n",
       "    .dataframe thead th {\n",
       "        text-align: right;\n",
       "    }\n",
       "</style>\n",
       "<table border=\"1\" class=\"dataframe\">\n",
       "  <thead>\n",
       "    <tr style=\"text-align: right;\">\n",
       "      <th></th>\n",
       "      <th>type</th>\n",
       "      <th>operation</th>\n",
       "      <th>t_amount</th>\n",
       "      <th>balance</th>\n",
       "      <th>k_symbol</th>\n",
       "      <th>l_amount</th>\n",
       "      <th>duration</th>\n",
       "      <th>payments</th>\n",
       "      <th>status</th>\n",
       "      <th>status_new</th>\n",
       "    </tr>\n",
       "  </thead>\n",
       "  <tbody>\n",
       "    <tr>\n",
       "      <th>0</th>\n",
       "      <td>PRIJEM</td>\n",
       "      <td>prevod</td>\n",
       "      <td>44749.0</td>\n",
       "      <td>45549.0</td>\n",
       "      <td>unkown</td>\n",
       "      <td>79608.0</td>\n",
       "      <td>24.0</td>\n",
       "      <td>3317.0</td>\n",
       "      <td>A</td>\n",
       "      <td>1</td>\n",
       "    </tr>\n",
       "    <tr>\n",
       "      <th>1</th>\n",
       "      <td>PRIJEM</td>\n",
       "      <td>vklad</td>\n",
       "      <td>1000.0</td>\n",
       "      <td>1000.0</td>\n",
       "      <td>unkown</td>\n",
       "      <td>52788.0</td>\n",
       "      <td>12.0</td>\n",
       "      <td>4399.0</td>\n",
       "      <td>A</td>\n",
       "      <td>1</td>\n",
       "    </tr>\n",
       "    <tr>\n",
       "      <th>2</th>\n",
       "      <td>PRIJEM</td>\n",
       "      <td>vklad</td>\n",
       "      <td>1100.0</td>\n",
       "      <td>1100.0</td>\n",
       "      <td>unkown</td>\n",
       "      <td>21924.0</td>\n",
       "      <td>36.0</td>\n",
       "      <td>609.0</td>\n",
       "      <td>A</td>\n",
       "      <td>1</td>\n",
       "    </tr>\n",
       "    <tr>\n",
       "      <th>3</th>\n",
       "      <td>PRIJEM</td>\n",
       "      <td>vklad</td>\n",
       "      <td>700.0</td>\n",
       "      <td>700.0</td>\n",
       "      <td>unkown</td>\n",
       "      <td>23052.0</td>\n",
       "      <td>12.0</td>\n",
       "      <td>1921.0</td>\n",
       "      <td>A</td>\n",
       "      <td>1</td>\n",
       "    </tr>\n",
       "    <tr>\n",
       "      <th>4</th>\n",
       "      <td>PRIJEM</td>\n",
       "      <td>vklad</td>\n",
       "      <td>900.0</td>\n",
       "      <td>900.0</td>\n",
       "      <td>unkown</td>\n",
       "      <td>41904.0</td>\n",
       "      <td>12.0</td>\n",
       "      <td>3492.0</td>\n",
       "      <td>A</td>\n",
       "      <td>1</td>\n",
       "    </tr>\n",
       "    <tr>\n",
       "      <th>...</th>\n",
       "      <td>...</td>\n",
       "      <td>...</td>\n",
       "      <td>...</td>\n",
       "      <td>...</td>\n",
       "      <td>...</td>\n",
       "      <td>...</td>\n",
       "      <td>...</td>\n",
       "      <td>...</td>\n",
       "      <td>...</td>\n",
       "      <td>...</td>\n",
       "    </tr>\n",
       "    <tr>\n",
       "      <th>145331</th>\n",
       "      <td>PRIJEM</td>\n",
       "      <td>unknown</td>\n",
       "      <td>67.9</td>\n",
       "      <td>17036.9</td>\n",
       "      <td>UROK</td>\n",
       "      <td>268320.0</td>\n",
       "      <td>60.0</td>\n",
       "      <td>4472.0</td>\n",
       "      <td>C</td>\n",
       "      <td>1</td>\n",
       "    </tr>\n",
       "    <tr>\n",
       "      <th>145332</th>\n",
       "      <td>PRIJEM</td>\n",
       "      <td>unknown</td>\n",
       "      <td>187.2</td>\n",
       "      <td>42249.6</td>\n",
       "      <td>UROK</td>\n",
       "      <td>437460.0</td>\n",
       "      <td>60.0</td>\n",
       "      <td>7291.0</td>\n",
       "      <td>C</td>\n",
       "      <td>1</td>\n",
       "    </tr>\n",
       "    <tr>\n",
       "      <th>145333</th>\n",
       "      <td>PRIJEM</td>\n",
       "      <td>unknown</td>\n",
       "      <td>132.0</td>\n",
       "      <td>31046.4</td>\n",
       "      <td>UROK</td>\n",
       "      <td>272520.0</td>\n",
       "      <td>60.0</td>\n",
       "      <td>4542.0</td>\n",
       "      <td>C</td>\n",
       "      <td>1</td>\n",
       "    </tr>\n",
       "    <tr>\n",
       "      <th>145334</th>\n",
       "      <td>PRIJEM</td>\n",
       "      <td>unknown</td>\n",
       "      <td>271.6</td>\n",
       "      <td>58694.2</td>\n",
       "      <td>UROK</td>\n",
       "      <td>380160.0</td>\n",
       "      <td>60.0</td>\n",
       "      <td>6336.0</td>\n",
       "      <td>C</td>\n",
       "      <td>1</td>\n",
       "    </tr>\n",
       "    <tr>\n",
       "      <th>145335</th>\n",
       "      <td>PRIJEM</td>\n",
       "      <td>unknown</td>\n",
       "      <td>190.7</td>\n",
       "      <td>45255.1</td>\n",
       "      <td>UROK</td>\n",
       "      <td>504000.0</td>\n",
       "      <td>60.0</td>\n",
       "      <td>8400.0</td>\n",
       "      <td>C</td>\n",
       "      <td>1</td>\n",
       "    </tr>\n",
       "  </tbody>\n",
       "</table>\n",
       "<p>145336 rows × 10 columns</p>\n",
       "</div>"
      ],
      "text/plain": [
       "          type operation  t_amount  balance k_symbol  l_amount  duration  \\\n",
       "0       PRIJEM    prevod   44749.0  45549.0   unkown   79608.0      24.0   \n",
       "1       PRIJEM     vklad    1000.0   1000.0   unkown   52788.0      12.0   \n",
       "2       PRIJEM     vklad    1100.0   1100.0   unkown   21924.0      36.0   \n",
       "3       PRIJEM     vklad     700.0    700.0   unkown   23052.0      12.0   \n",
       "4       PRIJEM     vklad     900.0    900.0   unkown   41904.0      12.0   \n",
       "...        ...       ...       ...      ...      ...       ...       ...   \n",
       "145331  PRIJEM   unknown      67.9  17036.9     UROK  268320.0      60.0   \n",
       "145332  PRIJEM   unknown     187.2  42249.6     UROK  437460.0      60.0   \n",
       "145333  PRIJEM   unknown     132.0  31046.4     UROK  272520.0      60.0   \n",
       "145334  PRIJEM   unknown     271.6  58694.2     UROK  380160.0      60.0   \n",
       "145335  PRIJEM   unknown     190.7  45255.1     UROK  504000.0      60.0   \n",
       "\n",
       "        payments status  status_new  \n",
       "0         3317.0      A           1  \n",
       "1         4399.0      A           1  \n",
       "2          609.0      A           1  \n",
       "3         1921.0      A           1  \n",
       "4         3492.0      A           1  \n",
       "...          ...    ...         ...  \n",
       "145331    4472.0      C           1  \n",
       "145332    7291.0      C           1  \n",
       "145333    4542.0      C           1  \n",
       "145334    6336.0      C           1  \n",
       "145335    8400.0      C           1  \n",
       "\n",
       "[145336 rows x 10 columns]"
      ]
     },
     "execution_count": 33,
     "metadata": {},
     "output_type": "execute_result"
    }
   ],
   "source": [
    "data"
   ]
  },
  {
   "cell_type": "code",
   "execution_count": 34,
   "metadata": {},
   "outputs": [
    {
     "data": {
      "text/plain": [
       "1    127747\n",
       "0     17589\n",
       "Name: status_new, dtype: int64"
      ]
     },
     "execution_count": 34,
     "metadata": {},
     "output_type": "execute_result"
    }
   ],
   "source": [
    "data[\"status_new\"].value_counts()\n",
    "\n",
    "# this is an imbalanced data set - between the classes\n",
    "# majority class (good loans) 86%\n",
    "# minority class (bad loans) 14%\n",
    "\n",
    "# risk of amplification of the majority class\n",
    "# model struggles to identify bad loans\n",
    "\n",
    "# sampling techniques:\n",
    "# - addressing imbalance\n",
    "# - poorly representative data\n",
    "# - small data sets\n",
    "\n",
    "# oversampling - give the mimority class more rows\n",
    "# unsampling - give the mayority class less rows\n",
    "\n",
    "# tomek links\n",
    "# smote\n",
    "# random undersampling - random oversampling"
   ]
  },
  {
   "cell_type": "code",
   "execution_count": 35,
   "metadata": {},
   "outputs": [],
   "source": [
    "cat = data.select_dtypes(include = object)"
   ]
  },
  {
   "cell_type": "code",
   "execution_count": 36,
   "metadata": {},
   "outputs": [
    {
     "data": {
      "text/html": [
       "<div>\n",
       "<style scoped>\n",
       "    .dataframe tbody tr th:only-of-type {\n",
       "        vertical-align: middle;\n",
       "    }\n",
       "\n",
       "    .dataframe tbody tr th {\n",
       "        vertical-align: top;\n",
       "    }\n",
       "\n",
       "    .dataframe thead th {\n",
       "        text-align: right;\n",
       "    }\n",
       "</style>\n",
       "<table border=\"1\" class=\"dataframe\">\n",
       "  <thead>\n",
       "    <tr style=\"text-align: right;\">\n",
       "      <th></th>\n",
       "      <th>type</th>\n",
       "      <th>operation</th>\n",
       "      <th>k_symbol</th>\n",
       "      <th>status</th>\n",
       "    </tr>\n",
       "  </thead>\n",
       "  <tbody>\n",
       "    <tr>\n",
       "      <th>0</th>\n",
       "      <td>PRIJEM</td>\n",
       "      <td>prevod</td>\n",
       "      <td>unkown</td>\n",
       "      <td>A</td>\n",
       "    </tr>\n",
       "    <tr>\n",
       "      <th>1</th>\n",
       "      <td>PRIJEM</td>\n",
       "      <td>vklad</td>\n",
       "      <td>unkown</td>\n",
       "      <td>A</td>\n",
       "    </tr>\n",
       "    <tr>\n",
       "      <th>2</th>\n",
       "      <td>PRIJEM</td>\n",
       "      <td>vklad</td>\n",
       "      <td>unkown</td>\n",
       "      <td>A</td>\n",
       "    </tr>\n",
       "    <tr>\n",
       "      <th>3</th>\n",
       "      <td>PRIJEM</td>\n",
       "      <td>vklad</td>\n",
       "      <td>unkown</td>\n",
       "      <td>A</td>\n",
       "    </tr>\n",
       "    <tr>\n",
       "      <th>4</th>\n",
       "      <td>PRIJEM</td>\n",
       "      <td>vklad</td>\n",
       "      <td>unkown</td>\n",
       "      <td>A</td>\n",
       "    </tr>\n",
       "    <tr>\n",
       "      <th>...</th>\n",
       "      <td>...</td>\n",
       "      <td>...</td>\n",
       "      <td>...</td>\n",
       "      <td>...</td>\n",
       "    </tr>\n",
       "    <tr>\n",
       "      <th>145331</th>\n",
       "      <td>PRIJEM</td>\n",
       "      <td>unknown</td>\n",
       "      <td>UROK</td>\n",
       "      <td>C</td>\n",
       "    </tr>\n",
       "    <tr>\n",
       "      <th>145332</th>\n",
       "      <td>PRIJEM</td>\n",
       "      <td>unknown</td>\n",
       "      <td>UROK</td>\n",
       "      <td>C</td>\n",
       "    </tr>\n",
       "    <tr>\n",
       "      <th>145333</th>\n",
       "      <td>PRIJEM</td>\n",
       "      <td>unknown</td>\n",
       "      <td>UROK</td>\n",
       "      <td>C</td>\n",
       "    </tr>\n",
       "    <tr>\n",
       "      <th>145334</th>\n",
       "      <td>PRIJEM</td>\n",
       "      <td>unknown</td>\n",
       "      <td>UROK</td>\n",
       "      <td>C</td>\n",
       "    </tr>\n",
       "    <tr>\n",
       "      <th>145335</th>\n",
       "      <td>PRIJEM</td>\n",
       "      <td>unknown</td>\n",
       "      <td>UROK</td>\n",
       "      <td>C</td>\n",
       "    </tr>\n",
       "  </tbody>\n",
       "</table>\n",
       "<p>145336 rows × 4 columns</p>\n",
       "</div>"
      ],
      "text/plain": [
       "          type operation k_symbol status\n",
       "0       PRIJEM    prevod   unkown      A\n",
       "1       PRIJEM     vklad   unkown      A\n",
       "2       PRIJEM     vklad   unkown      A\n",
       "3       PRIJEM     vklad   unkown      A\n",
       "4       PRIJEM     vklad   unkown      A\n",
       "...        ...       ...      ...    ...\n",
       "145331  PRIJEM   unknown     UROK      C\n",
       "145332  PRIJEM   unknown     UROK      C\n",
       "145333  PRIJEM   unknown     UROK      C\n",
       "145334  PRIJEM   unknown     UROK      C\n",
       "145335  PRIJEM   unknown     UROK      C\n",
       "\n",
       "[145336 rows x 4 columns]"
      ]
     },
     "execution_count": 36,
     "metadata": {},
     "output_type": "execute_result"
    }
   ],
   "source": [
    "cat"
   ]
  },
  {
   "cell_type": "code",
   "execution_count": 37,
   "metadata": {},
   "outputs": [],
   "source": [
    "cat = cat.drop([\"status\"], axis = 1)"
   ]
  },
  {
   "cell_type": "code",
   "execution_count": 38,
   "metadata": {
    "scrolled": true
   },
   "outputs": [
    {
     "data": {
      "text/html": [
       "<div>\n",
       "<style scoped>\n",
       "    .dataframe tbody tr th:only-of-type {\n",
       "        vertical-align: middle;\n",
       "    }\n",
       "\n",
       "    .dataframe tbody tr th {\n",
       "        vertical-align: top;\n",
       "    }\n",
       "\n",
       "    .dataframe thead th {\n",
       "        text-align: right;\n",
       "    }\n",
       "</style>\n",
       "<table border=\"1\" class=\"dataframe\">\n",
       "  <thead>\n",
       "    <tr style=\"text-align: right;\">\n",
       "      <th></th>\n",
       "      <th>type</th>\n",
       "      <th>operation</th>\n",
       "      <th>k_symbol</th>\n",
       "    </tr>\n",
       "  </thead>\n",
       "  <tbody>\n",
       "    <tr>\n",
       "      <th>0</th>\n",
       "      <td>PRIJEM</td>\n",
       "      <td>prevod</td>\n",
       "      <td>unkown</td>\n",
       "    </tr>\n",
       "    <tr>\n",
       "      <th>1</th>\n",
       "      <td>PRIJEM</td>\n",
       "      <td>vklad</td>\n",
       "      <td>unkown</td>\n",
       "    </tr>\n",
       "    <tr>\n",
       "      <th>2</th>\n",
       "      <td>PRIJEM</td>\n",
       "      <td>vklad</td>\n",
       "      <td>unkown</td>\n",
       "    </tr>\n",
       "    <tr>\n",
       "      <th>3</th>\n",
       "      <td>PRIJEM</td>\n",
       "      <td>vklad</td>\n",
       "      <td>unkown</td>\n",
       "    </tr>\n",
       "    <tr>\n",
       "      <th>4</th>\n",
       "      <td>PRIJEM</td>\n",
       "      <td>vklad</td>\n",
       "      <td>unkown</td>\n",
       "    </tr>\n",
       "  </tbody>\n",
       "</table>\n",
       "</div>"
      ],
      "text/plain": [
       "     type operation k_symbol\n",
       "0  PRIJEM    prevod   unkown\n",
       "1  PRIJEM     vklad   unkown\n",
       "2  PRIJEM     vklad   unkown\n",
       "3  PRIJEM     vklad   unkown\n",
       "4  PRIJEM     vklad   unkown"
      ]
     },
     "execution_count": 38,
     "metadata": {},
     "output_type": "execute_result"
    }
   ],
   "source": [
    "cat.head()"
   ]
  },
  {
   "cell_type": "code",
   "execution_count": 58,
   "metadata": {},
   "outputs": [],
   "source": [
    "categorical = pd.get_dummies(cat, drop_first = True, columns=[\"type\", \"operation\", \"k_symbol\"])"
   ]
  },
  {
   "cell_type": "markdown",
   "metadata": {},
   "source": [
    "## 1.6 Modeling - candidate model 1 with Log Reg"
   ]
  },
  {
   "cell_type": "code",
   "execution_count": 40,
   "metadata": {},
   "outputs": [
    {
     "data": {
      "text/html": [
       "<div>\n",
       "<style scoped>\n",
       "    .dataframe tbody tr th:only-of-type {\n",
       "        vertical-align: middle;\n",
       "    }\n",
       "\n",
       "    .dataframe tbody tr th {\n",
       "        vertical-align: top;\n",
       "    }\n",
       "\n",
       "    .dataframe thead th {\n",
       "        text-align: right;\n",
       "    }\n",
       "</style>\n",
       "<table border=\"1\" class=\"dataframe\">\n",
       "  <thead>\n",
       "    <tr style=\"text-align: right;\">\n",
       "      <th></th>\n",
       "      <th>t_amount</th>\n",
       "      <th>balance</th>\n",
       "      <th>l_amount</th>\n",
       "      <th>duration</th>\n",
       "      <th>payments</th>\n",
       "    </tr>\n",
       "  </thead>\n",
       "  <tbody>\n",
       "    <tr>\n",
       "      <th>0</th>\n",
       "      <td>0.438261</td>\n",
       "      <td>0.446096</td>\n",
       "      <td>0.779661</td>\n",
       "      <td>0.000235</td>\n",
       "      <td>0.032486</td>\n",
       "    </tr>\n",
       "    <tr>\n",
       "      <th>1</th>\n",
       "      <td>0.018872</td>\n",
       "      <td>0.018872</td>\n",
       "      <td>0.996191</td>\n",
       "      <td>0.000226</td>\n",
       "      <td>0.083016</td>\n",
       "    </tr>\n",
       "    <tr>\n",
       "      <th>2</th>\n",
       "      <td>0.050028</td>\n",
       "      <td>0.050028</td>\n",
       "      <td>0.997108</td>\n",
       "      <td>0.001637</td>\n",
       "      <td>0.027697</td>\n",
       "    </tr>\n",
       "    <tr>\n",
       "      <th>3</th>\n",
       "      <td>0.030234</td>\n",
       "      <td>0.030234</td>\n",
       "      <td>0.995634</td>\n",
       "      <td>0.000518</td>\n",
       "      <td>0.082970</td>\n",
       "    </tr>\n",
       "    <tr>\n",
       "      <th>4</th>\n",
       "      <td>0.021394</td>\n",
       "      <td>0.021394</td>\n",
       "      <td>0.996090</td>\n",
       "      <td>0.000285</td>\n",
       "      <td>0.083007</td>\n",
       "    </tr>\n",
       "  </tbody>\n",
       "</table>\n",
       "</div>"
      ],
      "text/plain": [
       "   t_amount   balance  l_amount  duration  payments\n",
       "0  0.438261  0.446096  0.779661  0.000235  0.032486\n",
       "1  0.018872  0.018872  0.996191  0.000226  0.083016\n",
       "2  0.050028  0.050028  0.997108  0.001637  0.027697\n",
       "3  0.030234  0.030234  0.995634  0.000518  0.082970\n",
       "4  0.021394  0.021394  0.996090  0.000285  0.083007"
      ]
     },
     "execution_count": 40,
     "metadata": {},
     "output_type": "execute_result"
    }
   ],
   "source": [
    "x.head()"
   ]
  },
  {
   "cell_type": "code",
   "execution_count": 41,
   "metadata": {},
   "outputs": [
    {
     "data": {
      "text/html": [
       "<div>\n",
       "<style scoped>\n",
       "    .dataframe tbody tr th:only-of-type {\n",
       "        vertical-align: middle;\n",
       "    }\n",
       "\n",
       "    .dataframe tbody tr th {\n",
       "        vertical-align: top;\n",
       "    }\n",
       "\n",
       "    .dataframe thead th {\n",
       "        text-align: right;\n",
       "    }\n",
       "</style>\n",
       "<table border=\"1\" class=\"dataframe\">\n",
       "  <thead>\n",
       "    <tr style=\"text-align: right;\">\n",
       "      <th></th>\n",
       "      <th>type</th>\n",
       "      <th>operation</th>\n",
       "      <th>k_symbol</th>\n",
       "    </tr>\n",
       "  </thead>\n",
       "  <tbody>\n",
       "    <tr>\n",
       "      <th>0</th>\n",
       "      <td>PRIJEM</td>\n",
       "      <td>prevod</td>\n",
       "      <td>unkown</td>\n",
       "    </tr>\n",
       "    <tr>\n",
       "      <th>1</th>\n",
       "      <td>PRIJEM</td>\n",
       "      <td>vklad</td>\n",
       "      <td>unkown</td>\n",
       "    </tr>\n",
       "    <tr>\n",
       "      <th>2</th>\n",
       "      <td>PRIJEM</td>\n",
       "      <td>vklad</td>\n",
       "      <td>unkown</td>\n",
       "    </tr>\n",
       "    <tr>\n",
       "      <th>3</th>\n",
       "      <td>PRIJEM</td>\n",
       "      <td>vklad</td>\n",
       "      <td>unkown</td>\n",
       "    </tr>\n",
       "    <tr>\n",
       "      <th>4</th>\n",
       "      <td>PRIJEM</td>\n",
       "      <td>vklad</td>\n",
       "      <td>unkown</td>\n",
       "    </tr>\n",
       "  </tbody>\n",
       "</table>\n",
       "</div>"
      ],
      "text/plain": [
       "     type operation k_symbol\n",
       "0  PRIJEM    prevod   unkown\n",
       "1  PRIJEM     vklad   unkown\n",
       "2  PRIJEM     vklad   unkown\n",
       "3  PRIJEM     vklad   unkown\n",
       "4  PRIJEM     vklad   unkown"
      ]
     },
     "execution_count": 41,
     "metadata": {},
     "output_type": "execute_result"
    }
   ],
   "source": [
    "cat.head()"
   ]
  },
  {
   "cell_type": "code",
   "execution_count": 51,
   "metadata": {},
   "outputs": [],
   "source": [
    "y = data[\"status_new\"]"
   ]
  },
  {
   "cell_type": "code",
   "execution_count": 52,
   "metadata": {},
   "outputs": [
    {
     "data": {
      "text/plain": [
       "(145336, 145336, 145336, 145336)"
      ]
     },
     "execution_count": 52,
     "metadata": {},
     "output_type": "execute_result"
    }
   ],
   "source": [
    "len(x), len (y), len(data), len(categorical)"
   ]
  },
  {
   "cell_type": "code",
   "execution_count": 65,
   "metadata": {},
   "outputs": [],
   "source": [
    "X_full = pd.concat([X, categorical], axis = 1)"
   ]
  },
  {
   "cell_type": "code",
   "execution_count": 66,
   "metadata": {},
   "outputs": [
    {
     "data": {
      "text/html": [
       "<div>\n",
       "<style scoped>\n",
       "    .dataframe tbody tr th:only-of-type {\n",
       "        vertical-align: middle;\n",
       "    }\n",
       "\n",
       "    .dataframe tbody tr th {\n",
       "        vertical-align: top;\n",
       "    }\n",
       "\n",
       "    .dataframe thead th {\n",
       "        text-align: right;\n",
       "    }\n",
       "</style>\n",
       "<table border=\"1\" class=\"dataframe\">\n",
       "  <thead>\n",
       "    <tr style=\"text-align: right;\">\n",
       "      <th></th>\n",
       "      <th>t_amount</th>\n",
       "      <th>balance</th>\n",
       "      <th>l_amount</th>\n",
       "      <th>duration</th>\n",
       "      <th>payments</th>\n",
       "      <th>type_VYBER</th>\n",
       "      <th>type_VYDAJ</th>\n",
       "      <th>operation_unknown</th>\n",
       "      <th>operation_vklad</th>\n",
       "      <th>operation_vyber</th>\n",
       "      <th>k_symbol_SLUZBY</th>\n",
       "      <th>k_symbol_UROK</th>\n",
       "      <th>k_symbol_unkown</th>\n",
       "    </tr>\n",
       "  </thead>\n",
       "  <tbody>\n",
       "    <tr>\n",
       "      <th>0</th>\n",
       "      <td>44749.0</td>\n",
       "      <td>45549.0</td>\n",
       "      <td>79608.0</td>\n",
       "      <td>24.0</td>\n",
       "      <td>3317.0</td>\n",
       "      <td>0</td>\n",
       "      <td>0</td>\n",
       "      <td>0</td>\n",
       "      <td>0</td>\n",
       "      <td>0</td>\n",
       "      <td>0</td>\n",
       "      <td>0</td>\n",
       "      <td>1</td>\n",
       "    </tr>\n",
       "    <tr>\n",
       "      <th>1</th>\n",
       "      <td>1000.0</td>\n",
       "      <td>1000.0</td>\n",
       "      <td>52788.0</td>\n",
       "      <td>12.0</td>\n",
       "      <td>4399.0</td>\n",
       "      <td>0</td>\n",
       "      <td>0</td>\n",
       "      <td>0</td>\n",
       "      <td>1</td>\n",
       "      <td>0</td>\n",
       "      <td>0</td>\n",
       "      <td>0</td>\n",
       "      <td>1</td>\n",
       "    </tr>\n",
       "    <tr>\n",
       "      <th>2</th>\n",
       "      <td>1100.0</td>\n",
       "      <td>1100.0</td>\n",
       "      <td>21924.0</td>\n",
       "      <td>36.0</td>\n",
       "      <td>609.0</td>\n",
       "      <td>0</td>\n",
       "      <td>0</td>\n",
       "      <td>0</td>\n",
       "      <td>1</td>\n",
       "      <td>0</td>\n",
       "      <td>0</td>\n",
       "      <td>0</td>\n",
       "      <td>1</td>\n",
       "    </tr>\n",
       "    <tr>\n",
       "      <th>3</th>\n",
       "      <td>700.0</td>\n",
       "      <td>700.0</td>\n",
       "      <td>23052.0</td>\n",
       "      <td>12.0</td>\n",
       "      <td>1921.0</td>\n",
       "      <td>0</td>\n",
       "      <td>0</td>\n",
       "      <td>0</td>\n",
       "      <td>1</td>\n",
       "      <td>0</td>\n",
       "      <td>0</td>\n",
       "      <td>0</td>\n",
       "      <td>1</td>\n",
       "    </tr>\n",
       "    <tr>\n",
       "      <th>4</th>\n",
       "      <td>900.0</td>\n",
       "      <td>900.0</td>\n",
       "      <td>41904.0</td>\n",
       "      <td>12.0</td>\n",
       "      <td>3492.0</td>\n",
       "      <td>0</td>\n",
       "      <td>0</td>\n",
       "      <td>0</td>\n",
       "      <td>1</td>\n",
       "      <td>0</td>\n",
       "      <td>0</td>\n",
       "      <td>0</td>\n",
       "      <td>1</td>\n",
       "    </tr>\n",
       "  </tbody>\n",
       "</table>\n",
       "</div>"
      ],
      "text/plain": [
       "   t_amount  balance  l_amount  duration  payments  type_VYBER  type_VYDAJ  \\\n",
       "0   44749.0  45549.0   79608.0      24.0    3317.0           0           0   \n",
       "1    1000.0   1000.0   52788.0      12.0    4399.0           0           0   \n",
       "2    1100.0   1100.0   21924.0      36.0     609.0           0           0   \n",
       "3     700.0    700.0   23052.0      12.0    1921.0           0           0   \n",
       "4     900.0    900.0   41904.0      12.0    3492.0           0           0   \n",
       "\n",
       "   operation_unknown  operation_vklad  operation_vyber  k_symbol_SLUZBY  \\\n",
       "0                  0                0                0                0   \n",
       "1                  0                1                0                0   \n",
       "2                  0                1                0                0   \n",
       "3                  0                1                0                0   \n",
       "4                  0                1                0                0   \n",
       "\n",
       "   k_symbol_UROK  k_symbol_unkown  \n",
       "0              0                1  \n",
       "1              0                1  \n",
       "2              0                1  \n",
       "3              0                1  \n",
       "4              0                1  "
      ]
     },
     "execution_count": 66,
     "metadata": {},
     "output_type": "execute_result"
    }
   ],
   "source": [
    "X_full.head()"
   ]
  },
  {
   "cell_type": "code",
   "execution_count": 67,
   "metadata": {
    "scrolled": true
   },
   "outputs": [
    {
     "name": "stdout",
     "output_type": "stream",
     "text": [
      "<class 'pandas.core.frame.DataFrame'>\n",
      "RangeIndex: 145336 entries, 0 to 145335\n",
      "Data columns (total 13 columns):\n",
      " #   Column             Non-Null Count   Dtype  \n",
      "---  ------             --------------   -----  \n",
      " 0   t_amount           145336 non-null  float64\n",
      " 1   balance            145336 non-null  float64\n",
      " 2   l_amount           145336 non-null  float64\n",
      " 3   duration           145336 non-null  float64\n",
      " 4   payments           145336 non-null  float64\n",
      " 5   type_VYBER         145336 non-null  uint8  \n",
      " 6   type_VYDAJ         145336 non-null  uint8  \n",
      " 7   operation_unknown  145336 non-null  uint8  \n",
      " 8   operation_vklad    145336 non-null  uint8  \n",
      " 9   operation_vyber    145336 non-null  uint8  \n",
      " 10  k_symbol_SLUZBY    145336 non-null  uint8  \n",
      " 11  k_symbol_UROK      145336 non-null  uint8  \n",
      " 12  k_symbol_unkown    145336 non-null  uint8  \n",
      "dtypes: float64(5), uint8(8)\n",
      "memory usage: 6.7 MB\n"
     ]
    }
   ],
   "source": [
    "X_full.info()"
   ]
  },
  {
   "cell_type": "code",
   "execution_count": 68,
   "metadata": {},
   "outputs": [
    {
     "data": {
      "text/html": [
       "<div>\n",
       "<style scoped>\n",
       "    .dataframe tbody tr th:only-of-type {\n",
       "        vertical-align: middle;\n",
       "    }\n",
       "\n",
       "    .dataframe tbody tr th {\n",
       "        vertical-align: top;\n",
       "    }\n",
       "\n",
       "    .dataframe thead th {\n",
       "        text-align: right;\n",
       "    }\n",
       "</style>\n",
       "<table border=\"1\" class=\"dataframe\">\n",
       "  <thead>\n",
       "    <tr style=\"text-align: right;\">\n",
       "      <th></th>\n",
       "      <th>type</th>\n",
       "      <th>operation</th>\n",
       "      <th>k_symbol</th>\n",
       "    </tr>\n",
       "  </thead>\n",
       "  <tbody>\n",
       "    <tr>\n",
       "      <th>0</th>\n",
       "      <td>PRIJEM</td>\n",
       "      <td>prevod</td>\n",
       "      <td>unkown</td>\n",
       "    </tr>\n",
       "    <tr>\n",
       "      <th>1</th>\n",
       "      <td>PRIJEM</td>\n",
       "      <td>vklad</td>\n",
       "      <td>unkown</td>\n",
       "    </tr>\n",
       "    <tr>\n",
       "      <th>2</th>\n",
       "      <td>PRIJEM</td>\n",
       "      <td>vklad</td>\n",
       "      <td>unkown</td>\n",
       "    </tr>\n",
       "    <tr>\n",
       "      <th>3</th>\n",
       "      <td>PRIJEM</td>\n",
       "      <td>vklad</td>\n",
       "      <td>unkown</td>\n",
       "    </tr>\n",
       "    <tr>\n",
       "      <th>4</th>\n",
       "      <td>PRIJEM</td>\n",
       "      <td>vklad</td>\n",
       "      <td>unkown</td>\n",
       "    </tr>\n",
       "  </tbody>\n",
       "</table>\n",
       "</div>"
      ],
      "text/plain": [
       "     type operation k_symbol\n",
       "0  PRIJEM    prevod   unkown\n",
       "1  PRIJEM     vklad   unkown\n",
       "2  PRIJEM     vklad   unkown\n",
       "3  PRIJEM     vklad   unkown\n",
       "4  PRIJEM     vklad   unkown"
      ]
     },
     "execution_count": 68,
     "metadata": {},
     "output_type": "execute_result"
    }
   ],
   "source": [
    "cat.head()"
   ]
  },
  {
   "cell_type": "code",
   "execution_count": 81,
   "metadata": {},
   "outputs": [],
   "source": [
    "from sklearn.linear_model import LogisticRegression # model\n",
    "from sklearn.model_selection import train_test_split # tt\n",
    "from sklearn.metrics import confusion_matrix, plot_confusion_matrix # eval\n",
    "from sklearn.metrics import classification_report # eval\n",
    "from sklearn.metrics import accuracy_score # eval"
   ]
  },
  {
   "cell_type": "code",
   "execution_count": 74,
   "metadata": {},
   "outputs": [],
   "source": [
    "# define the model\n",
    "lr = LogisticRegression(max_iter=400)"
   ]
  },
  {
   "cell_type": "code",
   "execution_count": 75,
   "metadata": {},
   "outputs": [],
   "source": [
    "X_train, X_test, y_train, y_test = train_test_split(X_full, y, test_size=0.3, random_state=40)"
   ]
  },
  {
   "cell_type": "code",
   "execution_count": 76,
   "metadata": {},
   "outputs": [
    {
     "data": {
      "text/plain": [
       "LogisticRegression(max_iter=400)"
      ]
     },
     "execution_count": 76,
     "metadata": {},
     "output_type": "execute_result"
    }
   ],
   "source": [
    "# fit the model to our training data set\n",
    "lr.fit(X_train, y_train)"
   ]
  },
  {
   "cell_type": "markdown",
   "metadata": {},
   "source": [
    "## 1.7 Evaluating candidate model 1"
   ]
  },
  {
   "cell_type": "code",
   "execution_count": 77,
   "metadata": {},
   "outputs": [],
   "source": [
    "y_pred = lr.predict(X_test)\n",
    "# for our test data make some predictions of y (using the trained model)"
   ]
  },
  {
   "cell_type": "code",
   "execution_count": 78,
   "metadata": {},
   "outputs": [
    {
     "data": {
      "text/plain": [
       "0.8802091695144607"
      ]
     },
     "execution_count": 78,
     "metadata": {},
     "output_type": "execute_result"
    }
   ],
   "source": [
    "accuracy_score(y_test, y_pred)\n",
    "# comparing each actual y to each pred y for the test data set"
   ]
  },
  {
   "cell_type": "code",
   "execution_count": 83,
   "metadata": {},
   "outputs": [
    {
     "data": {
      "text/plain": [
       "array([[  293,  4939],\n",
       "       [  284, 38085]])"
      ]
     },
     "execution_count": 83,
     "metadata": {},
     "output_type": "execute_result"
    }
   ],
   "source": [
    "# we were right 88% of the time in classifying our status\n",
    "confusion_matrix(y_test, y_pred)"
   ]
  },
  {
   "cell_type": "code",
   "execution_count": 85,
   "metadata": {},
   "outputs": [
    {
     "data": {
      "image/png": "[encoded data removed]",
      "text/plain": [
       "<Figure size 432x288 with 2 Axes>"
      ]
     },
     "metadata": {
      "needs_background": "light"
     },
     "output_type": "display_data"
    }
   ],
   "source": [
    "plot_confusion_matrix(lr, X_test, y_test);"
   ]
  },
  {
   "cell_type": "code",
   "execution_count": 88,
   "metadata": {},
   "outputs": [
    {
     "data": {
      "image/png": "[encoded data removed]",
      "text/plain": [
       "<Figure size 432x288 with 1 Axes>"
      ]
     },
     "metadata": {
      "needs_background": "light"
     },
     "output_type": "display_data"
    }
   ],
   "source": [
    "# AUC - area under the curve\n",
    "import sklearn.metrics as metrics\n",
    "y_pred_proba = lr.predict_proba(X_test)[::,1]\n",
    "fpr, tpr, _ = metrics.roc_curve(y_test,  y_pred_proba)\n",
    "auc = metrics.roc_auc_score(y_test, y_pred_proba)\n",
    "plt.plot(fpr,tpr,label=\"data 1, auc=\"+str(auc))\n",
    "plt.legend(loc=4)\n",
    "plt.show()"
   ]
  },
  {
   "cell_type": "code",
   "execution_count": null,
   "metadata": {},
   "outputs": [],
   "source": []
  },
  {
   "cell_type": "code",
   "execution_count": null,
   "metadata": {},
   "outputs": [],
   "source": []
  },
  {
   "cell_type": "markdown",
   "metadata": {},
   "source": [
    "## Extra:  Explanation for dummies variables"
   ]
  },
  {
   "cell_type": "code",
   "execution_count": 46,
   "metadata": {},
   "outputs": [],
   "source": [
    "import random\n",
    "gender_lst = [\"M\", \"F\"]\n",
    "df_example = pd.DataFrame({\"gender\": [random.choice(gender_lst) for i in range(20)]})"
   ]
  },
  {
   "cell_type": "code",
   "execution_count": 47,
   "metadata": {},
   "outputs": [
    {
     "data": {
      "text/html": [
       "<div>\n",
       "<style scoped>\n",
       "    .dataframe tbody tr th:only-of-type {\n",
       "        vertical-align: middle;\n",
       "    }\n",
       "\n",
       "    .dataframe tbody tr th {\n",
       "        vertical-align: top;\n",
       "    }\n",
       "\n",
       "    .dataframe thead th {\n",
       "        text-align: right;\n",
       "    }\n",
       "</style>\n",
       "<table border=\"1\" class=\"dataframe\">\n",
       "  <thead>\n",
       "    <tr style=\"text-align: right;\">\n",
       "      <th></th>\n",
       "      <th>gender_M</th>\n",
       "    </tr>\n",
       "  </thead>\n",
       "  <tbody>\n",
       "    <tr>\n",
       "      <th>0</th>\n",
       "      <td>0</td>\n",
       "    </tr>\n",
       "    <tr>\n",
       "      <th>1</th>\n",
       "      <td>1</td>\n",
       "    </tr>\n",
       "    <tr>\n",
       "      <th>2</th>\n",
       "      <td>1</td>\n",
       "    </tr>\n",
       "    <tr>\n",
       "      <th>3</th>\n",
       "      <td>1</td>\n",
       "    </tr>\n",
       "    <tr>\n",
       "      <th>4</th>\n",
       "      <td>0</td>\n",
       "    </tr>\n",
       "    <tr>\n",
       "      <th>5</th>\n",
       "      <td>1</td>\n",
       "    </tr>\n",
       "    <tr>\n",
       "      <th>6</th>\n",
       "      <td>1</td>\n",
       "    </tr>\n",
       "    <tr>\n",
       "      <th>7</th>\n",
       "      <td>0</td>\n",
       "    </tr>\n",
       "    <tr>\n",
       "      <th>8</th>\n",
       "      <td>0</td>\n",
       "    </tr>\n",
       "    <tr>\n",
       "      <th>9</th>\n",
       "      <td>1</td>\n",
       "    </tr>\n",
       "    <tr>\n",
       "      <th>10</th>\n",
       "      <td>1</td>\n",
       "    </tr>\n",
       "    <tr>\n",
       "      <th>11</th>\n",
       "      <td>1</td>\n",
       "    </tr>\n",
       "    <tr>\n",
       "      <th>12</th>\n",
       "      <td>0</td>\n",
       "    </tr>\n",
       "    <tr>\n",
       "      <th>13</th>\n",
       "      <td>0</td>\n",
       "    </tr>\n",
       "    <tr>\n",
       "      <th>14</th>\n",
       "      <td>0</td>\n",
       "    </tr>\n",
       "    <tr>\n",
       "      <th>15</th>\n",
       "      <td>0</td>\n",
       "    </tr>\n",
       "    <tr>\n",
       "      <th>16</th>\n",
       "      <td>1</td>\n",
       "    </tr>\n",
       "    <tr>\n",
       "      <th>17</th>\n",
       "      <td>0</td>\n",
       "    </tr>\n",
       "    <tr>\n",
       "      <th>18</th>\n",
       "      <td>1</td>\n",
       "    </tr>\n",
       "    <tr>\n",
       "      <th>19</th>\n",
       "      <td>1</td>\n",
       "    </tr>\n",
       "  </tbody>\n",
       "</table>\n",
       "</div>"
      ],
      "text/plain": [
       "    gender_M\n",
       "0          0\n",
       "1          1\n",
       "2          1\n",
       "3          1\n",
       "4          0\n",
       "5          1\n",
       "6          1\n",
       "7          0\n",
       "8          0\n",
       "9          1\n",
       "10         1\n",
       "11         1\n",
       "12         0\n",
       "13         0\n",
       "14         0\n",
       "15         0\n",
       "16         1\n",
       "17         0\n",
       "18         1\n",
       "19         1"
      ]
     },
     "execution_count": 47,
     "metadata": {},
     "output_type": "execute_result"
    }
   ],
   "source": [
    "pd.get_dummies(df_example, columns=[\"gender\"], drop_first = True)"
   ]
  },
  {
   "cell_type": "code",
   "execution_count": null,
   "metadata": {},
   "outputs": [],
   "source": []
  },
  {
   "cell_type": "code",
   "execution_count": null,
   "metadata": {},
   "outputs": [],
   "source": []
  },
  {
   "cell_type": "code",
   "execution_count": null,
   "metadata": {},
   "outputs": [],
   "source": []
  }
 ],
 "metadata": {
  "kernelspec": {
   "display_name": "Python 3 (ipykernel)",
   "language": "python",
   "name": "python3"
  },
  "language_info": {
   "codemirror_mode": {
    "name": "ipython",
    "version": 3
   },
   "file_extension": ".py",
   "mimetype": "text/x-python",
   "name": "python",
   "nbconvert_exporter": "python",
   "pygments_lexer": "ipython3",
   "version": "3.9.7"
  }
 },
 "nbformat": 4,
 "nbformat_minor": 4
}
