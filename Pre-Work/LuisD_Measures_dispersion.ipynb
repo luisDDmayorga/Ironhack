{
 "cells": [
  {
   "cell_type": "markdown",
   "id": "796e1915",
   "metadata": {},
   "source": [
    "## Exercise - Measures of Dispersion"
   ]
  },
  {
   "cell_type": "markdown",
   "id": "8da4f866",
   "metadata": {},
   "source": [
    "1.1 What is the range for the data set?"
   ]
  },
  {
   "cell_type": "code",
   "execution_count": 3,
   "id": "3719dfec",
   "metadata": {},
   "outputs": [],
   "source": [
    "points = [-4, 17, 25, 19, 6, 11, 7]"
   ]
  },
  {
   "cell_type": "markdown",
   "id": "424588d4",
   "metadata": {},
   "source": [
    "points_range = max(points)- min(points)\n",
    "print(points_range)"
   ]
  },
  {
   "cell_type": "markdown",
   "id": "7f0252cb",
   "metadata": {},
   "source": [
    "1.2 You are given the following dataset:"
   ]
  },
  {
   "cell_type": "code",
   "execution_count": 14,
   "id": "4e267090",
   "metadata": {},
   "outputs": [],
   "source": [
    "data = [2,4,7,1,6,8]"
   ]
  },
  {
   "cell_type": "markdown",
   "id": "f8af8fe5",
   "metadata": {},
   "source": [
    "How does the standard deviation change when 6 is replaced with 12? Does it increase, or decrease, or it remains the same?"
   ]
  },
  {
   "cell_type": "markdown",
   "id": "858f78bf",
   "metadata": {},
   "source": [
    "It increase:"
   ]
  },
  {
   "cell_type": "code",
   "execution_count": 16,
   "id": "c918b4ec",
   "metadata": {},
   "outputs": [
    {
     "data": {
      "text/plain": [
       "2.804757862395017"
      ]
     },
     "execution_count": 16,
     "metadata": {},
     "output_type": "execute_result"
    }
   ],
   "source": [
    "import statistics as stats\n",
    "data2 = [2,4,7,1,12,8]\n",
    "stats.stdev(data)"
   ]
  },
  {
   "cell_type": "code",
   "execution_count": 17,
   "id": "bd07a4cf",
   "metadata": {},
   "outputs": [
    {
     "data": {
      "text/plain": [
       "4.131182235954578"
      ]
     },
     "execution_count": 17,
     "metadata": {},
     "output_type": "execute_result"
    }
   ],
   "source": [
    "stats.stdev(data2)"
   ]
  },
  {
   "cell_type": "markdown",
   "id": "f0203edc",
   "metadata": {},
   "source": [
    "1.3 Is is possible to have a dataset with 0 standard deviation or variance? If yes, can you think of any dataset with 6 data points that have 0 standard deviation?"
   ]
  },
  {
   "cell_type": "markdown",
   "id": "cb95025c",
   "metadata": {},
   "source": [
    "Yes, it is posible:"
   ]
  },
  {
   "cell_type": "code",
   "execution_count": 18,
   "id": "60a25717",
   "metadata": {},
   "outputs": [
    {
     "data": {
      "text/plain": [
       "0.0"
      ]
     },
     "execution_count": 18,
     "metadata": {},
     "output_type": "execute_result"
    }
   ],
   "source": [
    "x = [3,3,3,3,3,3]\n",
    "stats.stdev(x)"
   ]
  },
  {
   "cell_type": "markdown",
   "id": "2547aa82",
   "metadata": {},
   "source": [
    "1.4 We know that standard deviation is a measure of spread in the dataset. What is meant by deviation here? What is the formula for calculating deviation? Can deviation be negative?"
   ]
  },
  {
   "cell_type": "markdown",
   "id": "c4e62ec4",
   "metadata": {},
   "source": [
    "Deviation is the amount by which a single measurement differs from the mean. It's formula is the substraction of the mean from each individual measurement, therefore it can be negative if the mean is bigger than the individual measurement."
   ]
  },
  {
   "cell_type": "markdown",
   "id": "e2501cb6",
   "metadata": {},
   "source": [
    "1.5 Given the dataset in the list:"
   ]
  },
  {
   "cell_type": "code",
   "execution_count": 28,
   "id": "b1751993",
   "metadata": {},
   "outputs": [],
   "source": [
    "data = [23, 12, 34, 65, 34, 81]"
   ]
  },
  {
   "cell_type": "markdown",
   "id": "bc5781f5",
   "metadata": {},
   "source": [
    "What is the deviation from the mean for each of the points in the list? Write a for loop and print each of the values."
   ]
  },
  {
   "cell_type": "code",
   "execution_count": 37,
   "id": "78277830",
   "metadata": {},
   "outputs": [
    {
     "name": "stdout",
     "output_type": "stream",
     "text": [
      "Deviation of 23 is -18.5\n",
      "Deviation of 12 is -29.5\n",
      "Deviation of 34 is -7.5\n",
      "Deviation of 65 is 23.5\n",
      "Deviation of 34 is -7.5\n",
      "Deviation of 81 is 39.5\n"
     ]
    }
   ],
   "source": [
    "for i in data:\n",
    "    dev = i - stats.mean(data)\n",
    "    print(\"Deviation of\", i , \"is\", dev)"
   ]
  },
  {
   "cell_type": "markdown",
   "id": "8d99c1c8",
   "metadata": {},
   "source": [
    "1.6 How is standard deviation different than variance?"
   ]
  },
  {
   "cell_type": "markdown",
   "id": "ee44d50b",
   "metadata": {},
   "source": [
    "Even though both variance and standard deviation are measures of spread/dispersion, there is a difference in the units of the two things. Unit of variance is squared of the unit of the original data while unit of standard deviation is same as the unit of the original data. Therefore for practical purposes, sometimes people prefer to use standard deviation instead of variance. \n",
    "\n",
    "Also since variance is square of standard deviation, if the value of standard deviation is large then the magnitude of variance becomes larger. Sometimes it is prefereable to work with numbers of lesser magnitudes"
   ]
  }
 ],
 "metadata": {
  "kernelspec": {
   "display_name": "Python 3",
   "language": "python",
   "name": "python3"
  },
  "language_info": {
   "codemirror_mode": {
    "name": "ipython",
    "version": 3
   },
   "file_extension": ".py",
   "mimetype": "text/x-python",
   "name": "python",
   "nbconvert_exporter": "python",
   "pygments_lexer": "ipython3",
   "version": "3.8.8"
  }
 },
 "nbformat": 4,
 "nbformat_minor": 5
}
