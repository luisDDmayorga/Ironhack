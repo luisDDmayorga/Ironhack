{
 "cells": [
  {
   "cell_type": "markdown",
   "id": "8406dea7",
   "metadata": {},
   "source": [
    "1. Exercise - Conditional Statements\n"
   ]
  },
  {
   "cell_type": "markdown",
   "id": "a7854bec",
   "metadata": {},
   "source": [
    "1. Ask the user to input a number (should be integer). Check if the number is even or odd. Remember that 0 is neither even nor odd."
   ]
  },
  {
   "cell_type": "code",
   "execution_count": 3,
   "id": "89aeb4ed",
   "metadata": {},
   "outputs": [
    {
     "name": "stdout",
     "output_type": "stream",
     "text": [
      "Please enter a value for a: 0\n",
      "a is 0\n"
     ]
    }
   ],
   "source": [
    "a = int(input(\"Please enter a value for a: \"))\n",
    "\n",
    "if a == 0:\n",
    "    print(\"a is 0\")\n",
    "elif a%2 == 0:\n",
    "    print(\"a is even\")\n",
    "else:\n",
    "    print(\"a is odd\")"
   ]
  },
  {
   "cell_type": "markdown",
   "id": "2d7d8b8e",
   "metadata": {},
   "source": [
    "1.2 Ask the user to input a number (should be integer). Check whether the number is zero, positive or negative."
   ]
  },
  {
   "cell_type": "code",
   "execution_count": 6,
   "id": "3d71f884",
   "metadata": {},
   "outputs": [
    {
     "name": "stdout",
     "output_type": "stream",
     "text": [
      "Please enter a value for a: 0\n",
      "a is 0\n"
     ]
    }
   ],
   "source": [
    "a = int(input(\"Please enter a value for a: \"))\n",
    "\n",
    "if a == 0:\n",
    "    print(\"a is 0\")\n",
    "elif a > 0:\n",
    "    print(\"a is positive\")\n",
    "else:\n",
    "    print(\"a is negative\")"
   ]
  },
  {
   "cell_type": "markdown",
   "id": "9c230d6f",
   "metadata": {},
   "source": [
    "1.3 A school has following grading system:\n"
   ]
  },
  {
   "cell_type": "markdown",
   "id": "70709d95",
   "metadata": {},
   "source": [
    "a. Below 25 - F \n"
   ]
  },
  {
   "cell_type": "markdown",
   "id": "f900883f",
   "metadata": {},
   "source": [
    "b. 25 to 45 - E \n"
   ]
  },
  {
   "cell_type": "markdown",
   "id": "677f904e",
   "metadata": {},
   "source": [
    "c. 45 to 60 - D \n"
   ]
  },
  {
   "cell_type": "markdown",
   "id": "b7d55d6c",
   "metadata": {},
   "source": [
    "d. 60 to 75 - C \n"
   ]
  },
  {
   "cell_type": "markdown",
   "id": "bf7b853d",
   "metadata": {},
   "source": [
    "e. 75 to 90 - B \n"
   ]
  },
  {
   "cell_type": "markdown",
   "id": "bb7de6a2",
   "metadata": {},
   "source": [
    "f. Above 90 - A \n"
   ]
  },
  {
   "cell_type": "markdown",
   "id": "a69749d2",
   "metadata": {},
   "source": [
    "Ask user to enter marks (assuming the marks are between 0 and 100) and print the corresponding grade."
   ]
  },
  {
   "cell_type": "code",
   "execution_count": 13,
   "id": "50853103",
   "metadata": {},
   "outputs": [
    {
     "name": "stdout",
     "output_type": "stream",
     "text": [
      "Please enter mark 1: 46\n",
      "Student 1 obtain D\n",
      "Please enter mark 2: 97\n",
      "Student 2 obtain A\n",
      "Please enter mark 3: 2\n",
      "Student 3 obtain F\n"
     ]
    }
   ],
   "source": [
    "mark_1 = int(input(\"Please enter mark 1: \"))\n",
    "\n",
    "if mark_1 < 25:\n",
    "    print(\"Student 1 obtain F\")\n",
    "elif 25 <= mark_1 < 45:\n",
    "    print(\"Student 1 obtain E\")\n",
    "elif 45 <= mark_1 < 60:\n",
    "    print(\"Student 1 obtain D\")\n",
    "elif 60 <= mark_1 < 75:\n",
    "    print(\"Student 1 obtain C\")\n",
    "elif 75 <= mark_1 < 90:\n",
    "    print(\"Student 1 obtain B\")\n",
    "else:\n",
    "    print(\"Student 1 obtain A\")\n",
    "\n",
    "mark_2 = int(input(\"Please enter mark 2: \"))\n",
    "\n",
    "if mark_2 < 25:\n",
    "    print(\"Student 2 obtain F\")\n",
    "elif 25 <= mark_2 < 45:\n",
    "    print(\"Student 2 obtain E\")\n",
    "elif 45 <= mark_2 < 60:\n",
    "    print(\"Student 2 obtain D\")\n",
    "elif 60 <= mark_2 < 75:\n",
    "    print(\"Student 2 obtain C\")\n",
    "elif 75 <= mark_2 < 90:\n",
    "    print(\"Student 2 obtain B\")\n",
    "else:\n",
    "    print(\"Student 2 obtain A\")\n",
    "\n",
    "mark_3 = int(input(\"Please enter mark 3: \"))\n",
    "\n",
    "if mark_3 < 25:\n",
    "    print(\"Student 3 obtain F\")\n",
    "elif 25 <= mark_3 < 45:\n",
    "    print(\"Student 3 obtain E\")\n",
    "elif 45 <= mark_3 < 60:\n",
    "    print(\"Student 3 obtain D\")\n",
    "elif 60 <= mark_3 < 75:\n",
    "    print(\"Student 3 obtain C\")\n",
    "elif 75 <= mark_3 < 90:\n",
    "    print(\"Student 3 obtain B\")\n",
    "else:\n",
    "    print(\"Student 3 obtain A\")"
   ]
  },
  {
   "cell_type": "markdown",
   "id": "408edb80",
   "metadata": {},
   "source": [
    "Bonus: In the problem 1.1, we asked you to write a code to enter an integer and then check if that number is even or not. What if the user inputs a letter or some symbol instead? If we don’t handle this properly, code will break. We should prompt the user if the input entered was incorrect.\n",
    "Now try and make this code more robust by first checking if the entered input is a number or not. If the number entered is an integer, only then check if it is even or not."
   ]
  },
  {
   "cell_type": "code",
   "execution_count": 11,
   "id": "74f45fcb",
   "metadata": {},
   "outputs": [
    {
     "name": "stdout",
     "output_type": "stream",
     "text": [
      "Please enter a value for a: jkh\n",
      "Integers were not entered\n"
     ]
    }
   ],
   "source": [
    "a = input(\"Please enter a value for a: \")\n",
    "\n",
    "\n",
    "if a.replace('.','',1).isdigit():\n",
    "    a = float(a)\n",
    "    \n",
    "    if a != 0:\n",
    "        if a%2 == 0:\n",
    "            print(\"a is even\")\n",
    "        else:\n",
    "            print(\"a is odd\")\n",
    "    else:\n",
    "        print(\"a is 0\")\n",
    "else:\n",
    "    print(\"Integers were not entered\")"
   ]
  },
  {
   "cell_type": "code",
   "execution_count": null,
   "id": "942881ce",
   "metadata": {},
   "outputs": [],
   "source": []
  },
  {
   "cell_type": "code",
   "execution_count": null,
   "id": "8ad572a1",
   "metadata": {},
   "outputs": [],
   "source": []
  }
 ],
 "metadata": {
  "kernelspec": {
   "display_name": "Python 3",
   "language": "python",
   "name": "python3"
  },
  "language_info": {
   "codemirror_mode": {
    "name": "ipython",
    "version": 3
   },
   "file_extension": ".py",
   "mimetype": "text/x-python",
   "name": "python",
   "nbconvert_exporter": "python",
   "pygments_lexer": "ipython3",
   "version": "3.8.8"
  }
 },
 "nbformat": 4,
 "nbformat_minor": 5
}
