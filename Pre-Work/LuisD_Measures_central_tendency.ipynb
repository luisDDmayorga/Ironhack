{
 "cells": [
  {
   "cell_type": "markdown",
   "id": "43fdeee1",
   "metadata": {},
   "source": [
    "# 1. Exercise - Measures of Central Tendency"
   ]
  },
  {
   "cell_type": "markdown",
   "id": "bb259144",
   "metadata": {},
   "source": [
    "1.1 We saw that a dataset can have more than one mode. But can a dataset have more than one median? True or False."
   ]
  },
  {
   "cell_type": "code",
   "execution_count": 1,
   "id": "1093e9f3",
   "metadata": {},
   "outputs": [
    {
     "data": {
      "text/plain": [
       "False"
      ]
     },
     "execution_count": 1,
     "metadata": {},
     "output_type": "execute_result"
    }
   ],
   "source": [
    "False"
   ]
  },
  {
   "cell_type": "markdown",
   "id": "09d1678c",
   "metadata": {},
   "source": [
    "1.2 Given the data in the list:"
   ]
  },
  {
   "cell_type": "code",
   "execution_count": 3,
   "id": "9931d3df",
   "metadata": {},
   "outputs": [],
   "source": [
    "data = [4, 7, 5, 9, 8, 6, 7, 7, 8, 5, 6, 9, 8, 5, 8, 7, 4, 7, 3, 6, 8, 9, 7, 6, 9]"
   ]
  },
  {
   "cell_type": "markdown",
   "id": "f069ca06",
   "metadata": {},
   "source": [
    "What is the mean, median, and mode of the dataset."
   ]
  },
  {
   "cell_type": "code",
   "execution_count": 4,
   "id": "d63fbf4f",
   "metadata": {},
   "outputs": [],
   "source": [
    "import statistics as stats"
   ]
  },
  {
   "cell_type": "code",
   "execution_count": 5,
   "id": "531e3965",
   "metadata": {},
   "outputs": [
    {
     "data": {
      "text/plain": [
       "6.72"
      ]
     },
     "execution_count": 5,
     "metadata": {},
     "output_type": "execute_result"
    }
   ],
   "source": [
    "stats.mean(data)"
   ]
  },
  {
   "cell_type": "code",
   "execution_count": 9,
   "id": "666d4142",
   "metadata": {},
   "outputs": [],
   "source": [
    "import numpy as np"
   ]
  },
  {
   "cell_type": "code",
   "execution_count": 31,
   "id": "f77853b4",
   "metadata": {},
   "outputs": [
    {
     "name": "stdout",
     "output_type": "stream",
     "text": [
      "[3 4 4 5 5 5 6 6 6 6 7 7 7 7 7 7 8 8 8 8 8 9 9 9 9]\n"
     ]
    }
   ],
   "source": [
    "data_sort = np.sort(data)\n",
    "print(data_sort)"
   ]
  },
  {
   "cell_type": "code",
   "execution_count": 32,
   "id": "07170fad",
   "metadata": {},
   "outputs": [
    {
     "data": {
      "text/plain": [
       "25"
      ]
     },
     "execution_count": 32,
     "metadata": {},
     "output_type": "execute_result"
    }
   ],
   "source": [
    "len(data_sort)"
   ]
  },
  {
   "cell_type": "code",
   "execution_count": 33,
   "id": "3861e153",
   "metadata": {},
   "outputs": [
    {
     "data": {
      "text/plain": [
       "7"
      ]
     },
     "execution_count": 33,
     "metadata": {},
     "output_type": "execute_result"
    }
   ],
   "source": [
    "data_sort[13]"
   ]
  },
  {
   "cell_type": "code",
   "execution_count": 34,
   "id": "9b4343c6",
   "metadata": {},
   "outputs": [
    {
     "data": {
      "text/plain": [
       "7"
      ]
     },
     "execution_count": 34,
     "metadata": {},
     "output_type": "execute_result"
    }
   ],
   "source": [
    "stats.median(data)"
   ]
  },
  {
   "cell_type": "code",
   "execution_count": 35,
   "id": "f7af7d49",
   "metadata": {},
   "outputs": [
    {
     "data": {
      "text/plain": [
       "7"
      ]
     },
     "execution_count": 35,
     "metadata": {},
     "output_type": "execute_result"
    }
   ],
   "source": [
    "stats.mode(data)"
   ]
  },
  {
   "cell_type": "markdown",
   "id": "d67947c0",
   "metadata": {},
   "source": [
    "Create a new dictionary called data_dictionary and store the above answers as key value pairs in the dictionary."
   ]
  },
  {
   "cell_type": "code",
   "execution_count": 100,
   "id": "078cfbc8",
   "metadata": {},
   "outputs": [
    {
     "name": "stdout",
     "output_type": "stream",
     "text": [
      "{'Mean': 6.72, 'Median': 7, 'Mode': 7}\n"
     ]
    }
   ],
   "source": [
    "data_dictionary = {}\n",
    "\n",
    "data_dictionary[\"Mean\"] = stats.mean(data)\n",
    "data_dictionary[\"Median\"] = stats.median(data)\n",
    "data_dictionary[\"Mode\"] = stats.mode(data)\n",
    "print(data_dictionary)"
   ]
  },
  {
   "cell_type": "markdown",
   "id": "8c5e8f9e",
   "metadata": {},
   "source": [
    "1.3 To find which statistic do you have to arrange the data in an ascending order?"
   ]
  },
  {
   "cell_type": "markdown",
   "id": "a9fab308",
   "metadata": {},
   "source": [
    "Median"
   ]
  },
  {
   "cell_type": "markdown",
   "id": "32fd3a9d",
   "metadata": {},
   "source": [
    "1.4 How do you find the median when there are even number of data points?"
   ]
  },
  {
   "cell_type": "markdown",
   "id": "c0e6b7a7",
   "metadata": {},
   "source": [
    "If the number of data points is even, the median is the arithematic mean of (N/2)th term and (N/2 + 1)th term."
   ]
  },
  {
   "cell_type": "markdown",
   "id": "0ffc93f3",
   "metadata": {},
   "source": [
    "1.5 What are outliers in a dataset? Which of the three - Mean, Median, and Mode - is more susceptible to change with presence of outliers in the data?"
   ]
  },
  {
   "cell_type": "markdown",
   "id": "d5c4df88",
   "metadata": {},
   "source": [
    "An outlier is an observation that lies an abnormal distance from other values in a random sample from a population. The mean is the most susceptible to change with presence of outliers."
   ]
  }
 ],
 "metadata": {
  "kernelspec": {
   "display_name": "Python 3",
   "language": "python",
   "name": "python3"
  },
  "language_info": {
   "codemirror_mode": {
    "name": "ipython",
    "version": 3
   },
   "file_extension": ".py",
   "mimetype": "text/x-python",
   "name": "python",
   "nbconvert_exporter": "python",
   "pygments_lexer": "ipython3",
   "version": "3.8.8"
  }
 },
 "nbformat": 4,
 "nbformat_minor": 5
}
