{
 "cells": [
  {
   "cell_type": "markdown",
   "id": "4818d9bf",
   "metadata": {},
   "source": [
    "# 1. Exercise - Lists"
   ]
  },
  {
   "cell_type": "markdown",
   "id": "25116e42",
   "metadata": {},
   "source": [
    "1. Given the list:\n",
    "    lst = [1, 2, 34, 5, 3, 12, 9, 8, 67, 89, 98, 90, 39, 21, 45, 46, 23, 13]\n",
    "    "
   ]
  },
  {
   "cell_type": "markdown",
   "id": "67e1d4f0",
   "metadata": {},
   "source": [
    "Answer the following questions:"
   ]
  },
  {
   "cell_type": "raw",
   "id": "223f878b",
   "metadata": {},
   "source": [
    "- How many elements are in the list?\n",
    "- Using indexes, find out which is the first element in the list?\n",
    "- Using indexes, find out which is the last element in the list?\n",
    "- What is the index of element `90` in the list?\n",
    "- Which are the first 8 elements in the list?\n",
    "- Append elements 100 and 110 to the list?\n",
    "- Use the sort function from numpy library to sort the elements in the list."
   ]
  },
  {
   "cell_type": "code",
   "execution_count": 1,
   "id": "3431425e",
   "metadata": {},
   "outputs": [
    {
     "data": {
      "text/plain": [
       "18"
      ]
     },
     "execution_count": 1,
     "metadata": {},
     "output_type": "execute_result"
    }
   ],
   "source": [
    "lst = [1, 2, 34, 5, 3, 12, 9, 8, 67, 89, 98, 90, 39, 21, 45, 46, 23, 13]\n",
    "\n",
    "len(lst)"
   ]
  },
  {
   "cell_type": "code",
   "execution_count": 29,
   "id": "037be1ea",
   "metadata": {},
   "outputs": [
    {
     "data": {
      "text/plain": [
       "1"
      ]
     },
     "execution_count": 29,
     "metadata": {},
     "output_type": "execute_result"
    }
   ],
   "source": [
    "lst = [1, 2, 34, 5, 3, 12, 9, 8, 67, 89, 98, 90, 39, 21, 45, 46, 23, 13]\n",
    "\n",
    "lst[0]"
   ]
  },
  {
   "cell_type": "code",
   "execution_count": 3,
   "id": "936483ca",
   "metadata": {},
   "outputs": [
    {
     "data": {
      "text/plain": [
       "13"
      ]
     },
     "execution_count": 3,
     "metadata": {},
     "output_type": "execute_result"
    }
   ],
   "source": [
    "lst = [1, 2, 34, 5, 3, 12, 9, 8, 67, 89, 98, 90, 39, 21, 45, 46, 23, 13]\n",
    "\n",
    "lst[-1]"
   ]
  },
  {
   "cell_type": "code",
   "execution_count": 4,
   "id": "3d7b3b42",
   "metadata": {},
   "outputs": [
    {
     "data": {
      "text/plain": [
       "11"
      ]
     },
     "execution_count": 4,
     "metadata": {},
     "output_type": "execute_result"
    }
   ],
   "source": [
    "lst = [1, 2, 34, 5, 3, 12, 9, 8, 67, 89, 98, 90, 39, 21, 45, 46, 23, 13]\n",
    "\n",
    "lst.index(90)"
   ]
  },
  {
   "cell_type": "code",
   "execution_count": 6,
   "id": "ba6f31d2",
   "metadata": {},
   "outputs": [
    {
     "data": {
      "text/plain": [
       "[1, 2, 34, 5, 3, 12, 9, 8]"
      ]
     },
     "execution_count": 6,
     "metadata": {},
     "output_type": "execute_result"
    }
   ],
   "source": [
    "lst = [1, 2, 34, 5, 3, 12, 9, 8, 67, 89, 98, 90, 39, 21, 45, 46, 23, 13]\n",
    "\n",
    "lst[0:8]"
   ]
  },
  {
   "cell_type": "code",
   "execution_count": 10,
   "id": "f3da115c",
   "metadata": {},
   "outputs": [
    {
     "name": "stdout",
     "output_type": "stream",
     "text": [
      "[1, 2, 34, 5, 3, 12, 9, 8, 67, 89, 98, 90, 39, 21, 45, 46, 23, 13, 100, 110]\n"
     ]
    }
   ],
   "source": [
    "lst = [1, 2, 34, 5, 3, 12, 9, 8, 67, 89, 98, 90, 39, 21, 45, 46, 23, 13]\n",
    "\n",
    "lst.extend([100, 110])\n",
    "print(lst)"
   ]
  },
  {
   "cell_type": "code",
   "execution_count": 28,
   "id": "6589e614",
   "metadata": {},
   "outputs": [
    {
     "data": {
      "text/plain": [
       "array([  1,   2,   3,   5,   8,   9,  12,  13,  21,  23,  34,  39,  45,\n",
       "        46,  67,  89,  90,  98, 100, 110])"
      ]
     },
     "execution_count": 28,
     "metadata": {},
     "output_type": "execute_result"
    }
   ],
   "source": [
    "import numpy\n",
    "numpy.sort(lst)\n"
   ]
  },
  {
   "cell_type": "markdown",
   "id": "8f705bae",
   "metadata": {},
   "source": [
    "1.2 Can a list have two or more elements that are same? Try and test. Try to define a new list with a few similar values and see if it works"
   ]
  },
  {
   "cell_type": "code",
   "execution_count": 31,
   "id": "48e31862",
   "metadata": {},
   "outputs": [
    {
     "name": "stdout",
     "output_type": "stream",
     "text": [
      "[1, 1, 1, 34, 56, 3, 56, 43, 34]\n"
     ]
    }
   ],
   "source": [
    "lst_1 = [1, 1, 1, 34, 56, 3, 56, 43, 34]\n",
    "print(lst_1)"
   ]
  },
  {
   "cell_type": "code",
   "execution_count": 32,
   "id": "d2e33553",
   "metadata": {},
   "outputs": [
    {
     "data": {
      "text/plain": [
       "0"
      ]
     },
     "execution_count": 32,
     "metadata": {},
     "output_type": "execute_result"
    }
   ],
   "source": [
    "lst_1.index(1)"
   ]
  },
  {
   "cell_type": "code",
   "execution_count": 33,
   "id": "7210fa57",
   "metadata": {},
   "outputs": [
    {
     "data": {
      "text/plain": [
       "array([ 1,  1,  1,  3, 34, 34, 43, 56, 56])"
      ]
     },
     "execution_count": 33,
     "metadata": {},
     "output_type": "execute_result"
    }
   ],
   "source": [
    "import numpy\n",
    "numpy.sort(lst_1)"
   ]
  },
  {
   "cell_type": "code",
   "execution_count": null,
   "id": "c584e6ce",
   "metadata": {},
   "outputs": [],
   "source": []
  }
 ],
 "metadata": {
  "kernelspec": {
   "display_name": "Python 3",
   "language": "python",
   "name": "python3"
  },
  "language_info": {
   "codemirror_mode": {
    "name": "ipython",
    "version": 3
   },
   "file_extension": ".py",
   "mimetype": "text/x-python",
   "name": "python",
   "nbconvert_exporter": "python",
   "pygments_lexer": "ipython3",
   "version": "3.8.8"
  }
 },
 "nbformat": 4,
 "nbformat_minor": 5
}
