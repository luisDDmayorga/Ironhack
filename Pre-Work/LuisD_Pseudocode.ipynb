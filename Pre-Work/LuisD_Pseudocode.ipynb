{
 "cells": [
  {
   "cell_type": "markdown",
   "id": "57697fec",
   "metadata": {},
   "source": [
    "# 1. Exercise - Writing Pseudocode"
   ]
  },
  {
   "cell_type": "markdown",
   "id": "7572a316",
   "metadata": {},
   "source": [
    "You are witnessing an epic battle between two powerful sorcerers: Gandalf and Saruman. Each sorcerer has 10 spells of different powers in their mind and they are going to throw them one after the other. The winner of the duel will be the one who wins more of those clashes between spells. Spells are represented as a list of 10 integers whose value equals the power of the spell."
   ]
  },
  {
   "cell_type": "code",
   "execution_count": 1,
   "id": "0ff192d1",
   "metadata": {},
   "outputs": [],
   "source": [
    "gandalf = [10, 11, 13, 30, 22, 11, 10, 33, 22, 22]\n",
    "saruman = [23, 66, 12, 43, 12, 10, 44, 23, 12, 17]"
   ]
  },
  {
   "cell_type": "markdown",
   "id": "95e04ca4",
   "metadata": {},
   "source": [
    "For example:\n",
    "The first clash is won by Saruman: 10 against 23\n",
    "The second clash is won by Saruman: 11 against 66 etc.\n",
    "You will create two variables, one for each sorcerer, where the total of number of clashes won by each sorcerer will be stored. Depending on which variable is greater at the end of the duel, you will show one of the following three results on the screen:"
   ]
  },
  {
   "cell_type": "raw",
   "id": "9d197cef",
   "metadata": {},
   "source": [
    "Gandalf wins\n",
    "Saruman wins\n",
    "Tie"
   ]
  },
  {
   "cell_type": "markdown",
   "id": "665b18a8",
   "metadata": {},
   "source": [
    "Write pseudocode to solve this problem and then code it!"
   ]
  },
  {
   "cell_type": "raw",
   "id": "049cc480",
   "metadata": {},
   "source": [
    "Before starting the fight:\n",
    "gandalf_wins = 0\n",
    "saruman_wins = 0\n",
    "for each battle:\n",
    "    if power thrown by gandalf > power thrown by saruman:\n",
    "       gandalf_wins = gandalf_wins + 1\n",
    "    elif power thrown by saruman > power trown by gandalf:\n",
    "       saruman_wins = saruman_wins + 1\n",
    "    else:\n",
    "       saruman_wins = saruman_wins + 1\n",
    "       gandalf_wins = gandalf_wins + 1\n",
    "if gandalf_wins > saruman_wins:\n",
    "   print(\"Gandalf wins\")\n",
    "elif saruman_wins > gandalf_wins:\n",
    "   print(\"Saruman wins\")\n",
    "else:\n",
    "   print(\"Tie\")"
   ]
  },
  {
   "cell_type": "code",
   "execution_count": 54,
   "id": "65d6c09a",
   "metadata": {},
   "outputs": [
    {
     "name": "stdout",
     "output_type": "stream",
     "text": [
      "Gandalf's wins:  6\n",
      "Saruman's wins:  4\n",
      "Gandalf wins\n"
     ]
    }
   ],
   "source": [
    "gandalf_wins = 0\n",
    "saruman_wins = 0\n",
    "for i in range(10):\n",
    "    if gandalf[i] > saruman[i]:\n",
    "       gandalf_wins = gandalf_wins + 1\n",
    "    elif saruman[i] > gandalf[i]:\n",
    "       saruman_wins = saruman_wins + 1\n",
    "    else:\n",
    "       saruman_wins = saruman_wins + 1\n",
    "       gandalf_wins = gandalf_wins + 1\n",
    "print(\"Gandalf's wins: \", gandalf_wins)\n",
    "print(\"Saruman's wins: \", saruman_wins)\n",
    "if gandalf_wins > saruman_wins:\n",
    "   print(\"Gandalf wins\")\n",
    "elif saruman_wins > gandalf_wins:\n",
    "   print(\"Saruman wins\")\n",
    "else:\n",
    "   print(\"Tie\")"
   ]
  },
  {
   "cell_type": "code",
   "execution_count": null,
   "id": "acc1aa55",
   "metadata": {},
   "outputs": [],
   "source": []
  }
 ],
 "metadata": {
  "kernelspec": {
   "display_name": "Python 3",
   "language": "python",
   "name": "python3"
  },
  "language_info": {
   "codemirror_mode": {
    "name": "ipython",
    "version": 3
   },
   "file_extension": ".py",
   "mimetype": "text/x-python",
   "name": "python",
   "nbconvert_exporter": "python",
   "pygments_lexer": "ipython3",
   "version": "3.8.8"
  }
 },
 "nbformat": 4,
 "nbformat_minor": 5
}
