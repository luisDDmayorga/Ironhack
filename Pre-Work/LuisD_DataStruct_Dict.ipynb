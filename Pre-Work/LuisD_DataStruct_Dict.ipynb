{
 "cells": [
  {
   "cell_type": "markdown",
   "id": "90b2ddcb",
   "metadata": {},
   "source": [
    "# 1. Exercises - Dictionaries"
   ]
  },
  {
   "cell_type": "markdown",
   "id": "f95078ac",
   "metadata": {},
   "source": [
    "1. Use the dictionary given below. This is a dictionary that shows the frequency of the words in a text paragraph. The keys are the words, and the values are its frequency.\n",
    "\n"
   ]
  },
  {
   "cell_type": "code",
   "execution_count": 16,
   "id": "09b13d96",
   "metadata": {},
   "outputs": [],
   "source": [
    "word_freq = {\n",
    "  'love': 25,\n",
    "  'conversation': 1,\n",
    "  'every': 6,\n",
    "  \"we're\": 1,\n",
    "  'plate': 1,\n",
    "  'sour': 1,\n",
    "  'jukebox': 1,\n",
    "  'now': 11,\n",
    "  'taxi': 1,\n",
    "  'fast': 1,\n",
    "  'bag': 1,\n",
    "  'man': 1,\n",
    "  'push': 3,\n",
    "  'baby': 14,\n",
    "  'going': 1,\n",
    "  'you': 16,\n",
    "  \"don't\": 2,\n",
    "  'one': 1,\n",
    "  'mind': 2,\n",
    "  'backseat': 1,\n",
    "  'friends': 1,\n",
    "  'then': 3,\n",
    "  'know': 2\n",
    "}\n"
   ]
  },
  {
   "cell_type": "markdown",
   "id": "38202600",
   "metadata": {},
   "source": [
    "Answer the following questions:   \n",
    "\n",
    "- How many *key-value* pairs are in this dictionary?\n",
    "- What *keys* are present in this dictionary? \n",
    "- What is the frequency of following words in the dictionary: \n",
    "    - 'friends'\n",
    "    - 'taxi' \n",
    "    - 'jukebox'\n",
    "- Is the word `begin` present in the dictionary?\n",
    "- Add the following words and their frequencies to the dictionary:\n",
    "        - 'begin': 1\n",
    "        - 'start': 2\n",
    "        - 'over': 1\n",
    "        - 'body': 17\n",
    "- Use the following code to convert the result from `word_freq.keys()` to a list: `list(word_freq.keys())`.\n",
    "  - Store the results of the above code in a variable called `word`.\n",
    "  - What is the first word in the dictionary? What is the frequency of that word?\n",
    "  - What is the last word in the dictionary? What is the frequency of that word?"
   ]
  },
  {
   "cell_type": "code",
   "execution_count": 7,
   "id": "e050826b",
   "metadata": {},
   "outputs": [
    {
     "data": {
      "text/plain": [
       "23"
      ]
     },
     "execution_count": 7,
     "metadata": {},
     "output_type": "execute_result"
    }
   ],
   "source": [
    "len(word_freq.keys())"
   ]
  },
  {
   "cell_type": "code",
   "execution_count": 8,
   "id": "193b1105",
   "metadata": {},
   "outputs": [
    {
     "data": {
      "text/plain": [
       "dict_keys(['love', 'conversation', 'every', \"we're\", 'plate', 'sour', 'jukebox', 'now', 'taxi', 'fast', 'bag', 'man', 'push', 'baby', 'going', 'you', \"don't\", 'one', 'mind', 'backseat', 'friends', 'then', 'know'])"
      ]
     },
     "execution_count": 8,
     "metadata": {},
     "output_type": "execute_result"
    }
   ],
   "source": [
    "word_freq.keys()"
   ]
  },
  {
   "cell_type": "code",
   "execution_count": 3,
   "id": "cb67017c",
   "metadata": {},
   "outputs": [
    {
     "data": {
      "text/plain": [
       "1"
      ]
     },
     "execution_count": 3,
     "metadata": {},
     "output_type": "execute_result"
    }
   ],
   "source": [
    "word_freq['friends']"
   ]
  },
  {
   "cell_type": "code",
   "execution_count": 4,
   "id": "9232cfa3",
   "metadata": {},
   "outputs": [
    {
     "data": {
      "text/plain": [
       "1"
      ]
     },
     "execution_count": 4,
     "metadata": {},
     "output_type": "execute_result"
    }
   ],
   "source": [
    "word_freq[\"taxi\"]"
   ]
  },
  {
   "cell_type": "code",
   "execution_count": 5,
   "id": "a19c7d16",
   "metadata": {},
   "outputs": [
    {
     "data": {
      "text/plain": [
       "1"
      ]
     },
     "execution_count": 5,
     "metadata": {},
     "output_type": "execute_result"
    }
   ],
   "source": [
    "word_freq[\"jukebox\"]"
   ]
  },
  {
   "cell_type": "code",
   "execution_count": 12,
   "id": "ad06410c",
   "metadata": {},
   "outputs": [
    {
     "data": {
      "text/plain": [
       "False"
      ]
     },
     "execution_count": 12,
     "metadata": {},
     "output_type": "execute_result"
    }
   ],
   "source": [
    "\"begin\" in word_freq"
   ]
  },
  {
   "cell_type": "code",
   "execution_count": 19,
   "id": "92209dfb",
   "metadata": {},
   "outputs": [],
   "source": [
    "word_freq[\"begin\"]=1\n",
    "word_freq[\"start\"]=2\n",
    "word_freq[\"over\"]=1\n",
    "word_freq[\"body\"]=17"
   ]
  },
  {
   "cell_type": "code",
   "execution_count": 22,
   "id": "c161d4be",
   "metadata": {},
   "outputs": [],
   "source": [
    "list(word_freq.keys())"
   ]
  },
  {
   "cell_type": "code",
   "execution_count": 26,
   "id": "133a40e5",
   "metadata": {},
   "outputs": [
    {
     "data": {
      "text/plain": [
       "'love'"
      ]
     },
     "execution_count": 26,
     "metadata": {},
     "output_type": "execute_result"
    }
   ],
   "source": [
    "word[0]\n"
   ]
  },
  {
   "cell_type": "code",
   "execution_count": 24,
   "id": "1c679579",
   "metadata": {},
   "outputs": [
    {
     "data": {
      "text/plain": [
       "25"
      ]
     },
     "execution_count": 24,
     "metadata": {},
     "output_type": "execute_result"
    }
   ],
   "source": [
    "word_freq[word[0]]"
   ]
  },
  {
   "cell_type": "code",
   "execution_count": 25,
   "id": "6a8d0043",
   "metadata": {},
   "outputs": [
    {
     "data": {
      "text/plain": [
       "'body'"
      ]
     },
     "execution_count": 25,
     "metadata": {},
     "output_type": "execute_result"
    }
   ],
   "source": [
    "word[-1]"
   ]
  },
  {
   "cell_type": "code",
   "execution_count": 27,
   "id": "05075cb8",
   "metadata": {},
   "outputs": [
    {
     "data": {
      "text/plain": [
       "17"
      ]
     },
     "execution_count": 27,
     "metadata": {},
     "output_type": "execute_result"
    }
   ],
   "source": [
    "word_freq[word[-1]]"
   ]
  },
  {
   "cell_type": "markdown",
   "id": "cff16790",
   "metadata": {},
   "source": [
    "1.2 Can a dictionary have two key-value pairs with the same key?"
   ]
  },
  {
   "cell_type": "markdown",
   "id": "d013f118",
   "metadata": {},
   "source": [
    "No, each key in a dictionary should be unique. Attempting to use the same key again will just overwrite the previous value stored. If a key needs to store multiple values, then the value associated with the key should be a list or another dictionary."
   ]
  },
  {
   "cell_type": "markdown",
   "id": "82ed949c",
   "metadata": {},
   "source": [
    "1.3 Can a dictionary have two key-value pairs with the same value but different keys?"
   ]
  },
  {
   "cell_type": "markdown",
   "id": "0331a8d0",
   "metadata": {},
   "source": [
    "Yes it can. We could see it in some key-values of the \"word_freq\" dictionary above."
   ]
  },
  {
   "cell_type": "code",
   "execution_count": null,
   "id": "6432eca6",
   "metadata": {},
   "outputs": [],
   "source": []
  }
 ],
 "metadata": {
  "kernelspec": {
   "display_name": "Python 3",
   "language": "python",
   "name": "python3"
  },
  "language_info": {
   "codemirror_mode": {
    "name": "ipython",
    "version": 3
   },
   "file_extension": ".py",
   "mimetype": "text/x-python",
   "name": "python",
   "nbconvert_exporter": "python",
   "pygments_lexer": "ipython3",
   "version": "3.8.8"
  }
 },
 "nbformat": 4,
 "nbformat_minor": 5
}
