{
 "cells": [
  {
   "cell_type": "markdown",
   "id": "a5370287",
   "metadata": {},
   "source": [
    "# 1. Exercise - Generation calculator"
   ]
  },
  {
   "cell_type": "markdown",
   "id": "d8a283ea",
   "metadata": {},
   "source": [
    "Create a “generation calculator” to help determine the generation you belong to according to your birth year. Follow the below information:"
   ]
  },
  {
   "cell_type": "raw",
   "id": "bc9e155d",
   "metadata": {},
   "source": [
    "+-----------------+---------------------+\n",
    "|  birth_year     |      generation     |\n",
    "+-----------------+---------------------+\n",
    "|     < 1949      |  silent generation  |\n",
    "+-----------------+---------------------+\n",
    "|     < 1969      |     baby boomer     |\n",
    "+-----------------+---------------------+\n",
    "|     < 1981      |     X generation    |\n",
    "+-----------------+---------------------+\n",
    "|     < 1994      |      millennial     |\n",
    "+-----------------+---------------------+\n",
    "|     > 1994      |    Z generation     |\n",
    "+-----------------+---------------------+\n"
   ]
  },
  {
   "cell_type": "markdown",
   "id": "71f1206c",
   "metadata": {},
   "source": [
    "Let’s add some “fake” users whose data we will be using to validate if the function gives us the correct and expected result."
   ]
  },
  {
   "cell_type": "code",
   "execution_count": 6,
   "id": "eaf12f10",
   "metadata": {},
   "outputs": [],
   "source": [
    "name1 = \"Jonh\"\n",
    "birth_year1 = 1989\n",
    "\n",
    "name2 = \"Mari\"\n",
    "birth_year2 = 1995\n",
    "\n",
    "name3 = \"Mich\"\n",
    "birth_year3 = 1960\n",
    "\n",
    "name4 = \"James\"\n",
    "birth_year4 = 2000\n",
    "\n",
    "name5 = \"Anthony\"\n",
    "birth_year5 = 1930"
   ]
  },
  {
   "cell_type": "markdown",
   "id": "1aa039da",
   "metadata": {},
   "source": [
    "1. Define the function generation calculator & add both parameters to represent both variables we are going to need in this function."
   ]
  },
  {
   "cell_type": "markdown",
   "id": "0484c89d",
   "metadata": {},
   "source": [
    "2. Determine generation as a birth year (we need to know the year to be able to calculate)."
   ]
  },
  {
   "cell_type": "markdown",
   "id": "aadc54ab",
   "metadata": {},
   "source": [
    "3. Print the results."
   ]
  },
  {
   "cell_type": "markdown",
   "id": "31cdf181",
   "metadata": {},
   "source": [
    "4. Write conditionals for each generation. For example, if you were born before 1949 you would be a “silent generation”."
   ]
  },
  {
   "cell_type": "markdown",
   "id": "f26426ea",
   "metadata": {},
   "source": [
    "5. Define variables for each result."
   ]
  },
  {
   "cell_type": "markdown",
   "id": "63f6fc2c",
   "metadata": {},
   "source": [
    "6. Show results."
   ]
  },
  {
   "cell_type": "code",
   "execution_count": 10,
   "id": "8031261d",
   "metadata": {},
   "outputs": [],
   "source": [
    "def generation_calculator (name, birth_year):\n",
    "    generation = birth_year\n",
    "    print (\"Generation: \", generation)\n",
    "    if generation < 1949:\n",
    "        return name + \" is silent generation\"\n",
    "    if generation < 1969:\n",
    "        return name + \" is baby boomer\"\n",
    "    if generation < 1981:\n",
    "        return name + \" is X generation\"\n",
    "    if generation < 1994:\n",
    "        return name + \" is millennial\"\n",
    "    else:\n",
    "        return name + \" is Z generation\"\n"
   ]
  },
  {
   "cell_type": "code",
   "execution_count": 11,
   "id": "557953d5",
   "metadata": {},
   "outputs": [
    {
     "name": "stdout",
     "output_type": "stream",
     "text": [
      "Generation:  1989\n",
      "Generation:  1995\n",
      "Generation:  1960\n",
      "Generation:  2000\n",
      "Generation:  1930\n"
     ]
    }
   ],
   "source": [
    "result1 = generation_calculator (name1, birth_year1)\n",
    "result2 = generation_calculator (name2, birth_year2)\n",
    "result3 = generation_calculator (name3, birth_year3)\n",
    "result4 = generation_calculator (name4, birth_year4)\n",
    "result5 = generation_calculator (name5, birth_year5)"
   ]
  },
  {
   "cell_type": "code",
   "execution_count": 12,
   "id": "90a42ed4",
   "metadata": {},
   "outputs": [
    {
     "name": "stdout",
     "output_type": "stream",
     "text": [
      "Jonh is millennial\n",
      "Mari is Z generation\n",
      "Mich is baby boomer\n",
      "James is Z generation\n",
      "Anthony is silent generation\n"
     ]
    }
   ],
   "source": [
    "print (result1)\n",
    "print (result2)\n",
    "print (result3)\n",
    "print (result4)\n",
    "print (result5)"
   ]
  }
 ],
 "metadata": {
  "kernelspec": {
   "display_name": "Python 3",
   "language": "python",
   "name": "python3"
  },
  "language_info": {
   "codemirror_mode": {
    "name": "ipython",
    "version": 3
   },
   "file_extension": ".py",
   "mimetype": "text/x-python",
   "name": "python",
   "nbconvert_exporter": "python",
   "pygments_lexer": "ipython3",
   "version": "3.8.8"
  }
 },
 "nbformat": 4,
 "nbformat_minor": 5
}
