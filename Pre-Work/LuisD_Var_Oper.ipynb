{
 "cells": [
  {
   "cell_type": "markdown",
   "id": "28dbd36e",
   "metadata": {},
   "source": [
    "1. Exercise - Variables\n",
    "\n",
    "For the following variables, use the function type() from Python to check the data type for the variables.\n"
   ]
  },
  {
   "cell_type": "code",
   "execution_count": 1,
   "id": "50246df8",
   "metadata": {},
   "outputs": [],
   "source": [
    "x1 = 1.1\n",
    "x2 = \"Ironhack\"\n",
    "x3 = \"1.1\"\n",
    "x4 = True\n",
    "x5 = \"True\"\n",
    "x6 = -1\n"
   ]
  },
  {
   "cell_type": "code",
   "execution_count": 10,
   "id": "555def62",
   "metadata": {},
   "outputs": [
    {
     "data": {
      "text/plain": [
       "(float, str, str, bool, str, int)"
      ]
     },
     "execution_count": 10,
     "metadata": {},
     "output_type": "execute_result"
    }
   ],
   "source": [
    "type(x1), type(x2), type(x3), type(x4), type(x5), type(x6)"
   ]
  },
  {
   "cell_type": "markdown",
   "id": "651b8acc",
   "metadata": {},
   "source": [
    "1.2 What is the difference between variables x1 and x3?"
   ]
  },
  {
   "cell_type": "code",
   "execution_count": 11,
   "id": "d5a001b1",
   "metadata": {},
   "outputs": [
    {
     "name": "stdout",
     "output_type": "stream",
     "text": [
      "The difference between x1 and x3 is that the first one is a  <class 'float'> and the second one is a  <class 'str'>\n"
     ]
    }
   ],
   "source": [
    "tx1=type(x1)\n",
    "tx3=type(x3)\n",
    "print(\"The difference between x1 and x3 is that the first one is a \", tx1, \"and the second one is a \", tx3)"
   ]
  },
  {
   "cell_type": "markdown",
   "id": "b1ecca69",
   "metadata": {},
   "source": [
    "1.3 What is the difference between variables x4 and x5?"
   ]
  },
  {
   "cell_type": "code",
   "execution_count": 13,
   "id": "975f85d4",
   "metadata": {},
   "outputs": [
    {
     "name": "stdout",
     "output_type": "stream",
     "text": [
      "The difference between x4 and x5 is that the first one is a  <class 'bool'> and the second one is a  <class 'str'>\n"
     ]
    }
   ],
   "source": [
    "tx4=type(x4)\n",
    "tx5=type(x5)\n",
    "print(\"The difference between x4 and x5 is that the first one is a \", tx4, \"and the second one is a \", tx5)"
   ]
  },
  {
   "cell_type": "markdown",
   "id": "c97aa879",
   "metadata": {},
   "source": [
    "2. Exercise - Operators"
   ]
  },
  {
   "cell_type": "markdown",
   "id": "798b2b2b",
   "metadata": {},
   "source": [
    "2.1 In this problem we will show you how to take a user input. Use the code and then answer the questions that follow:"
   ]
  },
  {
   "cell_type": "code",
   "execution_count": 16,
   "id": "732e1c4a",
   "metadata": {},
   "outputs": [
    {
     "name": "stdout",
     "output_type": "stream",
     "text": [
      "Please enter an integer number: 7\n",
      "Please enter another integer number: 34\n"
     ]
    }
   ],
   "source": [
    "x1 = input(\"Please enter an integer number: \")\n",
    "\n",
    "x2 = input(\"Please enter another integer number: \")\n"
   ]
  },
  {
   "cell_type": "markdown",
   "id": "e657e125",
   "metadata": {},
   "source": [
    "Question 1: Print the values of the two variables."
   ]
  },
  {
   "cell_type": "code",
   "execution_count": 17,
   "id": "bfdd601e",
   "metadata": {},
   "outputs": [
    {
     "data": {
      "text/plain": [
       "(str, str)"
      ]
     },
     "execution_count": 17,
     "metadata": {},
     "output_type": "execute_result"
    }
   ],
   "source": [
    "type(x1), type(x2)"
   ]
  },
  {
   "cell_type": "markdown",
   "id": "1b415f5c",
   "metadata": {},
   "source": [
    "Now we do some data type conversion from string to integers:"
   ]
  },
  {
   "cell_type": "code",
   "execution_count": 18,
   "id": "b4c44eeb",
   "metadata": {},
   "outputs": [],
   "source": [
    "x1 = int(x1) # This converts string into integer and re-initializes `x1`\n",
    "x2 = int(x2) # This converts string into integer and re-initializes `x2`"
   ]
  },
  {
   "cell_type": "markdown",
   "id": "6391076e",
   "metadata": {},
   "source": [
    "Question 2: What is the data type of x1 and x2?"
   ]
  },
  {
   "cell_type": "code",
   "execution_count": 19,
   "id": "b56cc93e",
   "metadata": {},
   "outputs": [
    {
     "data": {
      "text/plain": [
       "(int, int)"
      ]
     },
     "execution_count": 19,
     "metadata": {},
     "output_type": "execute_result"
    }
   ],
   "source": [
    "type(x1), type(x2)"
   ]
  },
  {
   "cell_type": "markdown",
   "id": "c06e7ff4",
   "metadata": {},
   "source": [
    " Now perform simple comparisons between x1 and x2:"
   ]
  },
  {
   "cell_type": "markdown",
   "id": "2cc5be65",
   "metadata": {},
   "source": [
    "Check if the two variables are equal."
   ]
  },
  {
   "cell_type": "markdown",
   "id": "9729f8dd",
   "metadata": {},
   "source": [
    "Check if x1 is greater than x2."
   ]
  },
  {
   "cell_type": "markdown",
   "id": "99ebd141",
   "metadata": {},
   "source": [
    "Check if x2 is greater than x1."
   ]
  },
  {
   "cell_type": "markdown",
   "id": "df0fccb8",
   "metadata": {},
   "source": [
    "Check if x1 is not equal to x2."
   ]
  },
  {
   "cell_type": "markdown",
   "id": "93e6393d",
   "metadata": {},
   "source": [
    "Store the difference between the two variables x1 and x2 in another variable x3 (subtract the smaller number from the larger number)."
   ]
  },
  {
   "cell_type": "markdown",
   "id": "ebdaf8ef",
   "metadata": {},
   "source": [
    "Increment the smaller of the two variables (x1 and x2) with the difference.Use the shorthand addition operator for the same. Again check if x1 and x2 are equal or not."
   ]
  },
  {
   "cell_type": "code",
   "execution_count": 22,
   "id": "b836cd09",
   "metadata": {},
   "outputs": [
    {
     "data": {
      "text/plain": [
       "(False, False, True, True)"
      ]
     },
     "execution_count": 22,
     "metadata": {},
     "output_type": "execute_result"
    }
   ],
   "source": [
    "x1==x2 , x1>x2 , x2>x1 , x1!=x2"
   ]
  },
  {
   "cell_type": "code",
   "execution_count": 23,
   "id": "6a4ba0b0",
   "metadata": {},
   "outputs": [],
   "source": [
    "x3 = x2-x1"
   ]
  },
  {
   "cell_type": "code",
   "execution_count": 24,
   "id": "1bc11deb",
   "metadata": {},
   "outputs": [],
   "source": [
    "x1=x1+x3"
   ]
  },
  {
   "cell_type": "code",
   "execution_count": 25,
   "id": "2aa6ce0f",
   "metadata": {},
   "outputs": [
    {
     "data": {
      "text/plain": [
       "True"
      ]
     },
     "execution_count": 25,
     "metadata": {},
     "output_type": "execute_result"
    }
   ],
   "source": [
    "x1==x2"
   ]
  },
  {
   "cell_type": "markdown",
   "id": "c97a6d7b",
   "metadata": {},
   "source": [
    "2.2 In the lesson, we talked about math library in Python. Here is a link to the math library documentation. Go through the documentation and try any 3 or more functions on a numerical variable that were not described in the lesson."
   ]
  },
  {
   "cell_type": "code",
   "execution_count": 26,
   "id": "04ad192f",
   "metadata": {},
   "outputs": [
    {
     "data": {
      "text/plain": [
       "35"
      ]
     },
     "execution_count": 26,
     "metadata": {},
     "output_type": "execute_result"
    }
   ],
   "source": [
    "x=34.67\n",
    "import math\n",
    "\n",
    "math.ceil(x)"
   ]
  },
  {
   "cell_type": "code",
   "execution_count": 27,
   "id": "402f306e",
   "metadata": {},
   "outputs": [
    {
     "data": {
      "text/plain": [
       "295232799039604140847618609643520000000"
      ]
     },
     "execution_count": 27,
     "metadata": {},
     "output_type": "execute_result"
    }
   ],
   "source": [
    "x=34\n",
    "import math\n",
    "\n",
    "math.factorial(x)"
   ]
  },
  {
   "cell_type": "code",
   "execution_count": 28,
   "id": "86e74a6d",
   "metadata": {},
   "outputs": [
    {
     "data": {
      "text/plain": [
       "5"
      ]
     },
     "execution_count": 28,
     "metadata": {},
     "output_type": "execute_result"
    }
   ],
   "source": [
    "x=34\n",
    "import math\n",
    "\n",
    "math.isqrt(x)"
   ]
  },
  {
   "cell_type": "code",
   "execution_count": null,
   "id": "20b195ad",
   "metadata": {},
   "outputs": [],
   "source": []
  }
 ],
 "metadata": {
  "kernelspec": {
   "display_name": "Python 3",
   "language": "python",
   "name": "python3"
  },
  "language_info": {
   "codemirror_mode": {
    "name": "ipython",
    "version": 3
   },
   "file_extension": ".py",
   "mimetype": "text/x-python",
   "name": "python",
   "nbconvert_exporter": "python",
   "pygments_lexer": "ipython3",
   "version": "3.8.8"
  }
 },
 "nbformat": 4,
 "nbformat_minor": 5
}
